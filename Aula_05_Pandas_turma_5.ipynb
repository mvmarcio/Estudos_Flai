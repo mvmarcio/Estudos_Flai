{
  "nbformat": 4,
  "nbformat_minor": 0,
  "metadata": {
    "colab": {
      "name": "Aula_05_Pandas_turma_5.ipynb",
      "provenance": [],
      "authorship_tag": "ABX9TyOuqzFOaBcxj8AifLTR8s3y",
      "include_colab_link": true
    },
    "kernelspec": {
      "name": "python3",
      "display_name": "Python 3"
    },
    "language_info": {
      "name": "python"
    }
  },
  "cells": [
    {
      "cell_type": "markdown",
      "metadata": {
        "id": "view-in-github",
        "colab_type": "text"
      },
      "source": [
        "<a href=\"https://colab.research.google.com/github/mvmarcio/Estudos_Flai/blob/main/Aula_05_Pandas_turma_5.ipynb\" target=\"_parent\"><img src=\"https://colab.research.google.com/assets/colab-badge.svg\" alt=\"Open In Colab\"/></a>"
      ]
    },
    {
      "cell_type": "markdown",
      "metadata": {
        "id": "KqZXkKvBnE0Q"
      },
      "source": [
        "# **Introdução ao Pandas**\n",
        "\n",
        "O objetivo desta nota de aula é utilizar os conceitos básicos da bibliotecas PANDAS e outras funções *default* do Python. \n",
        "\n",
        "As notas foram baseadas na Aula 05 da turma 5 da Comunidade Flay. O *data frame* foi feito aleatoriamente pelo autor. "
      ]
    },
    {
      "cell_type": "markdown",
      "metadata": {
        "id": "vqRMtOXynU7n"
      },
      "source": [
        "## **Dicionário**"
      ]
    },
    {
      "cell_type": "code",
      "metadata": {
        "colab": {
          "base_uri": "https://localhost:8080/"
        },
        "id": "ZHZAUSLRnJyd",
        "outputId": "2a2612b0-f28a-4dc3-cd94-62c5df70c5a2"
      },
      "source": [
        "dicionario = {'nome': 'Pitoco', 'idade': 50, 'função favorita': print}\n",
        "dicionario"
      ],
      "execution_count": 1,
      "outputs": [
        {
          "output_type": "execute_result",
          "data": {
            "text/plain": [
              "{'função favorita': <function print>, 'idade': 50, 'nome': 'Pitoco'}"
            ]
          },
          "metadata": {
            "tags": []
          },
          "execution_count": 1
        }
      ]
    },
    {
      "cell_type": "code",
      "metadata": {
        "colab": {
          "base_uri": "https://localhost:8080/"
        },
        "id": "tYd9jzNantKf",
        "outputId": "946cbfb2-11c5-41c2-e041-0bd044735b40"
      },
      "source": [
        "dicionario['idade']"
      ],
      "execution_count": 2,
      "outputs": [
        {
          "output_type": "execute_result",
          "data": {
            "text/plain": [
              "50"
            ]
          },
          "metadata": {
            "tags": []
          },
          "execution_count": 2
        }
      ]
    },
    {
      "cell_type": "code",
      "metadata": {
        "colab": {
          "base_uri": "https://localhost:8080/"
        },
        "id": "lgroLactn04M",
        "outputId": "2f9058e4-7e61-43c4-b029-669f0abde52e"
      },
      "source": [
        "import numpy as np\n",
        "\n",
        "np.random.uniform(low = 2, high = 9, size = 5).round(2)"
      ],
      "execution_count": 3,
      "outputs": [
        {
          "output_type": "execute_result",
          "data": {
            "text/plain": [
              "array([2.04, 6.65, 7.85, 4.08, 6.18])"
            ]
          },
          "metadata": {
            "tags": []
          },
          "execution_count": 3
        }
      ]
    },
    {
      "cell_type": "code",
      "metadata": {
        "colab": {
          "base_uri": "https://localhost:8080/"
        },
        "id": "X-11r1eOoCaV",
        "outputId": "f7a0ef2c-bbbe-4093-e167-88a04221c704"
      },
      "source": [
        "parametros = {'low':2,\n",
        "              'high':9,\n",
        "              'size':5}\n",
        "\n",
        "np.random.uniform(**parametros)\n",
        "\n",
        "#* para lista\n",
        "#** para dicionário"
      ],
      "execution_count": 4,
      "outputs": [
        {
          "output_type": "execute_result",
          "data": {
            "text/plain": [
              "array([6.9017145 , 4.63425655, 6.19598226, 5.57689852, 2.1279769 ])"
            ]
          },
          "metadata": {
            "tags": []
          },
          "execution_count": 4
        }
      ]
    },
    {
      "cell_type": "code",
      "metadata": {
        "colab": {
          "base_uri": "https://localhost:8080/",
          "height": 266
        },
        "id": "Zl7PBY_XoiB2",
        "outputId": "0804ce7c-eeb7-4ff8-9b84-30556c563372"
      },
      "source": [
        "import pandas as pd\n",
        "\n",
        "# Series (só uma coluna do DataFrame)\n",
        "# DataFrame\n",
        "\n",
        "notas_alunos = {'P1': np.random.uniform(2, 9, 7).round(2),\n",
        "                'P2': np.random.uniform(2, 9, 7).round(2),\n",
        "                'P3': np.random.uniform(2, 9, 7).round(2)}\n",
        "\n",
        "nomes = ['Pitoco', 'Rodolfo', 'Neil', 'Youri', 'Sputinic', 'RZO', 'Ryu']\n",
        "notas = pd.DataFrame(notas_alunos, index = nomes)\n",
        "notas"
      ],
      "execution_count": 5,
      "outputs": [
        {
          "output_type": "execute_result",
          "data": {
            "text/html": [
              "<div>\n",
              "<style scoped>\n",
              "    .dataframe tbody tr th:only-of-type {\n",
              "        vertical-align: middle;\n",
              "    }\n",
              "\n",
              "    .dataframe tbody tr th {\n",
              "        vertical-align: top;\n",
              "    }\n",
              "\n",
              "    .dataframe thead th {\n",
              "        text-align: right;\n",
              "    }\n",
              "</style>\n",
              "<table border=\"1\" class=\"dataframe\">\n",
              "  <thead>\n",
              "    <tr style=\"text-align: right;\">\n",
              "      <th></th>\n",
              "      <th>P1</th>\n",
              "      <th>P2</th>\n",
              "      <th>P3</th>\n",
              "    </tr>\n",
              "  </thead>\n",
              "  <tbody>\n",
              "    <tr>\n",
              "      <th>Pitoco</th>\n",
              "      <td>8.66</td>\n",
              "      <td>4.28</td>\n",
              "      <td>6.51</td>\n",
              "    </tr>\n",
              "    <tr>\n",
              "      <th>Rodolfo</th>\n",
              "      <td>6.82</td>\n",
              "      <td>2.40</td>\n",
              "      <td>2.30</td>\n",
              "    </tr>\n",
              "    <tr>\n",
              "      <th>Neil</th>\n",
              "      <td>5.28</td>\n",
              "      <td>8.85</td>\n",
              "      <td>5.21</td>\n",
              "    </tr>\n",
              "    <tr>\n",
              "      <th>Youri</th>\n",
              "      <td>3.83</td>\n",
              "      <td>3.27</td>\n",
              "      <td>5.44</td>\n",
              "    </tr>\n",
              "    <tr>\n",
              "      <th>Sputinic</th>\n",
              "      <td>8.54</td>\n",
              "      <td>2.38</td>\n",
              "      <td>4.89</td>\n",
              "    </tr>\n",
              "    <tr>\n",
              "      <th>RZO</th>\n",
              "      <td>7.30</td>\n",
              "      <td>2.09</td>\n",
              "      <td>5.60</td>\n",
              "    </tr>\n",
              "    <tr>\n",
              "      <th>Ryu</th>\n",
              "      <td>4.37</td>\n",
              "      <td>5.55</td>\n",
              "      <td>7.18</td>\n",
              "    </tr>\n",
              "  </tbody>\n",
              "</table>\n",
              "</div>"
            ],
            "text/plain": [
              "            P1    P2    P3\n",
              "Pitoco    8.66  4.28  6.51\n",
              "Rodolfo   6.82  2.40  2.30\n",
              "Neil      5.28  8.85  5.21\n",
              "Youri     3.83  3.27  5.44\n",
              "Sputinic  8.54  2.38  4.89\n",
              "RZO       7.30  2.09  5.60\n",
              "Ryu       4.37  5.55  7.18"
            ]
          },
          "metadata": {
            "tags": []
          },
          "execution_count": 5
        }
      ]
    },
    {
      "cell_type": "code",
      "metadata": {
        "colab": {
          "base_uri": "https://localhost:8080/"
        },
        "id": "PKnABQgesDDW",
        "outputId": "f9176c24-d818-4e19-8691-d84378184a76"
      },
      "source": [
        "notas.shape # atributos não precisamos fechar parênteses"
      ],
      "execution_count": 6,
      "outputs": [
        {
          "output_type": "execute_result",
          "data": {
            "text/plain": [
              "(7, 3)"
            ]
          },
          "metadata": {
            "tags": []
          },
          "execution_count": 6
        }
      ]
    },
    {
      "cell_type": "code",
      "metadata": {
        "colab": {
          "base_uri": "https://localhost:8080/",
          "height": 142
        },
        "id": "nHxpBWdYsPN-",
        "outputId": "245366ca-74c9-4c87-83bb-9ff46f02e081"
      },
      "source": [
        "notas.describe().T"
      ],
      "execution_count": 7,
      "outputs": [
        {
          "output_type": "execute_result",
          "data": {
            "text/html": [
              "<div>\n",
              "<style scoped>\n",
              "    .dataframe tbody tr th:only-of-type {\n",
              "        vertical-align: middle;\n",
              "    }\n",
              "\n",
              "    .dataframe tbody tr th {\n",
              "        vertical-align: top;\n",
              "    }\n",
              "\n",
              "    .dataframe thead th {\n",
              "        text-align: right;\n",
              "    }\n",
              "</style>\n",
              "<table border=\"1\" class=\"dataframe\">\n",
              "  <thead>\n",
              "    <tr style=\"text-align: right;\">\n",
              "      <th></th>\n",
              "      <th>count</th>\n",
              "      <th>mean</th>\n",
              "      <th>std</th>\n",
              "      <th>min</th>\n",
              "      <th>25%</th>\n",
              "      <th>50%</th>\n",
              "      <th>75%</th>\n",
              "      <th>max</th>\n",
              "    </tr>\n",
              "  </thead>\n",
              "  <tbody>\n",
              "    <tr>\n",
              "      <th>P1</th>\n",
              "      <td>7.0</td>\n",
              "      <td>6.400000</td>\n",
              "      <td>1.943099</td>\n",
              "      <td>3.83</td>\n",
              "      <td>4.825</td>\n",
              "      <td>6.82</td>\n",
              "      <td>7.920</td>\n",
              "      <td>8.66</td>\n",
              "    </tr>\n",
              "    <tr>\n",
              "      <th>P2</th>\n",
              "      <td>7.0</td>\n",
              "      <td>4.117143</td>\n",
              "      <td>2.424622</td>\n",
              "      <td>2.09</td>\n",
              "      <td>2.390</td>\n",
              "      <td>3.27</td>\n",
              "      <td>4.915</td>\n",
              "      <td>8.85</td>\n",
              "    </tr>\n",
              "    <tr>\n",
              "      <th>P3</th>\n",
              "      <td>7.0</td>\n",
              "      <td>5.304286</td>\n",
              "      <td>1.542950</td>\n",
              "      <td>2.30</td>\n",
              "      <td>5.050</td>\n",
              "      <td>5.44</td>\n",
              "      <td>6.055</td>\n",
              "      <td>7.18</td>\n",
              "    </tr>\n",
              "  </tbody>\n",
              "</table>\n",
              "</div>"
            ],
            "text/plain": [
              "    count      mean       std   min    25%   50%    75%   max\n",
              "P1    7.0  6.400000  1.943099  3.83  4.825  6.82  7.920  8.66\n",
              "P2    7.0  4.117143  2.424622  2.09  2.390  3.27  4.915  8.85\n",
              "P3    7.0  5.304286  1.542950  2.30  5.050  5.44  6.055  7.18"
            ]
          },
          "metadata": {
            "tags": []
          },
          "execution_count": 7
        }
      ]
    },
    {
      "cell_type": "code",
      "metadata": {
        "colab": {
          "base_uri": "https://localhost:8080/"
        },
        "id": "rBp5bX4Rsnn-",
        "outputId": "2aa1ad2c-1f3c-454f-87b3-87f4c6cc3167"
      },
      "source": [
        "notas.info()"
      ],
      "execution_count": 8,
      "outputs": [
        {
          "output_type": "stream",
          "text": [
            "<class 'pandas.core.frame.DataFrame'>\n",
            "Index: 7 entries, Pitoco to Ryu\n",
            "Data columns (total 3 columns):\n",
            " #   Column  Non-Null Count  Dtype  \n",
            "---  ------  --------------  -----  \n",
            " 0   P1      7 non-null      float64\n",
            " 1   P2      7 non-null      float64\n",
            " 2   P3      7 non-null      float64\n",
            "dtypes: float64(3)\n",
            "memory usage: 224.0+ bytes\n"
          ],
          "name": "stdout"
        }
      ]
    },
    {
      "cell_type": "code",
      "metadata": {
        "colab": {
          "base_uri": "https://localhost:8080/",
          "height": 204
        },
        "id": "4yGgbv5Nst6R",
        "outputId": "ce042b02-e305-4233-f342-78e86e18f6a1"
      },
      "source": [
        "notas.head()"
      ],
      "execution_count": 9,
      "outputs": [
        {
          "output_type": "execute_result",
          "data": {
            "text/html": [
              "<div>\n",
              "<style scoped>\n",
              "    .dataframe tbody tr th:only-of-type {\n",
              "        vertical-align: middle;\n",
              "    }\n",
              "\n",
              "    .dataframe tbody tr th {\n",
              "        vertical-align: top;\n",
              "    }\n",
              "\n",
              "    .dataframe thead th {\n",
              "        text-align: right;\n",
              "    }\n",
              "</style>\n",
              "<table border=\"1\" class=\"dataframe\">\n",
              "  <thead>\n",
              "    <tr style=\"text-align: right;\">\n",
              "      <th></th>\n",
              "      <th>P1</th>\n",
              "      <th>P2</th>\n",
              "      <th>P3</th>\n",
              "    </tr>\n",
              "  </thead>\n",
              "  <tbody>\n",
              "    <tr>\n",
              "      <th>Pitoco</th>\n",
              "      <td>8.66</td>\n",
              "      <td>4.28</td>\n",
              "      <td>6.51</td>\n",
              "    </tr>\n",
              "    <tr>\n",
              "      <th>Rodolfo</th>\n",
              "      <td>6.82</td>\n",
              "      <td>2.40</td>\n",
              "      <td>2.30</td>\n",
              "    </tr>\n",
              "    <tr>\n",
              "      <th>Neil</th>\n",
              "      <td>5.28</td>\n",
              "      <td>8.85</td>\n",
              "      <td>5.21</td>\n",
              "    </tr>\n",
              "    <tr>\n",
              "      <th>Youri</th>\n",
              "      <td>3.83</td>\n",
              "      <td>3.27</td>\n",
              "      <td>5.44</td>\n",
              "    </tr>\n",
              "    <tr>\n",
              "      <th>Sputinic</th>\n",
              "      <td>8.54</td>\n",
              "      <td>2.38</td>\n",
              "      <td>4.89</td>\n",
              "    </tr>\n",
              "  </tbody>\n",
              "</table>\n",
              "</div>"
            ],
            "text/plain": [
              "            P1    P2    P3\n",
              "Pitoco    8.66  4.28  6.51\n",
              "Rodolfo   6.82  2.40  2.30\n",
              "Neil      5.28  8.85  5.21\n",
              "Youri     3.83  3.27  5.44\n",
              "Sputinic  8.54  2.38  4.89"
            ]
          },
          "metadata": {
            "tags": []
          },
          "execution_count": 9
        }
      ]
    },
    {
      "cell_type": "code",
      "metadata": {
        "colab": {
          "base_uri": "https://localhost:8080/",
          "height": 204
        },
        "id": "Uu0Lb8-9syrh",
        "outputId": "92cd7f37-8694-42c5-fa42-fedbf3e665e5"
      },
      "source": [
        "notas.tail()"
      ],
      "execution_count": 10,
      "outputs": [
        {
          "output_type": "execute_result",
          "data": {
            "text/html": [
              "<div>\n",
              "<style scoped>\n",
              "    .dataframe tbody tr th:only-of-type {\n",
              "        vertical-align: middle;\n",
              "    }\n",
              "\n",
              "    .dataframe tbody tr th {\n",
              "        vertical-align: top;\n",
              "    }\n",
              "\n",
              "    .dataframe thead th {\n",
              "        text-align: right;\n",
              "    }\n",
              "</style>\n",
              "<table border=\"1\" class=\"dataframe\">\n",
              "  <thead>\n",
              "    <tr style=\"text-align: right;\">\n",
              "      <th></th>\n",
              "      <th>P1</th>\n",
              "      <th>P2</th>\n",
              "      <th>P3</th>\n",
              "    </tr>\n",
              "  </thead>\n",
              "  <tbody>\n",
              "    <tr>\n",
              "      <th>Neil</th>\n",
              "      <td>5.28</td>\n",
              "      <td>8.85</td>\n",
              "      <td>5.21</td>\n",
              "    </tr>\n",
              "    <tr>\n",
              "      <th>Youri</th>\n",
              "      <td>3.83</td>\n",
              "      <td>3.27</td>\n",
              "      <td>5.44</td>\n",
              "    </tr>\n",
              "    <tr>\n",
              "      <th>Sputinic</th>\n",
              "      <td>8.54</td>\n",
              "      <td>2.38</td>\n",
              "      <td>4.89</td>\n",
              "    </tr>\n",
              "    <tr>\n",
              "      <th>RZO</th>\n",
              "      <td>7.30</td>\n",
              "      <td>2.09</td>\n",
              "      <td>5.60</td>\n",
              "    </tr>\n",
              "    <tr>\n",
              "      <th>Ryu</th>\n",
              "      <td>4.37</td>\n",
              "      <td>5.55</td>\n",
              "      <td>7.18</td>\n",
              "    </tr>\n",
              "  </tbody>\n",
              "</table>\n",
              "</div>"
            ],
            "text/plain": [
              "            P1    P2    P3\n",
              "Neil      5.28  8.85  5.21\n",
              "Youri     3.83  3.27  5.44\n",
              "Sputinic  8.54  2.38  4.89\n",
              "RZO       7.30  2.09  5.60\n",
              "Ryu       4.37  5.55  7.18"
            ]
          },
          "metadata": {
            "tags": []
          },
          "execution_count": 10
        }
      ]
    },
    {
      "cell_type": "code",
      "metadata": {
        "colab": {
          "base_uri": "https://localhost:8080/",
          "height": 142
        },
        "id": "MLQRZOOos4UE",
        "outputId": "d815337d-e16b-4ba8-b63d-20e2296bf770"
      },
      "source": [
        "notas.sample(3) #seleciona aleatoriamente 3 dados aleatórios do meu banco de dados"
      ],
      "execution_count": 11,
      "outputs": [
        {
          "output_type": "execute_result",
          "data": {
            "text/html": [
              "<div>\n",
              "<style scoped>\n",
              "    .dataframe tbody tr th:only-of-type {\n",
              "        vertical-align: middle;\n",
              "    }\n",
              "\n",
              "    .dataframe tbody tr th {\n",
              "        vertical-align: top;\n",
              "    }\n",
              "\n",
              "    .dataframe thead th {\n",
              "        text-align: right;\n",
              "    }\n",
              "</style>\n",
              "<table border=\"1\" class=\"dataframe\">\n",
              "  <thead>\n",
              "    <tr style=\"text-align: right;\">\n",
              "      <th></th>\n",
              "      <th>P1</th>\n",
              "      <th>P2</th>\n",
              "      <th>P3</th>\n",
              "    </tr>\n",
              "  </thead>\n",
              "  <tbody>\n",
              "    <tr>\n",
              "      <th>Pitoco</th>\n",
              "      <td>8.66</td>\n",
              "      <td>4.28</td>\n",
              "      <td>6.51</td>\n",
              "    </tr>\n",
              "    <tr>\n",
              "      <th>RZO</th>\n",
              "      <td>7.30</td>\n",
              "      <td>2.09</td>\n",
              "      <td>5.60</td>\n",
              "    </tr>\n",
              "    <tr>\n",
              "      <th>Sputinic</th>\n",
              "      <td>8.54</td>\n",
              "      <td>2.38</td>\n",
              "      <td>4.89</td>\n",
              "    </tr>\n",
              "  </tbody>\n",
              "</table>\n",
              "</div>"
            ],
            "text/plain": [
              "            P1    P2    P3\n",
              "Pitoco    8.66  4.28  6.51\n",
              "RZO       7.30  2.09  5.60\n",
              "Sputinic  8.54  2.38  4.89"
            ]
          },
          "metadata": {
            "tags": []
          },
          "execution_count": 11
        }
      ]
    },
    {
      "cell_type": "code",
      "metadata": {
        "colab": {
          "base_uri": "https://localhost:8080/",
          "height": 266
        },
        "id": "bLd5-YVntAzs",
        "outputId": "1863f629-2a6d-4202-8b95-0a6df705607c"
      },
      "source": [
        "notas.round(1)"
      ],
      "execution_count": 12,
      "outputs": [
        {
          "output_type": "execute_result",
          "data": {
            "text/html": [
              "<div>\n",
              "<style scoped>\n",
              "    .dataframe tbody tr th:only-of-type {\n",
              "        vertical-align: middle;\n",
              "    }\n",
              "\n",
              "    .dataframe tbody tr th {\n",
              "        vertical-align: top;\n",
              "    }\n",
              "\n",
              "    .dataframe thead th {\n",
              "        text-align: right;\n",
              "    }\n",
              "</style>\n",
              "<table border=\"1\" class=\"dataframe\">\n",
              "  <thead>\n",
              "    <tr style=\"text-align: right;\">\n",
              "      <th></th>\n",
              "      <th>P1</th>\n",
              "      <th>P2</th>\n",
              "      <th>P3</th>\n",
              "    </tr>\n",
              "  </thead>\n",
              "  <tbody>\n",
              "    <tr>\n",
              "      <th>Pitoco</th>\n",
              "      <td>8.7</td>\n",
              "      <td>4.3</td>\n",
              "      <td>6.5</td>\n",
              "    </tr>\n",
              "    <tr>\n",
              "      <th>Rodolfo</th>\n",
              "      <td>6.8</td>\n",
              "      <td>2.4</td>\n",
              "      <td>2.3</td>\n",
              "    </tr>\n",
              "    <tr>\n",
              "      <th>Neil</th>\n",
              "      <td>5.3</td>\n",
              "      <td>8.8</td>\n",
              "      <td>5.2</td>\n",
              "    </tr>\n",
              "    <tr>\n",
              "      <th>Youri</th>\n",
              "      <td>3.8</td>\n",
              "      <td>3.3</td>\n",
              "      <td>5.4</td>\n",
              "    </tr>\n",
              "    <tr>\n",
              "      <th>Sputinic</th>\n",
              "      <td>8.5</td>\n",
              "      <td>2.4</td>\n",
              "      <td>4.9</td>\n",
              "    </tr>\n",
              "    <tr>\n",
              "      <th>RZO</th>\n",
              "      <td>7.3</td>\n",
              "      <td>2.1</td>\n",
              "      <td>5.6</td>\n",
              "    </tr>\n",
              "    <tr>\n",
              "      <th>Ryu</th>\n",
              "      <td>4.4</td>\n",
              "      <td>5.6</td>\n",
              "      <td>7.2</td>\n",
              "    </tr>\n",
              "  </tbody>\n",
              "</table>\n",
              "</div>"
            ],
            "text/plain": [
              "           P1   P2   P3\n",
              "Pitoco    8.7  4.3  6.5\n",
              "Rodolfo   6.8  2.4  2.3\n",
              "Neil      5.3  8.8  5.2\n",
              "Youri     3.8  3.3  5.4\n",
              "Sputinic  8.5  2.4  4.9\n",
              "RZO       7.3  2.1  5.6\n",
              "Ryu       4.4  5.6  7.2"
            ]
          },
          "metadata": {
            "tags": []
          },
          "execution_count": 12
        }
      ]
    },
    {
      "cell_type": "code",
      "metadata": {
        "colab": {
          "base_uri": "https://localhost:8080/",
          "height": 142
        },
        "id": "aRHjni97tI5V",
        "outputId": "88e1165c-995f-484e-9cbb-4d74620bd79a"
      },
      "source": [
        "notas.transpose()"
      ],
      "execution_count": 13,
      "outputs": [
        {
          "output_type": "execute_result",
          "data": {
            "text/html": [
              "<div>\n",
              "<style scoped>\n",
              "    .dataframe tbody tr th:only-of-type {\n",
              "        vertical-align: middle;\n",
              "    }\n",
              "\n",
              "    .dataframe tbody tr th {\n",
              "        vertical-align: top;\n",
              "    }\n",
              "\n",
              "    .dataframe thead th {\n",
              "        text-align: right;\n",
              "    }\n",
              "</style>\n",
              "<table border=\"1\" class=\"dataframe\">\n",
              "  <thead>\n",
              "    <tr style=\"text-align: right;\">\n",
              "      <th></th>\n",
              "      <th>Pitoco</th>\n",
              "      <th>Rodolfo</th>\n",
              "      <th>Neil</th>\n",
              "      <th>Youri</th>\n",
              "      <th>Sputinic</th>\n",
              "      <th>RZO</th>\n",
              "      <th>Ryu</th>\n",
              "    </tr>\n",
              "  </thead>\n",
              "  <tbody>\n",
              "    <tr>\n",
              "      <th>P1</th>\n",
              "      <td>8.66</td>\n",
              "      <td>6.82</td>\n",
              "      <td>5.28</td>\n",
              "      <td>3.83</td>\n",
              "      <td>8.54</td>\n",
              "      <td>7.30</td>\n",
              "      <td>4.37</td>\n",
              "    </tr>\n",
              "    <tr>\n",
              "      <th>P2</th>\n",
              "      <td>4.28</td>\n",
              "      <td>2.40</td>\n",
              "      <td>8.85</td>\n",
              "      <td>3.27</td>\n",
              "      <td>2.38</td>\n",
              "      <td>2.09</td>\n",
              "      <td>5.55</td>\n",
              "    </tr>\n",
              "    <tr>\n",
              "      <th>P3</th>\n",
              "      <td>6.51</td>\n",
              "      <td>2.30</td>\n",
              "      <td>5.21</td>\n",
              "      <td>5.44</td>\n",
              "      <td>4.89</td>\n",
              "      <td>5.60</td>\n",
              "      <td>7.18</td>\n",
              "    </tr>\n",
              "  </tbody>\n",
              "</table>\n",
              "</div>"
            ],
            "text/plain": [
              "    Pitoco  Rodolfo  Neil  Youri  Sputinic   RZO   Ryu\n",
              "P1    8.66     6.82  5.28   3.83      8.54  7.30  4.37\n",
              "P2    4.28     2.40  8.85   3.27      2.38  2.09  5.55\n",
              "P3    6.51     2.30  5.21   5.44      4.89  5.60  7.18"
            ]
          },
          "metadata": {
            "tags": []
          },
          "execution_count": 13
        }
      ]
    },
    {
      "cell_type": "code",
      "metadata": {
        "id": "CK7s9HSwuG-Y"
      },
      "source": [
        "sexo = ['M', 'M', 'F', 'F', 'F', 'F', 'M']\n",
        "\n",
        "notas['Sexo'] = sexo"
      ],
      "execution_count": 14,
      "outputs": []
    },
    {
      "cell_type": "code",
      "metadata": {
        "colab": {
          "base_uri": "https://localhost:8080/",
          "height": 266
        },
        "id": "vHhD_H1DvO2e",
        "outputId": "0dddcb44-bb28-4261-b62c-bc52b15487d1"
      },
      "source": [
        "notas"
      ],
      "execution_count": 15,
      "outputs": [
        {
          "output_type": "execute_result",
          "data": {
            "text/html": [
              "<div>\n",
              "<style scoped>\n",
              "    .dataframe tbody tr th:only-of-type {\n",
              "        vertical-align: middle;\n",
              "    }\n",
              "\n",
              "    .dataframe tbody tr th {\n",
              "        vertical-align: top;\n",
              "    }\n",
              "\n",
              "    .dataframe thead th {\n",
              "        text-align: right;\n",
              "    }\n",
              "</style>\n",
              "<table border=\"1\" class=\"dataframe\">\n",
              "  <thead>\n",
              "    <tr style=\"text-align: right;\">\n",
              "      <th></th>\n",
              "      <th>P1</th>\n",
              "      <th>P2</th>\n",
              "      <th>P3</th>\n",
              "      <th>Sexo</th>\n",
              "    </tr>\n",
              "  </thead>\n",
              "  <tbody>\n",
              "    <tr>\n",
              "      <th>Pitoco</th>\n",
              "      <td>8.66</td>\n",
              "      <td>4.28</td>\n",
              "      <td>6.51</td>\n",
              "      <td>M</td>\n",
              "    </tr>\n",
              "    <tr>\n",
              "      <th>Rodolfo</th>\n",
              "      <td>6.82</td>\n",
              "      <td>2.40</td>\n",
              "      <td>2.30</td>\n",
              "      <td>M</td>\n",
              "    </tr>\n",
              "    <tr>\n",
              "      <th>Neil</th>\n",
              "      <td>5.28</td>\n",
              "      <td>8.85</td>\n",
              "      <td>5.21</td>\n",
              "      <td>F</td>\n",
              "    </tr>\n",
              "    <tr>\n",
              "      <th>Youri</th>\n",
              "      <td>3.83</td>\n",
              "      <td>3.27</td>\n",
              "      <td>5.44</td>\n",
              "      <td>F</td>\n",
              "    </tr>\n",
              "    <tr>\n",
              "      <th>Sputinic</th>\n",
              "      <td>8.54</td>\n",
              "      <td>2.38</td>\n",
              "      <td>4.89</td>\n",
              "      <td>F</td>\n",
              "    </tr>\n",
              "    <tr>\n",
              "      <th>RZO</th>\n",
              "      <td>7.30</td>\n",
              "      <td>2.09</td>\n",
              "      <td>5.60</td>\n",
              "      <td>F</td>\n",
              "    </tr>\n",
              "    <tr>\n",
              "      <th>Ryu</th>\n",
              "      <td>4.37</td>\n",
              "      <td>5.55</td>\n",
              "      <td>7.18</td>\n",
              "      <td>M</td>\n",
              "    </tr>\n",
              "  </tbody>\n",
              "</table>\n",
              "</div>"
            ],
            "text/plain": [
              "            P1    P2    P3 Sexo\n",
              "Pitoco    8.66  4.28  6.51    M\n",
              "Rodolfo   6.82  2.40  2.30    M\n",
              "Neil      5.28  8.85  5.21    F\n",
              "Youri     3.83  3.27  5.44    F\n",
              "Sputinic  8.54  2.38  4.89    F\n",
              "RZO       7.30  2.09  5.60    F\n",
              "Ryu       4.37  5.55  7.18    M"
            ]
          },
          "metadata": {
            "tags": []
          },
          "execution_count": 15
        }
      ]
    },
    {
      "cell_type": "code",
      "metadata": {
        "id": "QI94eSM_vaiP"
      },
      "source": [
        "notas['MF'] = notas.mean(axis = 1)\n",
        "# axis = 1 dá a médias das notas das linhas."
      ],
      "execution_count": 16,
      "outputs": []
    },
    {
      "cell_type": "code",
      "metadata": {
        "colab": {
          "base_uri": "https://localhost:8080/",
          "height": 266
        },
        "id": "8ghwf_xgvi2u",
        "outputId": "82dab818-8064-49bf-d9d2-4a7e2a06899d"
      },
      "source": [
        "notas"
      ],
      "execution_count": 17,
      "outputs": [
        {
          "output_type": "execute_result",
          "data": {
            "text/html": [
              "<div>\n",
              "<style scoped>\n",
              "    .dataframe tbody tr th:only-of-type {\n",
              "        vertical-align: middle;\n",
              "    }\n",
              "\n",
              "    .dataframe tbody tr th {\n",
              "        vertical-align: top;\n",
              "    }\n",
              "\n",
              "    .dataframe thead th {\n",
              "        text-align: right;\n",
              "    }\n",
              "</style>\n",
              "<table border=\"1\" class=\"dataframe\">\n",
              "  <thead>\n",
              "    <tr style=\"text-align: right;\">\n",
              "      <th></th>\n",
              "      <th>P1</th>\n",
              "      <th>P2</th>\n",
              "      <th>P3</th>\n",
              "      <th>Sexo</th>\n",
              "      <th>MF</th>\n",
              "    </tr>\n",
              "  </thead>\n",
              "  <tbody>\n",
              "    <tr>\n",
              "      <th>Pitoco</th>\n",
              "      <td>8.66</td>\n",
              "      <td>4.28</td>\n",
              "      <td>6.51</td>\n",
              "      <td>M</td>\n",
              "      <td>6.483333</td>\n",
              "    </tr>\n",
              "    <tr>\n",
              "      <th>Rodolfo</th>\n",
              "      <td>6.82</td>\n",
              "      <td>2.40</td>\n",
              "      <td>2.30</td>\n",
              "      <td>M</td>\n",
              "      <td>3.840000</td>\n",
              "    </tr>\n",
              "    <tr>\n",
              "      <th>Neil</th>\n",
              "      <td>5.28</td>\n",
              "      <td>8.85</td>\n",
              "      <td>5.21</td>\n",
              "      <td>F</td>\n",
              "      <td>6.446667</td>\n",
              "    </tr>\n",
              "    <tr>\n",
              "      <th>Youri</th>\n",
              "      <td>3.83</td>\n",
              "      <td>3.27</td>\n",
              "      <td>5.44</td>\n",
              "      <td>F</td>\n",
              "      <td>4.180000</td>\n",
              "    </tr>\n",
              "    <tr>\n",
              "      <th>Sputinic</th>\n",
              "      <td>8.54</td>\n",
              "      <td>2.38</td>\n",
              "      <td>4.89</td>\n",
              "      <td>F</td>\n",
              "      <td>5.270000</td>\n",
              "    </tr>\n",
              "    <tr>\n",
              "      <th>RZO</th>\n",
              "      <td>7.30</td>\n",
              "      <td>2.09</td>\n",
              "      <td>5.60</td>\n",
              "      <td>F</td>\n",
              "      <td>4.996667</td>\n",
              "    </tr>\n",
              "    <tr>\n",
              "      <th>Ryu</th>\n",
              "      <td>4.37</td>\n",
              "      <td>5.55</td>\n",
              "      <td>7.18</td>\n",
              "      <td>M</td>\n",
              "      <td>5.700000</td>\n",
              "    </tr>\n",
              "  </tbody>\n",
              "</table>\n",
              "</div>"
            ],
            "text/plain": [
              "            P1    P2    P3 Sexo        MF\n",
              "Pitoco    8.66  4.28  6.51    M  6.483333\n",
              "Rodolfo   6.82  2.40  2.30    M  3.840000\n",
              "Neil      5.28  8.85  5.21    F  6.446667\n",
              "Youri     3.83  3.27  5.44    F  4.180000\n",
              "Sputinic  8.54  2.38  4.89    F  5.270000\n",
              "RZO       7.30  2.09  5.60    F  4.996667\n",
              "Ryu       4.37  5.55  7.18    M  5.700000"
            ]
          },
          "metadata": {
            "tags": []
          },
          "execution_count": 17
        }
      ]
    },
    {
      "cell_type": "code",
      "metadata": {
        "id": "41oOLNL9v7Ct"
      },
      "source": [
        "notas = notas.round(1)"
      ],
      "execution_count": 18,
      "outputs": []
    },
    {
      "cell_type": "code",
      "metadata": {
        "id": "qp3vgcy0wD6f"
      },
      "source": [
        "# Transformações de variáveis:\n",
        "\n",
        "def auxiliar(x):\n",
        "  if x >=5:\n",
        "    return 'Aprovado'\n",
        "  else:\n",
        "    return 'Reprovado'"
      ],
      "execution_count": 19,
      "outputs": []
    },
    {
      "cell_type": "code",
      "metadata": {
        "id": "j_-RipllwpQP"
      },
      "source": [
        "notas['Situação'] = notas['MF'].apply(auxiliar)"
      ],
      "execution_count": 20,
      "outputs": []
    },
    {
      "cell_type": "code",
      "metadata": {
        "colab": {
          "base_uri": "https://localhost:8080/",
          "height": 266
        },
        "id": "arNqIK3vwztV",
        "outputId": "2ef10e41-03e9-4561-85f5-1faa044217e7"
      },
      "source": [
        "notas"
      ],
      "execution_count": 21,
      "outputs": [
        {
          "output_type": "execute_result",
          "data": {
            "text/html": [
              "<div>\n",
              "<style scoped>\n",
              "    .dataframe tbody tr th:only-of-type {\n",
              "        vertical-align: middle;\n",
              "    }\n",
              "\n",
              "    .dataframe tbody tr th {\n",
              "        vertical-align: top;\n",
              "    }\n",
              "\n",
              "    .dataframe thead th {\n",
              "        text-align: right;\n",
              "    }\n",
              "</style>\n",
              "<table border=\"1\" class=\"dataframe\">\n",
              "  <thead>\n",
              "    <tr style=\"text-align: right;\">\n",
              "      <th></th>\n",
              "      <th>P1</th>\n",
              "      <th>P2</th>\n",
              "      <th>P3</th>\n",
              "      <th>Sexo</th>\n",
              "      <th>MF</th>\n",
              "      <th>Situação</th>\n",
              "    </tr>\n",
              "  </thead>\n",
              "  <tbody>\n",
              "    <tr>\n",
              "      <th>Pitoco</th>\n",
              "      <td>8.7</td>\n",
              "      <td>4.3</td>\n",
              "      <td>6.5</td>\n",
              "      <td>M</td>\n",
              "      <td>6.5</td>\n",
              "      <td>Aprovado</td>\n",
              "    </tr>\n",
              "    <tr>\n",
              "      <th>Rodolfo</th>\n",
              "      <td>6.8</td>\n",
              "      <td>2.4</td>\n",
              "      <td>2.3</td>\n",
              "      <td>M</td>\n",
              "      <td>3.8</td>\n",
              "      <td>Reprovado</td>\n",
              "    </tr>\n",
              "    <tr>\n",
              "      <th>Neil</th>\n",
              "      <td>5.3</td>\n",
              "      <td>8.8</td>\n",
              "      <td>5.2</td>\n",
              "      <td>F</td>\n",
              "      <td>6.4</td>\n",
              "      <td>Aprovado</td>\n",
              "    </tr>\n",
              "    <tr>\n",
              "      <th>Youri</th>\n",
              "      <td>3.8</td>\n",
              "      <td>3.3</td>\n",
              "      <td>5.4</td>\n",
              "      <td>F</td>\n",
              "      <td>4.2</td>\n",
              "      <td>Reprovado</td>\n",
              "    </tr>\n",
              "    <tr>\n",
              "      <th>Sputinic</th>\n",
              "      <td>8.5</td>\n",
              "      <td>2.4</td>\n",
              "      <td>4.9</td>\n",
              "      <td>F</td>\n",
              "      <td>5.3</td>\n",
              "      <td>Aprovado</td>\n",
              "    </tr>\n",
              "    <tr>\n",
              "      <th>RZO</th>\n",
              "      <td>7.3</td>\n",
              "      <td>2.1</td>\n",
              "      <td>5.6</td>\n",
              "      <td>F</td>\n",
              "      <td>5.0</td>\n",
              "      <td>Aprovado</td>\n",
              "    </tr>\n",
              "    <tr>\n",
              "      <th>Ryu</th>\n",
              "      <td>4.4</td>\n",
              "      <td>5.6</td>\n",
              "      <td>7.2</td>\n",
              "      <td>M</td>\n",
              "      <td>5.7</td>\n",
              "      <td>Aprovado</td>\n",
              "    </tr>\n",
              "  </tbody>\n",
              "</table>\n",
              "</div>"
            ],
            "text/plain": [
              "           P1   P2   P3 Sexo   MF   Situação\n",
              "Pitoco    8.7  4.3  6.5    M  6.5   Aprovado\n",
              "Rodolfo   6.8  2.4  2.3    M  3.8  Reprovado\n",
              "Neil      5.3  8.8  5.2    F  6.4   Aprovado\n",
              "Youri     3.8  3.3  5.4    F  4.2  Reprovado\n",
              "Sputinic  8.5  2.4  4.9    F  5.3   Aprovado\n",
              "RZO       7.3  2.1  5.6    F  5.0   Aprovado\n",
              "Ryu       4.4  5.6  7.2    M  5.7   Aprovado"
            ]
          },
          "metadata": {
            "tags": []
          },
          "execution_count": 21
        }
      ]
    },
    {
      "cell_type": "code",
      "metadata": {
        "id": "5Qh7b4tcw2ym"
      },
      "source": [
        "def auxiliar2(x):\n",
        "  if x == 'F':\n",
        "    return 'Feminino'\n",
        "  else:\n",
        "    return 'Masculino'\n",
        "\n",
        "notas['Sexo2'] = notas['Sexo'].apply(auxiliar2)"
      ],
      "execution_count": 22,
      "outputs": []
    },
    {
      "cell_type": "code",
      "metadata": {
        "colab": {
          "base_uri": "https://localhost:8080/",
          "height": 266
        },
        "id": "LLua_cnUx3lY",
        "outputId": "eda8a153-f8cd-40f5-aaab-ddb321aae07b"
      },
      "source": [
        "notas"
      ],
      "execution_count": 23,
      "outputs": [
        {
          "output_type": "execute_result",
          "data": {
            "text/html": [
              "<div>\n",
              "<style scoped>\n",
              "    .dataframe tbody tr th:only-of-type {\n",
              "        vertical-align: middle;\n",
              "    }\n",
              "\n",
              "    .dataframe tbody tr th {\n",
              "        vertical-align: top;\n",
              "    }\n",
              "\n",
              "    .dataframe thead th {\n",
              "        text-align: right;\n",
              "    }\n",
              "</style>\n",
              "<table border=\"1\" class=\"dataframe\">\n",
              "  <thead>\n",
              "    <tr style=\"text-align: right;\">\n",
              "      <th></th>\n",
              "      <th>P1</th>\n",
              "      <th>P2</th>\n",
              "      <th>P3</th>\n",
              "      <th>Sexo</th>\n",
              "      <th>MF</th>\n",
              "      <th>Situação</th>\n",
              "      <th>Sexo2</th>\n",
              "    </tr>\n",
              "  </thead>\n",
              "  <tbody>\n",
              "    <tr>\n",
              "      <th>Pitoco</th>\n",
              "      <td>8.7</td>\n",
              "      <td>4.3</td>\n",
              "      <td>6.5</td>\n",
              "      <td>M</td>\n",
              "      <td>6.5</td>\n",
              "      <td>Aprovado</td>\n",
              "      <td>Masculino</td>\n",
              "    </tr>\n",
              "    <tr>\n",
              "      <th>Rodolfo</th>\n",
              "      <td>6.8</td>\n",
              "      <td>2.4</td>\n",
              "      <td>2.3</td>\n",
              "      <td>M</td>\n",
              "      <td>3.8</td>\n",
              "      <td>Reprovado</td>\n",
              "      <td>Masculino</td>\n",
              "    </tr>\n",
              "    <tr>\n",
              "      <th>Neil</th>\n",
              "      <td>5.3</td>\n",
              "      <td>8.8</td>\n",
              "      <td>5.2</td>\n",
              "      <td>F</td>\n",
              "      <td>6.4</td>\n",
              "      <td>Aprovado</td>\n",
              "      <td>Feminino</td>\n",
              "    </tr>\n",
              "    <tr>\n",
              "      <th>Youri</th>\n",
              "      <td>3.8</td>\n",
              "      <td>3.3</td>\n",
              "      <td>5.4</td>\n",
              "      <td>F</td>\n",
              "      <td>4.2</td>\n",
              "      <td>Reprovado</td>\n",
              "      <td>Feminino</td>\n",
              "    </tr>\n",
              "    <tr>\n",
              "      <th>Sputinic</th>\n",
              "      <td>8.5</td>\n",
              "      <td>2.4</td>\n",
              "      <td>4.9</td>\n",
              "      <td>F</td>\n",
              "      <td>5.3</td>\n",
              "      <td>Aprovado</td>\n",
              "      <td>Feminino</td>\n",
              "    </tr>\n",
              "    <tr>\n",
              "      <th>RZO</th>\n",
              "      <td>7.3</td>\n",
              "      <td>2.1</td>\n",
              "      <td>5.6</td>\n",
              "      <td>F</td>\n",
              "      <td>5.0</td>\n",
              "      <td>Aprovado</td>\n",
              "      <td>Feminino</td>\n",
              "    </tr>\n",
              "    <tr>\n",
              "      <th>Ryu</th>\n",
              "      <td>4.4</td>\n",
              "      <td>5.6</td>\n",
              "      <td>7.2</td>\n",
              "      <td>M</td>\n",
              "      <td>5.7</td>\n",
              "      <td>Aprovado</td>\n",
              "      <td>Masculino</td>\n",
              "    </tr>\n",
              "  </tbody>\n",
              "</table>\n",
              "</div>"
            ],
            "text/plain": [
              "           P1   P2   P3 Sexo   MF   Situação      Sexo2\n",
              "Pitoco    8.7  4.3  6.5    M  6.5   Aprovado  Masculino\n",
              "Rodolfo   6.8  2.4  2.3    M  3.8  Reprovado  Masculino\n",
              "Neil      5.3  8.8  5.2    F  6.4   Aprovado   Feminino\n",
              "Youri     3.8  3.3  5.4    F  4.2  Reprovado   Feminino\n",
              "Sputinic  8.5  2.4  4.9    F  5.3   Aprovado   Feminino\n",
              "RZO       7.3  2.1  5.6    F  5.0   Aprovado   Feminino\n",
              "Ryu       4.4  5.6  7.2    M  5.7   Aprovado  Masculino"
            ]
          },
          "metadata": {
            "tags": []
          },
          "execution_count": 23
        }
      ]
    },
    {
      "cell_type": "code",
      "metadata": {
        "colab": {
          "base_uri": "https://localhost:8080/",
          "height": 266
        },
        "id": "wDzt2vXjx9LA",
        "outputId": "5fda6670-2e93-43af-800b-ab53a18ba387"
      },
      "source": [
        "notas.drop(['Sexo2'], axis = 1)\n",
        "notas"
      ],
      "execution_count": 24,
      "outputs": [
        {
          "output_type": "execute_result",
          "data": {
            "text/html": [
              "<div>\n",
              "<style scoped>\n",
              "    .dataframe tbody tr th:only-of-type {\n",
              "        vertical-align: middle;\n",
              "    }\n",
              "\n",
              "    .dataframe tbody tr th {\n",
              "        vertical-align: top;\n",
              "    }\n",
              "\n",
              "    .dataframe thead th {\n",
              "        text-align: right;\n",
              "    }\n",
              "</style>\n",
              "<table border=\"1\" class=\"dataframe\">\n",
              "  <thead>\n",
              "    <tr style=\"text-align: right;\">\n",
              "      <th></th>\n",
              "      <th>P1</th>\n",
              "      <th>P2</th>\n",
              "      <th>P3</th>\n",
              "      <th>Sexo</th>\n",
              "      <th>MF</th>\n",
              "      <th>Situação</th>\n",
              "      <th>Sexo2</th>\n",
              "    </tr>\n",
              "  </thead>\n",
              "  <tbody>\n",
              "    <tr>\n",
              "      <th>Pitoco</th>\n",
              "      <td>8.7</td>\n",
              "      <td>4.3</td>\n",
              "      <td>6.5</td>\n",
              "      <td>M</td>\n",
              "      <td>6.5</td>\n",
              "      <td>Aprovado</td>\n",
              "      <td>Masculino</td>\n",
              "    </tr>\n",
              "    <tr>\n",
              "      <th>Rodolfo</th>\n",
              "      <td>6.8</td>\n",
              "      <td>2.4</td>\n",
              "      <td>2.3</td>\n",
              "      <td>M</td>\n",
              "      <td>3.8</td>\n",
              "      <td>Reprovado</td>\n",
              "      <td>Masculino</td>\n",
              "    </tr>\n",
              "    <tr>\n",
              "      <th>Neil</th>\n",
              "      <td>5.3</td>\n",
              "      <td>8.8</td>\n",
              "      <td>5.2</td>\n",
              "      <td>F</td>\n",
              "      <td>6.4</td>\n",
              "      <td>Aprovado</td>\n",
              "      <td>Feminino</td>\n",
              "    </tr>\n",
              "    <tr>\n",
              "      <th>Youri</th>\n",
              "      <td>3.8</td>\n",
              "      <td>3.3</td>\n",
              "      <td>5.4</td>\n",
              "      <td>F</td>\n",
              "      <td>4.2</td>\n",
              "      <td>Reprovado</td>\n",
              "      <td>Feminino</td>\n",
              "    </tr>\n",
              "    <tr>\n",
              "      <th>Sputinic</th>\n",
              "      <td>8.5</td>\n",
              "      <td>2.4</td>\n",
              "      <td>4.9</td>\n",
              "      <td>F</td>\n",
              "      <td>5.3</td>\n",
              "      <td>Aprovado</td>\n",
              "      <td>Feminino</td>\n",
              "    </tr>\n",
              "    <tr>\n",
              "      <th>RZO</th>\n",
              "      <td>7.3</td>\n",
              "      <td>2.1</td>\n",
              "      <td>5.6</td>\n",
              "      <td>F</td>\n",
              "      <td>5.0</td>\n",
              "      <td>Aprovado</td>\n",
              "      <td>Feminino</td>\n",
              "    </tr>\n",
              "    <tr>\n",
              "      <th>Ryu</th>\n",
              "      <td>4.4</td>\n",
              "      <td>5.6</td>\n",
              "      <td>7.2</td>\n",
              "      <td>M</td>\n",
              "      <td>5.7</td>\n",
              "      <td>Aprovado</td>\n",
              "      <td>Masculino</td>\n",
              "    </tr>\n",
              "  </tbody>\n",
              "</table>\n",
              "</div>"
            ],
            "text/plain": [
              "           P1   P2   P3 Sexo   MF   Situação      Sexo2\n",
              "Pitoco    8.7  4.3  6.5    M  6.5   Aprovado  Masculino\n",
              "Rodolfo   6.8  2.4  2.3    M  3.8  Reprovado  Masculino\n",
              "Neil      5.3  8.8  5.2    F  6.4   Aprovado   Feminino\n",
              "Youri     3.8  3.3  5.4    F  4.2  Reprovado   Feminino\n",
              "Sputinic  8.5  2.4  4.9    F  5.3   Aprovado   Feminino\n",
              "RZO       7.3  2.1  5.6    F  5.0   Aprovado   Feminino\n",
              "Ryu       4.4  5.6  7.2    M  5.7   Aprovado  Masculino"
            ]
          },
          "metadata": {
            "tags": []
          },
          "execution_count": 24
        }
      ]
    },
    {
      "cell_type": "code",
      "metadata": {
        "colab": {
          "base_uri": "https://localhost:8080/",
          "height": 266
        },
        "id": "klbpar-ezD6X",
        "outputId": "50d88e98-4c10-43c0-dc0a-aefd5103b213"
      },
      "source": [
        "notas.drop(['Sexo2'], axis = 1, inplace = True) # o inplace muda o banco de dados\n",
        "notas"
      ],
      "execution_count": 25,
      "outputs": [
        {
          "output_type": "execute_result",
          "data": {
            "text/html": [
              "<div>\n",
              "<style scoped>\n",
              "    .dataframe tbody tr th:only-of-type {\n",
              "        vertical-align: middle;\n",
              "    }\n",
              "\n",
              "    .dataframe tbody tr th {\n",
              "        vertical-align: top;\n",
              "    }\n",
              "\n",
              "    .dataframe thead th {\n",
              "        text-align: right;\n",
              "    }\n",
              "</style>\n",
              "<table border=\"1\" class=\"dataframe\">\n",
              "  <thead>\n",
              "    <tr style=\"text-align: right;\">\n",
              "      <th></th>\n",
              "      <th>P1</th>\n",
              "      <th>P2</th>\n",
              "      <th>P3</th>\n",
              "      <th>Sexo</th>\n",
              "      <th>MF</th>\n",
              "      <th>Situação</th>\n",
              "    </tr>\n",
              "  </thead>\n",
              "  <tbody>\n",
              "    <tr>\n",
              "      <th>Pitoco</th>\n",
              "      <td>8.7</td>\n",
              "      <td>4.3</td>\n",
              "      <td>6.5</td>\n",
              "      <td>M</td>\n",
              "      <td>6.5</td>\n",
              "      <td>Aprovado</td>\n",
              "    </tr>\n",
              "    <tr>\n",
              "      <th>Rodolfo</th>\n",
              "      <td>6.8</td>\n",
              "      <td>2.4</td>\n",
              "      <td>2.3</td>\n",
              "      <td>M</td>\n",
              "      <td>3.8</td>\n",
              "      <td>Reprovado</td>\n",
              "    </tr>\n",
              "    <tr>\n",
              "      <th>Neil</th>\n",
              "      <td>5.3</td>\n",
              "      <td>8.8</td>\n",
              "      <td>5.2</td>\n",
              "      <td>F</td>\n",
              "      <td>6.4</td>\n",
              "      <td>Aprovado</td>\n",
              "    </tr>\n",
              "    <tr>\n",
              "      <th>Youri</th>\n",
              "      <td>3.8</td>\n",
              "      <td>3.3</td>\n",
              "      <td>5.4</td>\n",
              "      <td>F</td>\n",
              "      <td>4.2</td>\n",
              "      <td>Reprovado</td>\n",
              "    </tr>\n",
              "    <tr>\n",
              "      <th>Sputinic</th>\n",
              "      <td>8.5</td>\n",
              "      <td>2.4</td>\n",
              "      <td>4.9</td>\n",
              "      <td>F</td>\n",
              "      <td>5.3</td>\n",
              "      <td>Aprovado</td>\n",
              "    </tr>\n",
              "    <tr>\n",
              "      <th>RZO</th>\n",
              "      <td>7.3</td>\n",
              "      <td>2.1</td>\n",
              "      <td>5.6</td>\n",
              "      <td>F</td>\n",
              "      <td>5.0</td>\n",
              "      <td>Aprovado</td>\n",
              "    </tr>\n",
              "    <tr>\n",
              "      <th>Ryu</th>\n",
              "      <td>4.4</td>\n",
              "      <td>5.6</td>\n",
              "      <td>7.2</td>\n",
              "      <td>M</td>\n",
              "      <td>5.7</td>\n",
              "      <td>Aprovado</td>\n",
              "    </tr>\n",
              "  </tbody>\n",
              "</table>\n",
              "</div>"
            ],
            "text/plain": [
              "           P1   P2   P3 Sexo   MF   Situação\n",
              "Pitoco    8.7  4.3  6.5    M  6.5   Aprovado\n",
              "Rodolfo   6.8  2.4  2.3    M  3.8  Reprovado\n",
              "Neil      5.3  8.8  5.2    F  6.4   Aprovado\n",
              "Youri     3.8  3.3  5.4    F  4.2  Reprovado\n",
              "Sputinic  8.5  2.4  4.9    F  5.3   Aprovado\n",
              "RZO       7.3  2.1  5.6    F  5.0   Aprovado\n",
              "Ryu       4.4  5.6  7.2    M  5.7   Aprovado"
            ]
          },
          "metadata": {
            "tags": []
          },
          "execution_count": 25
        }
      ]
    },
    {
      "cell_type": "code",
      "metadata": {
        "colab": {
          "base_uri": "https://localhost:8080/",
          "height": 266
        },
        "id": "RV8RW3qOzMJA",
        "outputId": "b2f6aae5-9b7c-48d5-cf32-494c9f05b8ec"
      },
      "source": [
        "notas.sort_values(by = 'MF') # ordenando por média finais"
      ],
      "execution_count": 26,
      "outputs": [
        {
          "output_type": "execute_result",
          "data": {
            "text/html": [
              "<div>\n",
              "<style scoped>\n",
              "    .dataframe tbody tr th:only-of-type {\n",
              "        vertical-align: middle;\n",
              "    }\n",
              "\n",
              "    .dataframe tbody tr th {\n",
              "        vertical-align: top;\n",
              "    }\n",
              "\n",
              "    .dataframe thead th {\n",
              "        text-align: right;\n",
              "    }\n",
              "</style>\n",
              "<table border=\"1\" class=\"dataframe\">\n",
              "  <thead>\n",
              "    <tr style=\"text-align: right;\">\n",
              "      <th></th>\n",
              "      <th>P1</th>\n",
              "      <th>P2</th>\n",
              "      <th>P3</th>\n",
              "      <th>Sexo</th>\n",
              "      <th>MF</th>\n",
              "      <th>Situação</th>\n",
              "    </tr>\n",
              "  </thead>\n",
              "  <tbody>\n",
              "    <tr>\n",
              "      <th>Rodolfo</th>\n",
              "      <td>6.8</td>\n",
              "      <td>2.4</td>\n",
              "      <td>2.3</td>\n",
              "      <td>M</td>\n",
              "      <td>3.8</td>\n",
              "      <td>Reprovado</td>\n",
              "    </tr>\n",
              "    <tr>\n",
              "      <th>Youri</th>\n",
              "      <td>3.8</td>\n",
              "      <td>3.3</td>\n",
              "      <td>5.4</td>\n",
              "      <td>F</td>\n",
              "      <td>4.2</td>\n",
              "      <td>Reprovado</td>\n",
              "    </tr>\n",
              "    <tr>\n",
              "      <th>RZO</th>\n",
              "      <td>7.3</td>\n",
              "      <td>2.1</td>\n",
              "      <td>5.6</td>\n",
              "      <td>F</td>\n",
              "      <td>5.0</td>\n",
              "      <td>Aprovado</td>\n",
              "    </tr>\n",
              "    <tr>\n",
              "      <th>Sputinic</th>\n",
              "      <td>8.5</td>\n",
              "      <td>2.4</td>\n",
              "      <td>4.9</td>\n",
              "      <td>F</td>\n",
              "      <td>5.3</td>\n",
              "      <td>Aprovado</td>\n",
              "    </tr>\n",
              "    <tr>\n",
              "      <th>Ryu</th>\n",
              "      <td>4.4</td>\n",
              "      <td>5.6</td>\n",
              "      <td>7.2</td>\n",
              "      <td>M</td>\n",
              "      <td>5.7</td>\n",
              "      <td>Aprovado</td>\n",
              "    </tr>\n",
              "    <tr>\n",
              "      <th>Neil</th>\n",
              "      <td>5.3</td>\n",
              "      <td>8.8</td>\n",
              "      <td>5.2</td>\n",
              "      <td>F</td>\n",
              "      <td>6.4</td>\n",
              "      <td>Aprovado</td>\n",
              "    </tr>\n",
              "    <tr>\n",
              "      <th>Pitoco</th>\n",
              "      <td>8.7</td>\n",
              "      <td>4.3</td>\n",
              "      <td>6.5</td>\n",
              "      <td>M</td>\n",
              "      <td>6.5</td>\n",
              "      <td>Aprovado</td>\n",
              "    </tr>\n",
              "  </tbody>\n",
              "</table>\n",
              "</div>"
            ],
            "text/plain": [
              "           P1   P2   P3 Sexo   MF   Situação\n",
              "Rodolfo   6.8  2.4  2.3    M  3.8  Reprovado\n",
              "Youri     3.8  3.3  5.4    F  4.2  Reprovado\n",
              "RZO       7.3  2.1  5.6    F  5.0   Aprovado\n",
              "Sputinic  8.5  2.4  4.9    F  5.3   Aprovado\n",
              "Ryu       4.4  5.6  7.2    M  5.7   Aprovado\n",
              "Neil      5.3  8.8  5.2    F  6.4   Aprovado\n",
              "Pitoco    8.7  4.3  6.5    M  6.5   Aprovado"
            ]
          },
          "metadata": {
            "tags": []
          },
          "execution_count": 26
        }
      ]
    },
    {
      "cell_type": "code",
      "metadata": {
        "colab": {
          "base_uri": "https://localhost:8080/",
          "height": 266
        },
        "id": "4GpRXtTEzivW",
        "outputId": "0a5aa137-b183-4f91-8ef4-7848abd2129c"
      },
      "source": [
        "notas.sort_values(by = 'MF', ascending = True) # ordenando por média finais"
      ],
      "execution_count": 27,
      "outputs": [
        {
          "output_type": "execute_result",
          "data": {
            "text/html": [
              "<div>\n",
              "<style scoped>\n",
              "    .dataframe tbody tr th:only-of-type {\n",
              "        vertical-align: middle;\n",
              "    }\n",
              "\n",
              "    .dataframe tbody tr th {\n",
              "        vertical-align: top;\n",
              "    }\n",
              "\n",
              "    .dataframe thead th {\n",
              "        text-align: right;\n",
              "    }\n",
              "</style>\n",
              "<table border=\"1\" class=\"dataframe\">\n",
              "  <thead>\n",
              "    <tr style=\"text-align: right;\">\n",
              "      <th></th>\n",
              "      <th>P1</th>\n",
              "      <th>P2</th>\n",
              "      <th>P3</th>\n",
              "      <th>Sexo</th>\n",
              "      <th>MF</th>\n",
              "      <th>Situação</th>\n",
              "    </tr>\n",
              "  </thead>\n",
              "  <tbody>\n",
              "    <tr>\n",
              "      <th>Rodolfo</th>\n",
              "      <td>6.8</td>\n",
              "      <td>2.4</td>\n",
              "      <td>2.3</td>\n",
              "      <td>M</td>\n",
              "      <td>3.8</td>\n",
              "      <td>Reprovado</td>\n",
              "    </tr>\n",
              "    <tr>\n",
              "      <th>Youri</th>\n",
              "      <td>3.8</td>\n",
              "      <td>3.3</td>\n",
              "      <td>5.4</td>\n",
              "      <td>F</td>\n",
              "      <td>4.2</td>\n",
              "      <td>Reprovado</td>\n",
              "    </tr>\n",
              "    <tr>\n",
              "      <th>RZO</th>\n",
              "      <td>7.3</td>\n",
              "      <td>2.1</td>\n",
              "      <td>5.6</td>\n",
              "      <td>F</td>\n",
              "      <td>5.0</td>\n",
              "      <td>Aprovado</td>\n",
              "    </tr>\n",
              "    <tr>\n",
              "      <th>Sputinic</th>\n",
              "      <td>8.5</td>\n",
              "      <td>2.4</td>\n",
              "      <td>4.9</td>\n",
              "      <td>F</td>\n",
              "      <td>5.3</td>\n",
              "      <td>Aprovado</td>\n",
              "    </tr>\n",
              "    <tr>\n",
              "      <th>Ryu</th>\n",
              "      <td>4.4</td>\n",
              "      <td>5.6</td>\n",
              "      <td>7.2</td>\n",
              "      <td>M</td>\n",
              "      <td>5.7</td>\n",
              "      <td>Aprovado</td>\n",
              "    </tr>\n",
              "    <tr>\n",
              "      <th>Neil</th>\n",
              "      <td>5.3</td>\n",
              "      <td>8.8</td>\n",
              "      <td>5.2</td>\n",
              "      <td>F</td>\n",
              "      <td>6.4</td>\n",
              "      <td>Aprovado</td>\n",
              "    </tr>\n",
              "    <tr>\n",
              "      <th>Pitoco</th>\n",
              "      <td>8.7</td>\n",
              "      <td>4.3</td>\n",
              "      <td>6.5</td>\n",
              "      <td>M</td>\n",
              "      <td>6.5</td>\n",
              "      <td>Aprovado</td>\n",
              "    </tr>\n",
              "  </tbody>\n",
              "</table>\n",
              "</div>"
            ],
            "text/plain": [
              "           P1   P2   P3 Sexo   MF   Situação\n",
              "Rodolfo   6.8  2.4  2.3    M  3.8  Reprovado\n",
              "Youri     3.8  3.3  5.4    F  4.2  Reprovado\n",
              "RZO       7.3  2.1  5.6    F  5.0   Aprovado\n",
              "Sputinic  8.5  2.4  4.9    F  5.3   Aprovado\n",
              "Ryu       4.4  5.6  7.2    M  5.7   Aprovado\n",
              "Neil      5.3  8.8  5.2    F  6.4   Aprovado\n",
              "Pitoco    8.7  4.3  6.5    M  6.5   Aprovado"
            ]
          },
          "metadata": {
            "tags": []
          },
          "execution_count": 27
        }
      ]
    },
    {
      "cell_type": "code",
      "metadata": {
        "colab": {
          "base_uri": "https://localhost:8080/",
          "height": 266
        },
        "id": "Gdj-Fd8rznlW",
        "outputId": "8174fe88-0021-4253-f98c-dd392eef705d"
      },
      "source": [
        "notas.sort_values(by = 'MF', ascending = True, inplace = True) # ordenando por média finais\n",
        "notas"
      ],
      "execution_count": 28,
      "outputs": [
        {
          "output_type": "execute_result",
          "data": {
            "text/html": [
              "<div>\n",
              "<style scoped>\n",
              "    .dataframe tbody tr th:only-of-type {\n",
              "        vertical-align: middle;\n",
              "    }\n",
              "\n",
              "    .dataframe tbody tr th {\n",
              "        vertical-align: top;\n",
              "    }\n",
              "\n",
              "    .dataframe thead th {\n",
              "        text-align: right;\n",
              "    }\n",
              "</style>\n",
              "<table border=\"1\" class=\"dataframe\">\n",
              "  <thead>\n",
              "    <tr style=\"text-align: right;\">\n",
              "      <th></th>\n",
              "      <th>P1</th>\n",
              "      <th>P2</th>\n",
              "      <th>P3</th>\n",
              "      <th>Sexo</th>\n",
              "      <th>MF</th>\n",
              "      <th>Situação</th>\n",
              "    </tr>\n",
              "  </thead>\n",
              "  <tbody>\n",
              "    <tr>\n",
              "      <th>Rodolfo</th>\n",
              "      <td>6.8</td>\n",
              "      <td>2.4</td>\n",
              "      <td>2.3</td>\n",
              "      <td>M</td>\n",
              "      <td>3.8</td>\n",
              "      <td>Reprovado</td>\n",
              "    </tr>\n",
              "    <tr>\n",
              "      <th>Youri</th>\n",
              "      <td>3.8</td>\n",
              "      <td>3.3</td>\n",
              "      <td>5.4</td>\n",
              "      <td>F</td>\n",
              "      <td>4.2</td>\n",
              "      <td>Reprovado</td>\n",
              "    </tr>\n",
              "    <tr>\n",
              "      <th>RZO</th>\n",
              "      <td>7.3</td>\n",
              "      <td>2.1</td>\n",
              "      <td>5.6</td>\n",
              "      <td>F</td>\n",
              "      <td>5.0</td>\n",
              "      <td>Aprovado</td>\n",
              "    </tr>\n",
              "    <tr>\n",
              "      <th>Sputinic</th>\n",
              "      <td>8.5</td>\n",
              "      <td>2.4</td>\n",
              "      <td>4.9</td>\n",
              "      <td>F</td>\n",
              "      <td>5.3</td>\n",
              "      <td>Aprovado</td>\n",
              "    </tr>\n",
              "    <tr>\n",
              "      <th>Ryu</th>\n",
              "      <td>4.4</td>\n",
              "      <td>5.6</td>\n",
              "      <td>7.2</td>\n",
              "      <td>M</td>\n",
              "      <td>5.7</td>\n",
              "      <td>Aprovado</td>\n",
              "    </tr>\n",
              "    <tr>\n",
              "      <th>Neil</th>\n",
              "      <td>5.3</td>\n",
              "      <td>8.8</td>\n",
              "      <td>5.2</td>\n",
              "      <td>F</td>\n",
              "      <td>6.4</td>\n",
              "      <td>Aprovado</td>\n",
              "    </tr>\n",
              "    <tr>\n",
              "      <th>Pitoco</th>\n",
              "      <td>8.7</td>\n",
              "      <td>4.3</td>\n",
              "      <td>6.5</td>\n",
              "      <td>M</td>\n",
              "      <td>6.5</td>\n",
              "      <td>Aprovado</td>\n",
              "    </tr>\n",
              "  </tbody>\n",
              "</table>\n",
              "</div>"
            ],
            "text/plain": [
              "           P1   P2   P3 Sexo   MF   Situação\n",
              "Rodolfo   6.8  2.4  2.3    M  3.8  Reprovado\n",
              "Youri     3.8  3.3  5.4    F  4.2  Reprovado\n",
              "RZO       7.3  2.1  5.6    F  5.0   Aprovado\n",
              "Sputinic  8.5  2.4  4.9    F  5.3   Aprovado\n",
              "Ryu       4.4  5.6  7.2    M  5.7   Aprovado\n",
              "Neil      5.3  8.8  5.2    F  6.4   Aprovado\n",
              "Pitoco    8.7  4.3  6.5    M  6.5   Aprovado"
            ]
          },
          "metadata": {
            "tags": []
          },
          "execution_count": 28
        }
      ]
    },
    {
      "cell_type": "code",
      "metadata": {
        "id": "E2r9Si5rz0k1",
        "colab": {
          "base_uri": "https://localhost:8080/",
          "height": 173
        },
        "outputId": "dee390ab-f30d-4cb7-f359-6d0f591cee98"
      },
      "source": [
        "# Como selecionar dados:\n",
        "\n",
        "notas[notas['Sexo'] == 'F'] #seleciona apenas o sexo feminino"
      ],
      "execution_count": 30,
      "outputs": [
        {
          "output_type": "execute_result",
          "data": {
            "text/html": [
              "<div>\n",
              "<style scoped>\n",
              "    .dataframe tbody tr th:only-of-type {\n",
              "        vertical-align: middle;\n",
              "    }\n",
              "\n",
              "    .dataframe tbody tr th {\n",
              "        vertical-align: top;\n",
              "    }\n",
              "\n",
              "    .dataframe thead th {\n",
              "        text-align: right;\n",
              "    }\n",
              "</style>\n",
              "<table border=\"1\" class=\"dataframe\">\n",
              "  <thead>\n",
              "    <tr style=\"text-align: right;\">\n",
              "      <th></th>\n",
              "      <th>P1</th>\n",
              "      <th>P2</th>\n",
              "      <th>P3</th>\n",
              "      <th>Sexo</th>\n",
              "      <th>MF</th>\n",
              "      <th>Situação</th>\n",
              "    </tr>\n",
              "  </thead>\n",
              "  <tbody>\n",
              "    <tr>\n",
              "      <th>Youri</th>\n",
              "      <td>3.8</td>\n",
              "      <td>3.3</td>\n",
              "      <td>5.4</td>\n",
              "      <td>F</td>\n",
              "      <td>4.2</td>\n",
              "      <td>Reprovado</td>\n",
              "    </tr>\n",
              "    <tr>\n",
              "      <th>RZO</th>\n",
              "      <td>7.3</td>\n",
              "      <td>2.1</td>\n",
              "      <td>5.6</td>\n",
              "      <td>F</td>\n",
              "      <td>5.0</td>\n",
              "      <td>Aprovado</td>\n",
              "    </tr>\n",
              "    <tr>\n",
              "      <th>Sputinic</th>\n",
              "      <td>8.5</td>\n",
              "      <td>2.4</td>\n",
              "      <td>4.9</td>\n",
              "      <td>F</td>\n",
              "      <td>5.3</td>\n",
              "      <td>Aprovado</td>\n",
              "    </tr>\n",
              "    <tr>\n",
              "      <th>Neil</th>\n",
              "      <td>5.3</td>\n",
              "      <td>8.8</td>\n",
              "      <td>5.2</td>\n",
              "      <td>F</td>\n",
              "      <td>6.4</td>\n",
              "      <td>Aprovado</td>\n",
              "    </tr>\n",
              "  </tbody>\n",
              "</table>\n",
              "</div>"
            ],
            "text/plain": [
              "           P1   P2   P3 Sexo   MF   Situação\n",
              "Youri     3.8  3.3  5.4    F  4.2  Reprovado\n",
              "RZO       7.3  2.1  5.6    F  5.0   Aprovado\n",
              "Sputinic  8.5  2.4  4.9    F  5.3   Aprovado\n",
              "Neil      5.3  8.8  5.2    F  6.4   Aprovado"
            ]
          },
          "metadata": {
            "tags": []
          },
          "execution_count": 30
        }
      ]
    },
    {
      "cell_type": "code",
      "metadata": {
        "colab": {
          "base_uri": "https://localhost:8080/",
          "height": 142
        },
        "id": "f_rgkGq79meQ",
        "outputId": "30e69b82-3f4f-40e2-dfce-f08c4bd39506"
      },
      "source": [
        "notas[notas['Sexo'] == 'M'] #seleciona apenas o sexo feminino"
      ],
      "execution_count": 31,
      "outputs": [
        {
          "output_type": "execute_result",
          "data": {
            "text/html": [
              "<div>\n",
              "<style scoped>\n",
              "    .dataframe tbody tr th:only-of-type {\n",
              "        vertical-align: middle;\n",
              "    }\n",
              "\n",
              "    .dataframe tbody tr th {\n",
              "        vertical-align: top;\n",
              "    }\n",
              "\n",
              "    .dataframe thead th {\n",
              "        text-align: right;\n",
              "    }\n",
              "</style>\n",
              "<table border=\"1\" class=\"dataframe\">\n",
              "  <thead>\n",
              "    <tr style=\"text-align: right;\">\n",
              "      <th></th>\n",
              "      <th>P1</th>\n",
              "      <th>P2</th>\n",
              "      <th>P3</th>\n",
              "      <th>Sexo</th>\n",
              "      <th>MF</th>\n",
              "      <th>Situação</th>\n",
              "    </tr>\n",
              "  </thead>\n",
              "  <tbody>\n",
              "    <tr>\n",
              "      <th>Rodolfo</th>\n",
              "      <td>6.8</td>\n",
              "      <td>2.4</td>\n",
              "      <td>2.3</td>\n",
              "      <td>M</td>\n",
              "      <td>3.8</td>\n",
              "      <td>Reprovado</td>\n",
              "    </tr>\n",
              "    <tr>\n",
              "      <th>Ryu</th>\n",
              "      <td>4.4</td>\n",
              "      <td>5.6</td>\n",
              "      <td>7.2</td>\n",
              "      <td>M</td>\n",
              "      <td>5.7</td>\n",
              "      <td>Aprovado</td>\n",
              "    </tr>\n",
              "    <tr>\n",
              "      <th>Pitoco</th>\n",
              "      <td>8.7</td>\n",
              "      <td>4.3</td>\n",
              "      <td>6.5</td>\n",
              "      <td>M</td>\n",
              "      <td>6.5</td>\n",
              "      <td>Aprovado</td>\n",
              "    </tr>\n",
              "  </tbody>\n",
              "</table>\n",
              "</div>"
            ],
            "text/plain": [
              "          P1   P2   P3 Sexo   MF   Situação\n",
              "Rodolfo  6.8  2.4  2.3    M  3.8  Reprovado\n",
              "Ryu      4.4  5.6  7.2    M  5.7   Aprovado\n",
              "Pitoco   8.7  4.3  6.5    M  6.5   Aprovado"
            ]
          },
          "metadata": {
            "tags": []
          },
          "execution_count": 31
        }
      ]
    },
    {
      "cell_type": "code",
      "metadata": {
        "colab": {
          "base_uri": "https://localhost:8080/"
        },
        "id": "N5_1-jFl9pyo",
        "outputId": "23b710db-4c34-4ed9-8112-b6952bc6b88f"
      },
      "source": [
        "notas[notas['Sexo'] == 'F']['MF'].mean() #seleciona apenas o sexo feminino"
      ],
      "execution_count": 33,
      "outputs": [
        {
          "output_type": "execute_result",
          "data": {
            "text/plain": [
              "5.225"
            ]
          },
          "metadata": {
            "tags": []
          },
          "execution_count": 33
        }
      ]
    },
    {
      "cell_type": "code",
      "metadata": {
        "colab": {
          "base_uri": "https://localhost:8080/",
          "height": 111
        },
        "id": "6kBI-HBF972J",
        "outputId": "6223df76-7765-44aa-eb11-e619d97c608e"
      },
      "source": [
        "# notas.loc: vai me dar a localização das linhas e colunas\n",
        "\n",
        "notas.loc[['Pitoco', 'Neil'], ['P2', 'MF', 'Sexo']]"
      ],
      "execution_count": 36,
      "outputs": [
        {
          "output_type": "execute_result",
          "data": {
            "text/html": [
              "<div>\n",
              "<style scoped>\n",
              "    .dataframe tbody tr th:only-of-type {\n",
              "        vertical-align: middle;\n",
              "    }\n",
              "\n",
              "    .dataframe tbody tr th {\n",
              "        vertical-align: top;\n",
              "    }\n",
              "\n",
              "    .dataframe thead th {\n",
              "        text-align: right;\n",
              "    }\n",
              "</style>\n",
              "<table border=\"1\" class=\"dataframe\">\n",
              "  <thead>\n",
              "    <tr style=\"text-align: right;\">\n",
              "      <th></th>\n",
              "      <th>P2</th>\n",
              "      <th>MF</th>\n",
              "      <th>Sexo</th>\n",
              "    </tr>\n",
              "  </thead>\n",
              "  <tbody>\n",
              "    <tr>\n",
              "      <th>Pitoco</th>\n",
              "      <td>4.3</td>\n",
              "      <td>6.5</td>\n",
              "      <td>M</td>\n",
              "    </tr>\n",
              "    <tr>\n",
              "      <th>Neil</th>\n",
              "      <td>8.8</td>\n",
              "      <td>6.4</td>\n",
              "      <td>F</td>\n",
              "    </tr>\n",
              "  </tbody>\n",
              "</table>\n",
              "</div>"
            ],
            "text/plain": [
              "         P2   MF Sexo\n",
              "Pitoco  4.3  6.5    M\n",
              "Neil    8.8  6.4    F"
            ]
          },
          "metadata": {
            "tags": []
          },
          "execution_count": 36
        }
      ]
    },
    {
      "cell_type": "code",
      "metadata": {
        "colab": {
          "base_uri": "https://localhost:8080/",
          "height": 111
        },
        "id": "r-4schew-aKC",
        "outputId": "e2782e73-3b2a-45c5-f7fe-9237046cd473"
      },
      "source": [
        "notas.loc[notas['P2'] > 5, ['Situação']]"
      ],
      "execution_count": 37,
      "outputs": [
        {
          "output_type": "execute_result",
          "data": {
            "text/html": [
              "<div>\n",
              "<style scoped>\n",
              "    .dataframe tbody tr th:only-of-type {\n",
              "        vertical-align: middle;\n",
              "    }\n",
              "\n",
              "    .dataframe tbody tr th {\n",
              "        vertical-align: top;\n",
              "    }\n",
              "\n",
              "    .dataframe thead th {\n",
              "        text-align: right;\n",
              "    }\n",
              "</style>\n",
              "<table border=\"1\" class=\"dataframe\">\n",
              "  <thead>\n",
              "    <tr style=\"text-align: right;\">\n",
              "      <th></th>\n",
              "      <th>Situação</th>\n",
              "    </tr>\n",
              "  </thead>\n",
              "  <tbody>\n",
              "    <tr>\n",
              "      <th>Ryu</th>\n",
              "      <td>Aprovado</td>\n",
              "    </tr>\n",
              "    <tr>\n",
              "      <th>Neil</th>\n",
              "      <td>Aprovado</td>\n",
              "    </tr>\n",
              "  </tbody>\n",
              "</table>\n",
              "</div>"
            ],
            "text/plain": [
              "      Situação\n",
              "Ryu   Aprovado\n",
              "Neil  Aprovado"
            ]
          },
          "metadata": {
            "tags": []
          },
          "execution_count": 37
        }
      ]
    },
    {
      "cell_type": "code",
      "metadata": {
        "colab": {
          "base_uri": "https://localhost:8080/"
        },
        "id": "_ifNcu-U-vnd",
        "outputId": "ac92ac38-a3fa-4894-8b78-a8c00857a4b3"
      },
      "source": [
        "# Intervalo aberto [1, 3)\n",
        "notas.iloc[1:3]"
      ],
      "execution_count": 38,
      "outputs": [
        {
          "output_type": "execute_result",
          "data": {
            "text/plain": [
              "6.8"
            ]
          },
          "metadata": {
            "tags": []
          },
          "execution_count": 38
        }
      ]
    },
    {
      "cell_type": "code",
      "metadata": {
        "colab": {
          "base_uri": "https://localhost:8080/",
          "height": 266
        },
        "id": "BEL2kZjM_f1N",
        "outputId": "8d66daf8-68ea-4052-a922-b348888367fe"
      },
      "source": [
        "# Reatribuição: corrgindo a nota:\n",
        "\n",
        "notas.loc['Pitoco', 'P3'] = 9.1\n",
        "notas"
      ],
      "execution_count": 41,
      "outputs": [
        {
          "output_type": "execute_result",
          "data": {
            "text/html": [
              "<div>\n",
              "<style scoped>\n",
              "    .dataframe tbody tr th:only-of-type {\n",
              "        vertical-align: middle;\n",
              "    }\n",
              "\n",
              "    .dataframe tbody tr th {\n",
              "        vertical-align: top;\n",
              "    }\n",
              "\n",
              "    .dataframe thead th {\n",
              "        text-align: right;\n",
              "    }\n",
              "</style>\n",
              "<table border=\"1\" class=\"dataframe\">\n",
              "  <thead>\n",
              "    <tr style=\"text-align: right;\">\n",
              "      <th></th>\n",
              "      <th>P1</th>\n",
              "      <th>P2</th>\n",
              "      <th>P3</th>\n",
              "      <th>Sexo</th>\n",
              "      <th>MF</th>\n",
              "      <th>Situação</th>\n",
              "    </tr>\n",
              "  </thead>\n",
              "  <tbody>\n",
              "    <tr>\n",
              "      <th>Rodolfo</th>\n",
              "      <td>6.8</td>\n",
              "      <td>2.4</td>\n",
              "      <td>2.3</td>\n",
              "      <td>M</td>\n",
              "      <td>3.8</td>\n",
              "      <td>Reprovado</td>\n",
              "    </tr>\n",
              "    <tr>\n",
              "      <th>Youri</th>\n",
              "      <td>3.8</td>\n",
              "      <td>3.3</td>\n",
              "      <td>5.4</td>\n",
              "      <td>F</td>\n",
              "      <td>4.2</td>\n",
              "      <td>Reprovado</td>\n",
              "    </tr>\n",
              "    <tr>\n",
              "      <th>RZO</th>\n",
              "      <td>7.3</td>\n",
              "      <td>2.1</td>\n",
              "      <td>5.6</td>\n",
              "      <td>F</td>\n",
              "      <td>5.0</td>\n",
              "      <td>Aprovado</td>\n",
              "    </tr>\n",
              "    <tr>\n",
              "      <th>Sputinic</th>\n",
              "      <td>8.5</td>\n",
              "      <td>2.4</td>\n",
              "      <td>4.9</td>\n",
              "      <td>F</td>\n",
              "      <td>5.3</td>\n",
              "      <td>Aprovado</td>\n",
              "    </tr>\n",
              "    <tr>\n",
              "      <th>Ryu</th>\n",
              "      <td>4.4</td>\n",
              "      <td>5.6</td>\n",
              "      <td>7.2</td>\n",
              "      <td>M</td>\n",
              "      <td>5.7</td>\n",
              "      <td>Aprovado</td>\n",
              "    </tr>\n",
              "    <tr>\n",
              "      <th>Neil</th>\n",
              "      <td>5.3</td>\n",
              "      <td>8.8</td>\n",
              "      <td>5.2</td>\n",
              "      <td>F</td>\n",
              "      <td>6.4</td>\n",
              "      <td>Aprovado</td>\n",
              "    </tr>\n",
              "    <tr>\n",
              "      <th>Pitoco</th>\n",
              "      <td>8.7</td>\n",
              "      <td>4.3</td>\n",
              "      <td>9.1</td>\n",
              "      <td>M</td>\n",
              "      <td>6.5</td>\n",
              "      <td>Aprovado</td>\n",
              "    </tr>\n",
              "  </tbody>\n",
              "</table>\n",
              "</div>"
            ],
            "text/plain": [
              "           P1   P2   P3 Sexo   MF   Situação\n",
              "Rodolfo   6.8  2.4  2.3    M  3.8  Reprovado\n",
              "Youri     3.8  3.3  5.4    F  4.2  Reprovado\n",
              "RZO       7.3  2.1  5.6    F  5.0   Aprovado\n",
              "Sputinic  8.5  2.4  4.9    F  5.3   Aprovado\n",
              "Ryu       4.4  5.6  7.2    M  5.7   Aprovado\n",
              "Neil      5.3  8.8  5.2    F  6.4   Aprovado\n",
              "Pitoco    8.7  4.3  9.1    M  6.5   Aprovado"
            ]
          },
          "metadata": {
            "tags": []
          },
          "execution_count": 41
        }
      ]
    },
    {
      "cell_type": "code",
      "metadata": {
        "colab": {
          "base_uri": "https://localhost:8080/",
          "height": 142
        },
        "id": "dXc3VhLH_7JK",
        "outputId": "dc4860f5-2605-41fb-c711-e08324d768cb"
      },
      "source": [
        "notas.groupby('Sexo').mean().round(2)"
      ],
      "execution_count": 43,
      "outputs": [
        {
          "output_type": "execute_result",
          "data": {
            "text/html": [
              "<div>\n",
              "<style scoped>\n",
              "    .dataframe tbody tr th:only-of-type {\n",
              "        vertical-align: middle;\n",
              "    }\n",
              "\n",
              "    .dataframe tbody tr th {\n",
              "        vertical-align: top;\n",
              "    }\n",
              "\n",
              "    .dataframe thead th {\n",
              "        text-align: right;\n",
              "    }\n",
              "</style>\n",
              "<table border=\"1\" class=\"dataframe\">\n",
              "  <thead>\n",
              "    <tr style=\"text-align: right;\">\n",
              "      <th></th>\n",
              "      <th>P1</th>\n",
              "      <th>P2</th>\n",
              "      <th>P3</th>\n",
              "      <th>MF</th>\n",
              "    </tr>\n",
              "    <tr>\n",
              "      <th>Sexo</th>\n",
              "      <th></th>\n",
              "      <th></th>\n",
              "      <th></th>\n",
              "      <th></th>\n",
              "    </tr>\n",
              "  </thead>\n",
              "  <tbody>\n",
              "    <tr>\n",
              "      <th>F</th>\n",
              "      <td>6.22</td>\n",
              "      <td>4.15</td>\n",
              "      <td>5.28</td>\n",
              "      <td>5.22</td>\n",
              "    </tr>\n",
              "    <tr>\n",
              "      <th>M</th>\n",
              "      <td>6.63</td>\n",
              "      <td>4.10</td>\n",
              "      <td>6.20</td>\n",
              "      <td>5.33</td>\n",
              "    </tr>\n",
              "  </tbody>\n",
              "</table>\n",
              "</div>"
            ],
            "text/plain": [
              "        P1    P2    P3    MF\n",
              "Sexo                        \n",
              "F     6.22  4.15  5.28  5.22\n",
              "M     6.63  4.10  6.20  5.33"
            ]
          },
          "metadata": {
            "tags": []
          },
          "execution_count": 43
        }
      ]
    },
    {
      "cell_type": "code",
      "metadata": {
        "colab": {
          "base_uri": "https://localhost:8080/",
          "height": 142
        },
        "id": "nq5BntWUAWP0",
        "outputId": "b18faa3c-7512-46b8-c203-a0c0a522ff06"
      },
      "source": [
        "notas.groupby('Situação').mean().round(2)"
      ],
      "execution_count": 44,
      "outputs": [
        {
          "output_type": "execute_result",
          "data": {
            "text/html": [
              "<div>\n",
              "<style scoped>\n",
              "    .dataframe tbody tr th:only-of-type {\n",
              "        vertical-align: middle;\n",
              "    }\n",
              "\n",
              "    .dataframe tbody tr th {\n",
              "        vertical-align: top;\n",
              "    }\n",
              "\n",
              "    .dataframe thead th {\n",
              "        text-align: right;\n",
              "    }\n",
              "</style>\n",
              "<table border=\"1\" class=\"dataframe\">\n",
              "  <thead>\n",
              "    <tr style=\"text-align: right;\">\n",
              "      <th></th>\n",
              "      <th>P1</th>\n",
              "      <th>P2</th>\n",
              "      <th>P3</th>\n",
              "      <th>MF</th>\n",
              "    </tr>\n",
              "    <tr>\n",
              "      <th>Situação</th>\n",
              "      <th></th>\n",
              "      <th></th>\n",
              "      <th></th>\n",
              "      <th></th>\n",
              "    </tr>\n",
              "  </thead>\n",
              "  <tbody>\n",
              "    <tr>\n",
              "      <th>Aprovado</th>\n",
              "      <td>6.84</td>\n",
              "      <td>4.64</td>\n",
              "      <td>6.40</td>\n",
              "      <td>5.78</td>\n",
              "    </tr>\n",
              "    <tr>\n",
              "      <th>Reprovado</th>\n",
              "      <td>5.30</td>\n",
              "      <td>2.85</td>\n",
              "      <td>3.85</td>\n",
              "      <td>4.00</td>\n",
              "    </tr>\n",
              "  </tbody>\n",
              "</table>\n",
              "</div>"
            ],
            "text/plain": [
              "             P1    P2    P3    MF\n",
              "Situação                         \n",
              "Aprovado   6.84  4.64  6.40  5.78\n",
              "Reprovado  5.30  2.85  3.85  4.00"
            ]
          },
          "metadata": {
            "tags": []
          },
          "execution_count": 44
        }
      ]
    },
    {
      "cell_type": "code",
      "metadata": {
        "colab": {
          "base_uri": "https://localhost:8080/",
          "height": 142
        },
        "id": "JK64mesGAie6",
        "outputId": "be08d704-7a00-42bf-8928-9862c42d4213"
      },
      "source": [
        "notas.groupby('Situação').median()"
      ],
      "execution_count": 47,
      "outputs": [
        {
          "output_type": "execute_result",
          "data": {
            "text/html": [
              "<div>\n",
              "<style scoped>\n",
              "    .dataframe tbody tr th:only-of-type {\n",
              "        vertical-align: middle;\n",
              "    }\n",
              "\n",
              "    .dataframe tbody tr th {\n",
              "        vertical-align: top;\n",
              "    }\n",
              "\n",
              "    .dataframe thead th {\n",
              "        text-align: right;\n",
              "    }\n",
              "</style>\n",
              "<table border=\"1\" class=\"dataframe\">\n",
              "  <thead>\n",
              "    <tr style=\"text-align: right;\">\n",
              "      <th></th>\n",
              "      <th>P1</th>\n",
              "      <th>P2</th>\n",
              "      <th>P3</th>\n",
              "      <th>MF</th>\n",
              "    </tr>\n",
              "    <tr>\n",
              "      <th>Situação</th>\n",
              "      <th></th>\n",
              "      <th></th>\n",
              "      <th></th>\n",
              "      <th></th>\n",
              "    </tr>\n",
              "  </thead>\n",
              "  <tbody>\n",
              "    <tr>\n",
              "      <th>Aprovado</th>\n",
              "      <td>7.3</td>\n",
              "      <td>4.30</td>\n",
              "      <td>5.60</td>\n",
              "      <td>5.7</td>\n",
              "    </tr>\n",
              "    <tr>\n",
              "      <th>Reprovado</th>\n",
              "      <td>5.3</td>\n",
              "      <td>2.85</td>\n",
              "      <td>3.85</td>\n",
              "      <td>4.0</td>\n",
              "    </tr>\n",
              "  </tbody>\n",
              "</table>\n",
              "</div>"
            ],
            "text/plain": [
              "            P1    P2    P3   MF\n",
              "Situação                       \n",
              "Aprovado   7.3  4.30  5.60  5.7\n",
              "Reprovado  5.3  2.85  3.85  4.0"
            ]
          },
          "metadata": {
            "tags": []
          },
          "execution_count": 47
        }
      ]
    },
    {
      "cell_type": "code",
      "metadata": {
        "colab": {
          "base_uri": "https://localhost:8080/",
          "height": 142
        },
        "id": "gNw7lVpSAu2o",
        "outputId": "6dc8d4b0-4417-4a9c-cb26-370d01db03d2"
      },
      "source": [
        "notas.groupby('Situação').quantile()"
      ],
      "execution_count": 52,
      "outputs": [
        {
          "output_type": "execute_result",
          "data": {
            "text/html": [
              "<div>\n",
              "<style scoped>\n",
              "    .dataframe tbody tr th:only-of-type {\n",
              "        vertical-align: middle;\n",
              "    }\n",
              "\n",
              "    .dataframe tbody tr th {\n",
              "        vertical-align: top;\n",
              "    }\n",
              "\n",
              "    .dataframe thead th {\n",
              "        text-align: right;\n",
              "    }\n",
              "</style>\n",
              "<table border=\"1\" class=\"dataframe\">\n",
              "  <thead>\n",
              "    <tr style=\"text-align: right;\">\n",
              "      <th></th>\n",
              "      <th>P1</th>\n",
              "      <th>P2</th>\n",
              "      <th>P3</th>\n",
              "      <th>MF</th>\n",
              "    </tr>\n",
              "    <tr>\n",
              "      <th>Situação</th>\n",
              "      <th></th>\n",
              "      <th></th>\n",
              "      <th></th>\n",
              "      <th></th>\n",
              "    </tr>\n",
              "  </thead>\n",
              "  <tbody>\n",
              "    <tr>\n",
              "      <th>Aprovado</th>\n",
              "      <td>7.3</td>\n",
              "      <td>4.30</td>\n",
              "      <td>5.60</td>\n",
              "      <td>5.7</td>\n",
              "    </tr>\n",
              "    <tr>\n",
              "      <th>Reprovado</th>\n",
              "      <td>5.3</td>\n",
              "      <td>2.85</td>\n",
              "      <td>3.85</td>\n",
              "      <td>4.0</td>\n",
              "    </tr>\n",
              "  </tbody>\n",
              "</table>\n",
              "</div>"
            ],
            "text/plain": [
              "            P1    P2    P3   MF\n",
              "Situação                       \n",
              "Aprovado   7.3  4.30  5.60  5.7\n",
              "Reprovado  5.3  2.85  3.85  4.0"
            ]
          },
          "metadata": {
            "tags": []
          },
          "execution_count": 52
        }
      ]
    },
    {
      "cell_type": "code",
      "metadata": {
        "colab": {
          "base_uri": "https://localhost:8080/",
          "height": 282
        },
        "id": "_6pLd_4XBYUI",
        "outputId": "0f142a24-5545-4ad2-f558-d41d5199277a"
      },
      "source": [
        "# Gráficos: \n",
        "\n",
        "notas.plot(kind = 'box')"
      ],
      "execution_count": 53,
      "outputs": [
        {
          "output_type": "execute_result",
          "data": {
            "text/plain": [
              "<matplotlib.axes._subplots.AxesSubplot at 0x7f74de22b750>"
            ]
          },
          "metadata": {
            "tags": []
          },
          "execution_count": 53
        },
        {
          "output_type": "display_data",
          "data": {
            "image/png": "[encoded data removed]",
            "text/plain": [
              "<Figure size 432x288 with 1 Axes>"
            ]
          },
          "metadata": {
            "tags": [],
            "needs_background": "light"
          }
        }
      ]
    },
    {
      "cell_type": "code",
      "metadata": {
        "colab": {
          "base_uri": "https://localhost:8080/",
          "height": 282
        },
        "id": "O6vplyGUCbiB",
        "outputId": "34e68e1f-a3c3-4ce1-85f7-33edc1aa15e7"
      },
      "source": [
        "notas.mean().plot(kind = 'barh')"
      ],
      "execution_count": 55,
      "outputs": [
        {
          "output_type": "execute_result",
          "data": {
            "text/plain": [
              "<matplotlib.axes._subplots.AxesSubplot at 0x7f74ddc2b450>"
            ]
          },
          "metadata": {
            "tags": []
          },
          "execution_count": 55
        },
        {
          "output_type": "display_data",
          "data": {
            "image/png": "[encoded data removed]",
            "text/plain": [
              "<Figure size 432x288 with 1 Axes>"
            ]
          },
          "metadata": {
            "tags": [],
            "needs_background": "light"
          }
        }
      ]
    },
    {
      "cell_type": "code",
      "metadata": {
        "colab": {
          "base_uri": "https://localhost:8080/",
          "height": 298
        },
        "id": "hRZ8plLhCobP",
        "outputId": "4096ea99-7a2b-40e7-dc2b-460352b9f8e3"
      },
      "source": [
        "notas.mean().plot(kind = 'hist', color = 'red', title = 'Título')"
      ],
      "execution_count": 59,
      "outputs": [
        {
          "output_type": "execute_result",
          "data": {
            "text/plain": [
              "<matplotlib.axes._subplots.AxesSubplot at 0x7f74dd955190>"
            ]
          },
          "metadata": {
            "tags": []
          },
          "execution_count": 59
        },
        {
          "output_type": "display_data",
          "data": {
            "image/png": "[encoded data removed]",
            "text/plain": [
              "<Figure size 432x288 with 1 Axes>"
            ]
          },
          "metadata": {
            "tags": [],
            "needs_background": "light"
          }
        }
      ]
    },
    {
      "cell_type": "code",
      "metadata": {
        "colab": {
          "base_uri": "https://localhost:8080/",
          "height": 282
        },
        "id": "jiwIMIOOC9vz",
        "outputId": "e3ca1eac-2444-4a56-df32-85f05d916aad"
      },
      "source": [
        "notas['Situação'].value_counts().plot(kind = 'barh', color = 'green')"
      ],
      "execution_count": 60,
      "outputs": [
        {
          "output_type": "execute_result",
          "data": {
            "text/plain": [
              "<matplotlib.axes._subplots.AxesSubplot at 0x7f74dd95df10>"
            ]
          },
          "metadata": {
            "tags": []
          },
          "execution_count": 60
        },
        {
          "output_type": "display_data",
          "data": {
            "image/png": "[encoded data removed]",
            "text/plain": [
              "<Figure size 432x288 with 1 Axes>"
            ]
          },
          "metadata": {
            "tags": [],
            "needs_background": "light"
          }
        }
      ]
    },
    {
      "cell_type": "code",
      "metadata": {
        "colab": {
          "base_uri": "https://localhost:8080/",
          "height": 248
        },
        "id": "i_haQKSWDPHE",
        "outputId": "d5222fa6-d0c0-408d-fd62-b1bdea5c12ae"
      },
      "source": [
        "notas['Situação'].value_counts().plot(kind = 'pie', explode = [0.1, 0]);"
      ],
      "execution_count": 64,
      "outputs": [
        {
          "output_type": "display_data",
          "data": {
            "image/png": "[encoded data removed]",
            "text/plain": [
              "<Figure size 432x288 with 1 Axes>"
            ]
          },
          "metadata": {
            "tags": []
          }
        }
      ]
    },
    {
      "cell_type": "code",
      "metadata": {
        "colab": {
          "base_uri": "https://localhost:8080/",
          "height": 295
        },
        "id": "1JDXfUnbDakE",
        "outputId": "e26e720e-0e56-488c-8862-166f37640e92"
      },
      "source": [
        "notas.groupby(['Sexo', 'Situação']).mean()[['MF']].round(2).unstack().plot(kind = 'bar')"
      ],
      "execution_count": 72,
      "outputs": [
        {
          "output_type": "execute_result",
          "data": {
            "text/plain": [
              "<matplotlib.axes._subplots.AxesSubplot at 0x7f74dd6f9890>"
            ]
          },
          "metadata": {
            "tags": []
          },
          "execution_count": 72
        },
        {
          "output_type": "display_data",
          "data": {
            "image/png": "[encoded data removed]",
            "text/plain": [
              "<Figure size 432x288 with 1 Axes>"
            ]
          },
          "metadata": {
            "tags": [],
            "needs_background": "light"
          }
        }
      ]
    }
  ]
}