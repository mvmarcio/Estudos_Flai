{
  "nbformat": 4,
  "nbformat_minor": 0,
  "metadata": {
    "colab": {
      "name": "Aula_6_Perfil_DS_T5.ipynb",
      "provenance": [],
      "authorship_tag": "ABX9TyNVQQh5GYJ8/SmCVZrM95ty",
      "include_colab_link": true
    },
    "kernelspec": {
      "name": "python3",
      "display_name": "Python 3"
    },
    "language_info": {
      "name": "python"
    }
  },
  "cells": [
    {
      "cell_type": "markdown",
      "metadata": {
        "id": "view-in-github",
        "colab_type": "text"
      },
      "source": [
        "<a href=\"https://colab.research.google.com/github/mvmarcio/Estudos_Flai/blob/main/Perfil_Profissional_de_Dados_Pandas.ipynb\" target=\"_parent\"><img src=\"https://colab.research.google.com/assets/colab-badge.svg\" alt=\"Open In Colab\"/></a>"
      ]
    },
    {
      "cell_type": "code",
      "metadata": {
        "id": "WXf5Bbga67rT"
      },
      "source": [
        "# Importando os dados\n",
        "import pandas as pd\n",
        "\n",
        "caminho = '/content/datahackers-survey-2019-anonymous-responses.csv'\n",
        "dados = pd.read_csv(caminho)"
      ],
      "execution_count": 1,
      "outputs": []
    },
    {
      "cell_type": "code",
      "metadata": {
        "colab": {
          "base_uri": "https://localhost:8080/",
          "height": 406
        },
        "id": "rYL43ibk9JRd",
        "outputId": "b33a4dd7-5a7c-49a5-d9d8-cf3dc31f74e6"
      },
      "source": [
        "# Vendo as 5 primeiras linhas:\n",
        "dados.head()"
      ],
      "execution_count": 2,
      "outputs": [
        {
          "output_type": "execute_result",
          "data": {
            "text/html": [
              "<div>\n",
              "<style scoped>\n",
              "    .dataframe tbody tr th:only-of-type {\n",
              "        vertical-align: middle;\n",
              "    }\n",
              "\n",
              "    .dataframe tbody tr th {\n",
              "        vertical-align: top;\n",
              "    }\n",
              "\n",
              "    .dataframe thead th {\n",
              "        text-align: right;\n",
              "    }\n",
              "</style>\n",
              "<table border=\"1\" class=\"dataframe\">\n",
              "  <thead>\n",
              "    <tr style=\"text-align: right;\">\n",
              "      <th></th>\n",
              "      <th>('P0', 'id')</th>\n",
              "      <th>('P1', 'age')</th>\n",
              "      <th>('P2', 'gender')</th>\n",
              "      <th>('P3', 'living_in_brasil')</th>\n",
              "      <th>('P5', 'living_state')</th>\n",
              "      <th>('P6', 'born_or_graduated')</th>\n",
              "      <th>('P8', 'degreee_level')</th>\n",
              "      <th>('P10', 'job_situation')</th>\n",
              "      <th>('P12', 'workers_number')</th>\n",
              "      <th>('P13', 'manager')</th>\n",
              "      <th>('P16', 'salary_range')</th>\n",
              "      <th>('P17', 'time_experience_data_science')</th>\n",
              "      <th>('P18', 'time_experience_before')</th>\n",
              "      <th>('P19', 'is_data_science_professional')</th>\n",
              "      <th>('P20', 'linear_regression')</th>\n",
              "      <th>('P20', 'logistic_regression')</th>\n",
              "      <th>('P20', 'glms')</th>\n",
              "      <th>('P20', 'decision_tree')</th>\n",
              "      <th>('P20', 'random_forest')</th>\n",
              "      <th>('P20', 'neural_networks')</th>\n",
              "      <th>('P20', 'bayesian_inference')</th>\n",
              "      <th>('P20', 'ensemble')</th>\n",
              "      <th>('P20', 'svms')</th>\n",
              "      <th>('P20', 'cnns')</th>\n",
              "      <th>('P20', 'rnns')</th>\n",
              "      <th>('P20', 'hmms')</th>\n",
              "      <th>('P20', 'gans')</th>\n",
              "      <th>('P20', 'markov_chains')</th>\n",
              "      <th>('P20', 'nlp')</th>\n",
              "      <th>('P20', 'gradient_boosted_machines')</th>\n",
              "      <th>('P20', 'cluster_analysis')</th>\n",
              "      <th>('P20', 'survival_analysis')</th>\n",
              "      <th>('P20', 'longitudinal_data_analysis')</th>\n",
              "      <th>('P20', 'joint analysis')</th>\n",
              "      <th>('P20', 'no_listed_methods')</th>\n",
              "      <th>('P21', 'sql_')</th>\n",
              "      <th>('P21', 'r')</th>\n",
              "      <th>('P21', 'python')</th>\n",
              "      <th>('P21', 'c_c++_c#')</th>\n",
              "      <th>('P21', 'dotnet')</th>\n",
              "      <th>...</th>\n",
              "      <th>('P30', 'microsoft_azure')</th>\n",
              "      <th>('P30', 'do_not_know')</th>\n",
              "      <th>('P30', 'other')</th>\n",
              "      <th>('P31', 'data_hackers_blog')</th>\n",
              "      <th>('P31', 'data_hackers_podcast')</th>\n",
              "      <th>('P31', 'weekly_newsletter')</th>\n",
              "      <th>('P31', 'slack_channel')</th>\n",
              "      <th>('P31', 'data_hackers_bootcamp')</th>\n",
              "      <th>('P31', 'do_not_know_data_hackers')</th>\n",
              "      <th>('P32', 'prefered_data_hackers_initiative')</th>\n",
              "      <th>('P33', 'telegram_groups')</th>\n",
              "      <th>('P33', 'whatsapp_groups')</th>\n",
              "      <th>('P33', 'youtube_channels')</th>\n",
              "      <th>('P33', 'other_brasilian_blogs')</th>\n",
              "      <th>('P33', 'other_slack_channels')</th>\n",
              "      <th>('P33', 'twitter')</th>\n",
              "      <th>('P33', 'abroad_blogs')</th>\n",
              "      <th>('P33', 'abroad_podcasts')</th>\n",
              "      <th>('P33', 'meetups_and_events')</th>\n",
              "      <th>('P33', 'only_data_hackers')</th>\n",
              "      <th>('P33', 'other')</th>\n",
              "      <th>('P34', 'udacity')</th>\n",
              "      <th>('P34', 'coursera')</th>\n",
              "      <th>('P34', 'udemy')</th>\n",
              "      <th>('P34', 'height')</th>\n",
              "      <th>('P34', 'edx')</th>\n",
              "      <th>('P34', 'data_camp')</th>\n",
              "      <th>('P34', 'data_quest')</th>\n",
              "      <th>('P34', 'kaggle_learn')</th>\n",
              "      <th>('P34', 'online_courses')</th>\n",
              "      <th>('P34', 'other')</th>\n",
              "      <th>('P35', 'data_science_plataforms_preference')</th>\n",
              "      <th>('P35', 'other')</th>\n",
              "      <th>('P36', 'draw_participation')</th>\n",
              "      <th>('D1', 'living_macroregion')</th>\n",
              "      <th>('D2', 'origin_macroregion')</th>\n",
              "      <th>('D3', 'anonymized_degree_area')</th>\n",
              "      <th>('D4', 'anonymized_market_sector')</th>\n",
              "      <th>('D5', 'anonymized_manager_level')</th>\n",
              "      <th>('D6', 'anonymized_role')</th>\n",
              "    </tr>\n",
              "  </thead>\n",
              "  <tbody>\n",
              "    <tr>\n",
              "      <th>0</th>\n",
              "      <td>v9otv8j9wdvjrv9otvwnn9owhzq54ktv</td>\n",
              "      <td>37.0</td>\n",
              "      <td>Masculino</td>\n",
              "      <td>1</td>\n",
              "      <td>Minas Gerais (MG)</td>\n",
              "      <td>1.0</td>\n",
              "      <td>Estudante de Graduação</td>\n",
              "      <td>Empregado (CTL)</td>\n",
              "      <td>de 1 a 5</td>\n",
              "      <td>0.0</td>\n",
              "      <td>de R$ 1.001/mês a R$ 2.000/mês</td>\n",
              "      <td>Não tenho experiência na área de dados</td>\n",
              "      <td>Não tive experiência na área de TI/Engenharia ...</td>\n",
              "      <td>0</td>\n",
              "      <td>0</td>\n",
              "      <td>0</td>\n",
              "      <td>0</td>\n",
              "      <td>0</td>\n",
              "      <td>0</td>\n",
              "      <td>0</td>\n",
              "      <td>0</td>\n",
              "      <td>0</td>\n",
              "      <td>0</td>\n",
              "      <td>0</td>\n",
              "      <td>0</td>\n",
              "      <td>0</td>\n",
              "      <td>0</td>\n",
              "      <td>0</td>\n",
              "      <td>0</td>\n",
              "      <td>0</td>\n",
              "      <td>0</td>\n",
              "      <td>0</td>\n",
              "      <td>0</td>\n",
              "      <td>0</td>\n",
              "      <td>0</td>\n",
              "      <td>0</td>\n",
              "      <td>0</td>\n",
              "      <td>0</td>\n",
              "      <td>0</td>\n",
              "      <td>0</td>\n",
              "      <td>...</td>\n",
              "      <td>0</td>\n",
              "      <td>0</td>\n",
              "      <td>0</td>\n",
              "      <td>0</td>\n",
              "      <td>0</td>\n",
              "      <td>0</td>\n",
              "      <td>0</td>\n",
              "      <td>0</td>\n",
              "      <td>1</td>\n",
              "      <td>Ainda não conhecia o Data Hackers</td>\n",
              "      <td>0</td>\n",
              "      <td>0</td>\n",
              "      <td>1</td>\n",
              "      <td>0</td>\n",
              "      <td>0</td>\n",
              "      <td>0</td>\n",
              "      <td>0</td>\n",
              "      <td>0</td>\n",
              "      <td>0</td>\n",
              "      <td>0</td>\n",
              "      <td>0</td>\n",
              "      <td>0</td>\n",
              "      <td>0</td>\n",
              "      <td>0</td>\n",
              "      <td>0</td>\n",
              "      <td>0</td>\n",
              "      <td>0</td>\n",
              "      <td>0</td>\n",
              "      <td>0</td>\n",
              "      <td>1</td>\n",
              "      <td>0</td>\n",
              "      <td>Nunca fiz cursos online</td>\n",
              "      <td>NaN</td>\n",
              "      <td>1.0</td>\n",
              "      <td>Região Sudeste</td>\n",
              "      <td>NaN</td>\n",
              "      <td>Computação / Engenharia de Software / Sistemas...</td>\n",
              "      <td>Outras</td>\n",
              "      <td>NaN</td>\n",
              "      <td>Outras</td>\n",
              "    </tr>\n",
              "    <tr>\n",
              "      <th>1</th>\n",
              "      <td>875ul998t0hqcv0871uptwf3oswcfv35</td>\n",
              "      <td>24.0</td>\n",
              "      <td>Feminino</td>\n",
              "      <td>1</td>\n",
              "      <td>São Paulo (SP)</td>\n",
              "      <td>1.0</td>\n",
              "      <td>Estudante de Graduação</td>\n",
              "      <td>Empregado (CTL)</td>\n",
              "      <td>Acima de 3000</td>\n",
              "      <td>0.0</td>\n",
              "      <td>de R$ 2.001/mês a R$ 3000/mês</td>\n",
              "      <td>Menos de 1 ano</td>\n",
              "      <td>Não tive experiência na área de TI/Engenharia ...</td>\n",
              "      <td>1</td>\n",
              "      <td>0</td>\n",
              "      <td>0</td>\n",
              "      <td>0</td>\n",
              "      <td>0</td>\n",
              "      <td>0</td>\n",
              "      <td>0</td>\n",
              "      <td>0</td>\n",
              "      <td>0</td>\n",
              "      <td>0</td>\n",
              "      <td>0</td>\n",
              "      <td>0</td>\n",
              "      <td>0</td>\n",
              "      <td>0</td>\n",
              "      <td>0</td>\n",
              "      <td>0</td>\n",
              "      <td>0</td>\n",
              "      <td>0</td>\n",
              "      <td>0</td>\n",
              "      <td>0</td>\n",
              "      <td>0</td>\n",
              "      <td>1</td>\n",
              "      <td>1</td>\n",
              "      <td>0</td>\n",
              "      <td>1</td>\n",
              "      <td>0</td>\n",
              "      <td>0</td>\n",
              "      <td>...</td>\n",
              "      <td>0</td>\n",
              "      <td>0</td>\n",
              "      <td>0</td>\n",
              "      <td>0</td>\n",
              "      <td>0</td>\n",
              "      <td>0</td>\n",
              "      <td>0</td>\n",
              "      <td>0</td>\n",
              "      <td>1</td>\n",
              "      <td>Ainda não conhecia o Data Hackers</td>\n",
              "      <td>0</td>\n",
              "      <td>0</td>\n",
              "      <td>1</td>\n",
              "      <td>0</td>\n",
              "      <td>0</td>\n",
              "      <td>0</td>\n",
              "      <td>0</td>\n",
              "      <td>0</td>\n",
              "      <td>0</td>\n",
              "      <td>0</td>\n",
              "      <td>0</td>\n",
              "      <td>0</td>\n",
              "      <td>0</td>\n",
              "      <td>1</td>\n",
              "      <td>0</td>\n",
              "      <td>0</td>\n",
              "      <td>0</td>\n",
              "      <td>0</td>\n",
              "      <td>0</td>\n",
              "      <td>0</td>\n",
              "      <td>1</td>\n",
              "      <td>NaN</td>\n",
              "      <td>Data Science Academy</td>\n",
              "      <td>0.0</td>\n",
              "      <td>Região Sudeste</td>\n",
              "      <td>NaN</td>\n",
              "      <td>Computação / Engenharia de Software / Sistemas...</td>\n",
              "      <td>Educação</td>\n",
              "      <td>NaN</td>\n",
              "      <td>Data Analyst/Analista de Dados</td>\n",
              "    </tr>\n",
              "    <tr>\n",
              "      <th>2</th>\n",
              "      <td>puscuk079vw1pusbb900pzw2xvpxtgdk</td>\n",
              "      <td>26.0</td>\n",
              "      <td>Masculino</td>\n",
              "      <td>1</td>\n",
              "      <td>São Paulo (SP)</td>\n",
              "      <td>1.0</td>\n",
              "      <td>Graduação/Bacharelado</td>\n",
              "      <td>Empregado (CTL)</td>\n",
              "      <td>Acima de 3000</td>\n",
              "      <td>0.0</td>\n",
              "      <td>de R$ 4.001/mês a R$ 6.000/mês</td>\n",
              "      <td>de 1 a 2 anos</td>\n",
              "      <td>de 6 a 10 anos</td>\n",
              "      <td>1</td>\n",
              "      <td>0</td>\n",
              "      <td>0</td>\n",
              "      <td>0</td>\n",
              "      <td>0</td>\n",
              "      <td>1</td>\n",
              "      <td>1</td>\n",
              "      <td>0</td>\n",
              "      <td>1</td>\n",
              "      <td>1</td>\n",
              "      <td>0</td>\n",
              "      <td>0</td>\n",
              "      <td>0</td>\n",
              "      <td>0</td>\n",
              "      <td>0</td>\n",
              "      <td>0</td>\n",
              "      <td>0</td>\n",
              "      <td>1</td>\n",
              "      <td>0</td>\n",
              "      <td>0</td>\n",
              "      <td>0</td>\n",
              "      <td>0</td>\n",
              "      <td>0</td>\n",
              "      <td>0</td>\n",
              "      <td>1</td>\n",
              "      <td>0</td>\n",
              "      <td>0</td>\n",
              "      <td>...</td>\n",
              "      <td>0</td>\n",
              "      <td>0</td>\n",
              "      <td>0</td>\n",
              "      <td>0</td>\n",
              "      <td>1</td>\n",
              "      <td>1</td>\n",
              "      <td>0</td>\n",
              "      <td>0</td>\n",
              "      <td>0</td>\n",
              "      <td>Newsletter Semanal</td>\n",
              "      <td>0</td>\n",
              "      <td>0</td>\n",
              "      <td>0</td>\n",
              "      <td>1</td>\n",
              "      <td>0</td>\n",
              "      <td>0</td>\n",
              "      <td>0</td>\n",
              "      <td>0</td>\n",
              "      <td>0</td>\n",
              "      <td>0</td>\n",
              "      <td>0</td>\n",
              "      <td>0</td>\n",
              "      <td>1</td>\n",
              "      <td>1</td>\n",
              "      <td>0</td>\n",
              "      <td>0</td>\n",
              "      <td>0</td>\n",
              "      <td>0</td>\n",
              "      <td>1</td>\n",
              "      <td>0</td>\n",
              "      <td>0</td>\n",
              "      <td>Udemy</td>\n",
              "      <td>NaN</td>\n",
              "      <td>1.0</td>\n",
              "      <td>Região Sudeste</td>\n",
              "      <td>NaN</td>\n",
              "      <td>Outras Engenharias</td>\n",
              "      <td>Indústria (Manufatura)</td>\n",
              "      <td>NaN</td>\n",
              "      <td>Outras</td>\n",
              "    </tr>\n",
              "    <tr>\n",
              "      <th>3</th>\n",
              "      <td>rmel8ewqpbffp2mnfbzermel8eqincov</td>\n",
              "      <td>21.0</td>\n",
              "      <td>Masculino</td>\n",
              "      <td>1</td>\n",
              "      <td>São Paulo (SP)</td>\n",
              "      <td>0.0</td>\n",
              "      <td>Estudante de Graduação</td>\n",
              "      <td>Estagiário</td>\n",
              "      <td>de 11 a 50</td>\n",
              "      <td>0.0</td>\n",
              "      <td>de R$ 1.001/mês a R$ 2.000/mês</td>\n",
              "      <td>Menos de 1 ano</td>\n",
              "      <td>de 2 a 3 anos</td>\n",
              "      <td>1</td>\n",
              "      <td>0</td>\n",
              "      <td>0</td>\n",
              "      <td>0</td>\n",
              "      <td>0</td>\n",
              "      <td>1</td>\n",
              "      <td>0</td>\n",
              "      <td>0</td>\n",
              "      <td>0</td>\n",
              "      <td>0</td>\n",
              "      <td>0</td>\n",
              "      <td>0</td>\n",
              "      <td>0</td>\n",
              "      <td>0</td>\n",
              "      <td>0</td>\n",
              "      <td>0</td>\n",
              "      <td>0</td>\n",
              "      <td>0</td>\n",
              "      <td>0</td>\n",
              "      <td>0</td>\n",
              "      <td>0</td>\n",
              "      <td>0</td>\n",
              "      <td>1</td>\n",
              "      <td>0</td>\n",
              "      <td>1</td>\n",
              "      <td>0</td>\n",
              "      <td>0</td>\n",
              "      <td>...</td>\n",
              "      <td>0</td>\n",
              "      <td>0</td>\n",
              "      <td>0</td>\n",
              "      <td>0</td>\n",
              "      <td>0</td>\n",
              "      <td>0</td>\n",
              "      <td>0</td>\n",
              "      <td>0</td>\n",
              "      <td>1</td>\n",
              "      <td>Ainda não conhecia o Data Hackers</td>\n",
              "      <td>0</td>\n",
              "      <td>1</td>\n",
              "      <td>0</td>\n",
              "      <td>0</td>\n",
              "      <td>0</td>\n",
              "      <td>0</td>\n",
              "      <td>0</td>\n",
              "      <td>1</td>\n",
              "      <td>0</td>\n",
              "      <td>0</td>\n",
              "      <td>0</td>\n",
              "      <td>0</td>\n",
              "      <td>1</td>\n",
              "      <td>1</td>\n",
              "      <td>1</td>\n",
              "      <td>0</td>\n",
              "      <td>0</td>\n",
              "      <td>0</td>\n",
              "      <td>0</td>\n",
              "      <td>0</td>\n",
              "      <td>0</td>\n",
              "      <td>Alura</td>\n",
              "      <td>NaN</td>\n",
              "      <td>1.0</td>\n",
              "      <td>Região Sudeste</td>\n",
              "      <td>Região Sudeste</td>\n",
              "      <td>Computação / Engenharia de Software / Sistemas...</td>\n",
              "      <td>Tecnologia/Fábrica de Software</td>\n",
              "      <td>NaN</td>\n",
              "      <td>Business Intelligence/Analista de BI</td>\n",
              "    </tr>\n",
              "    <tr>\n",
              "      <th>4</th>\n",
              "      <td>pj9mgud4d6mdct1l7vq0pj9mgu78h6ju</td>\n",
              "      <td>27.0</td>\n",
              "      <td>Masculino</td>\n",
              "      <td>1</td>\n",
              "      <td>NaN</td>\n",
              "      <td>1.0</td>\n",
              "      <td>Graduação/Bacharelado</td>\n",
              "      <td>Freelancer</td>\n",
              "      <td>de 6 a 10</td>\n",
              "      <td>1.0</td>\n",
              "      <td>de R$ 6.001/mês a R$ 8.000/mês</td>\n",
              "      <td>de 4 a 5 anos</td>\n",
              "      <td>de 4 a 5 anos</td>\n",
              "      <td>1</td>\n",
              "      <td>1</td>\n",
              "      <td>0</td>\n",
              "      <td>0</td>\n",
              "      <td>1</td>\n",
              "      <td>1</td>\n",
              "      <td>0</td>\n",
              "      <td>0</td>\n",
              "      <td>1</td>\n",
              "      <td>1</td>\n",
              "      <td>0</td>\n",
              "      <td>1</td>\n",
              "      <td>0</td>\n",
              "      <td>0</td>\n",
              "      <td>0</td>\n",
              "      <td>1</td>\n",
              "      <td>0</td>\n",
              "      <td>0</td>\n",
              "      <td>0</td>\n",
              "      <td>0</td>\n",
              "      <td>0</td>\n",
              "      <td>0</td>\n",
              "      <td>1</td>\n",
              "      <td>0</td>\n",
              "      <td>1</td>\n",
              "      <td>1</td>\n",
              "      <td>0</td>\n",
              "      <td>...</td>\n",
              "      <td>0</td>\n",
              "      <td>0</td>\n",
              "      <td>0</td>\n",
              "      <td>1</td>\n",
              "      <td>0</td>\n",
              "      <td>0</td>\n",
              "      <td>0</td>\n",
              "      <td>0</td>\n",
              "      <td>0</td>\n",
              "      <td>Blog/Medium do Data Hackers</td>\n",
              "      <td>0</td>\n",
              "      <td>0</td>\n",
              "      <td>0</td>\n",
              "      <td>0</td>\n",
              "      <td>0</td>\n",
              "      <td>0</td>\n",
              "      <td>0</td>\n",
              "      <td>0</td>\n",
              "      <td>0</td>\n",
              "      <td>0</td>\n",
              "      <td>1</td>\n",
              "      <td>1</td>\n",
              "      <td>1</td>\n",
              "      <td>1</td>\n",
              "      <td>0</td>\n",
              "      <td>0</td>\n",
              "      <td>0</td>\n",
              "      <td>0</td>\n",
              "      <td>0</td>\n",
              "      <td>0</td>\n",
              "      <td>0</td>\n",
              "      <td>Udemy</td>\n",
              "      <td>NaN</td>\n",
              "      <td>1.0</td>\n",
              "      <td>NaN</td>\n",
              "      <td>NaN</td>\n",
              "      <td>Computação / Engenharia de Software / Sistemas...</td>\n",
              "      <td>Internet/Ecommerce</td>\n",
              "      <td>C-level (CDO, CIO, CTO)</td>\n",
              "      <td>NaN</td>\n",
              "    </tr>\n",
              "  </tbody>\n",
              "</table>\n",
              "<p>5 rows × 170 columns</p>\n",
              "</div>"
            ],
            "text/plain": [
              "                       ('P0', 'id')  ...             ('D6', 'anonymized_role')\n",
              "0  v9otv8j9wdvjrv9otvwnn9owhzq54ktv  ...                                Outras\n",
              "1  875ul998t0hqcv0871uptwf3oswcfv35  ...        Data Analyst/Analista de Dados\n",
              "2  puscuk079vw1pusbb900pzw2xvpxtgdk  ...                                Outras\n",
              "3  rmel8ewqpbffp2mnfbzermel8eqincov  ...  Business Intelligence/Analista de BI\n",
              "4  pj9mgud4d6mdct1l7vq0pj9mgu78h6ju  ...                                   NaN\n",
              "\n",
              "[5 rows x 170 columns]"
            ]
          },
          "metadata": {
            "tags": []
          },
          "execution_count": 2
        }
      ]
    },
    {
      "cell_type": "code",
      "metadata": {
        "colab": {
          "base_uri": "https://localhost:8080/"
        },
        "id": "jZvExJ0f-KzY",
        "outputId": "19fd3561-f35c-4aa7-ab7c-9ecbc80eb1a3"
      },
      "source": [
        "# Visualizando os valores faltantes:\n",
        "dados.isnull().sum()[dados.isnull().mean() != 0] # filtrando apenas os valores faltantes"
      ],
      "execution_count": 3,
      "outputs": [
        {
          "output_type": "execute_result",
          "data": {
            "text/plain": [
              "('P1', 'age')                                      24\n",
              "('P2', 'gender')                                    3\n",
              "('P5', 'living_state')                            337\n",
              "('P6', 'born_or_graduated')                        34\n",
              "('P12', 'workers_number')                         238\n",
              "('P13', 'manager')                                238\n",
              "('P16', 'salary_range')                           238\n",
              "('P22', 'most_used_proggraming_languages')        859\n",
              "('P29', 'have_data_warehouse')                    972\n",
              "('P35', 'data_science_plataforms_preference')     140\n",
              "('P35', 'other')                                 1625\n",
              "('P36', 'draw_participation')                       4\n",
              "('D1', 'living_macroregion')                      337\n",
              "('D2', 'origin_macroregion')                     1440\n",
              "('D3', 'anonymized_degree_area')                   35\n",
              "('D4', 'anonymized_market_sector')                243\n",
              "('D5', 'anonymized_manager_level')               1460\n",
              "('D6', 'anonymized_role')                         514\n",
              "dtype: int64"
            ]
          },
          "metadata": {
            "tags": []
          },
          "execution_count": 3
        }
      ]
    },
    {
      "cell_type": "code",
      "metadata": {
        "colab": {
          "base_uri": "https://localhost:8080/"
        },
        "id": "Ys374mul_ZDv",
        "outputId": "1188e8f1-73d0-4dca-fd0b-a1c3deb789ca"
      },
      "source": [
        "# Visualizando os valores faltantes:\n",
        "dados.isnull().mean()[dados.isnull().mean() != 0].sort_values()"
      ],
      "execution_count": 4,
      "outputs": [
        {
          "output_type": "execute_result",
          "data": {
            "text/plain": [
              "('P2', 'gender')                                 0.001700\n",
              "('P36', 'draw_participation')                    0.002266\n",
              "('P1', 'age')                                    0.013598\n",
              "('P6', 'born_or_graduated')                      0.019263\n",
              "('D3', 'anonymized_degree_area')                 0.019830\n",
              "('P35', 'data_science_plataforms_preference')    0.079320\n",
              "('P12', 'workers_number')                        0.134844\n",
              "('P13', 'manager')                               0.134844\n",
              "('P16', 'salary_range')                          0.134844\n",
              "('D4', 'anonymized_market_sector')               0.137677\n",
              "('P5', 'living_state')                           0.190935\n",
              "('D1', 'living_macroregion')                     0.190935\n",
              "('D6', 'anonymized_role')                        0.291218\n",
              "('P22', 'most_used_proggraming_languages')       0.486686\n",
              "('P29', 'have_data_warehouse')                   0.550708\n",
              "('D2', 'origin_macroregion')                     0.815864\n",
              "('D5', 'anonymized_manager_level')               0.827195\n",
              "('P35', 'other')                                 0.920680\n",
              "dtype: float64"
            ]
          },
          "metadata": {
            "tags": []
          },
          "execution_count": 4
        }
      ]
    },
    {
      "cell_type": "code",
      "metadata": {
        "colab": {
          "base_uri": "https://localhost:8080/"
        },
        "id": "wyuBmTI6_wvQ",
        "outputId": "f800ab66-ec66-4244-c790-96708da94aca"
      },
      "source": [
        "# Visualizando a variável 6 das profissões:\n",
        "dados[\"('D6', 'anonymized_role')\"].value_counts() # contando as profissões."
      ],
      "execution_count": 5,
      "outputs": [
        {
          "output_type": "execute_result",
          "data": {
            "text/plain": [
              "Desenvolvedor ou Engenheiro de Software    225\n",
              "Outras                                     220\n",
              "Data Scientist/Cientista de Dados          167\n",
              "Data Analyst/Analista de Dados             163\n",
              "Business Intelligence/Analista de BI       150\n",
              "Data Engineer/Engenheiro de Dados          130\n",
              "Business Analyst/Analista de Negócios       72\n",
              "Analista de Inteligência de Mercado         29\n",
              "Engenheiro                                  26\n",
              "Analista de Marketing                       19\n",
              "Engenheiro de Machine Learning              15\n",
              "DBA/Administrador de Banco de Dados         14\n",
              "Estatístico                                 11\n",
              "Economista                                  10\n",
              "Name: ('D6', 'anonymized_role'), dtype: int64"
            ]
          },
          "metadata": {
            "tags": []
          },
          "execution_count": 5
        }
      ]
    },
    {
      "cell_type": "code",
      "metadata": {
        "colab": {
          "base_uri": "https://localhost:8080/",
          "height": 282
        },
        "id": "emU4eLsR_ZGa",
        "outputId": "86948781-2fc8-47d6-c187-660ab16b6c0c"
      },
      "source": [
        "# Plotando o gráfico de colunas da variável das profissões:\n",
        "dados[\"('D6', 'anonymized_role')\"].value_counts().plot(kind = 'barh')"
      ],
      "execution_count": 6,
      "outputs": [
        {
          "output_type": "execute_result",
          "data": {
            "text/plain": [
              "<matplotlib.axes._subplots.AxesSubplot at 0x7f9a3d1f0a90>"
            ]
          },
          "metadata": {
            "tags": []
          },
          "execution_count": 6
        },
        {
          "output_type": "display_data",
          "data": {
            "image/png": "[encoded data removed]",
            "text/plain": [
              "<Figure size 432x288 with 1 Axes>"
            ]
          },
          "metadata": {
            "tags": [],
            "needs_background": "light"
          }
        }
      ]
    },
    {
      "cell_type": "code",
      "metadata": {
        "id": "AXdvtN2BCjAe"
      },
      "source": [
        "# Agrupando as profissões para facilitar a análise.\n",
        "\n",
        "# DBA com engenheiro de dados.\n",
        "# Anlista de mercado com analista de negócios.\n",
        "\n",
        "# Vamos agrupar utilizando um dicionário:\n",
        "\n",
        "profmap = {'Desenvolvedor ou Engenheiro de Software': 'Desenvolvedor/Engenheiro de Software',\n",
        "           'Outras': 'Outras',\n",
        "           'Data Scientist/Cientista de Dados': 'Cientista de Dados',\n",
        "           'Data Analyst/Analista de Dados': 'Analista de Dados',\n",
        "           'Business Intelligence/Analista de BI': 'Analista de BI',\n",
        "           'Data Engineer/Engenheiro de Dados': 'Engenheiro de Dados',\n",
        "           'Business Analyst/Analista de Negócios': 'Analista de BI',\n",
        "           'Analista de Inteligência de Mercado': 'Analista de BI',\n",
        "           'Engenheiro': 'Outras',\n",
        "           'Analista de Marketing': 'Outras',\n",
        "           'Engenheiro de Machine Learning': 'Cientista de Dados',\n",
        "           'DBA/Administrador de Banco de Dados': 'Engenheiro de Dados',\n",
        "           'Estatístico': 'Cientista de Dados',\n",
        "           'Economista': 'Outras'}\n",
        "\n",
        "dados['profissao'] = dados[\"('D6', 'anonymized_role')\"].map(profmap)"
      ],
      "execution_count": 7,
      "outputs": []
    },
    {
      "cell_type": "code",
      "metadata": {
        "colab": {
          "base_uri": "https://localhost:8080/"
        },
        "id": "KQomCj_xGK72",
        "outputId": "a9a16ea2-b28a-42dd-9b3c-821cf0a9e493"
      },
      "source": [
        "# Analistando a variável agrupada das profissões:\n",
        "dados['profissao'].value_counts()"
      ],
      "execution_count": 8,
      "outputs": [
        {
          "output_type": "execute_result",
          "data": {
            "text/plain": [
              "Outras                                  275\n",
              "Analista de BI                          251\n",
              "Desenvolvedor/Engenheiro de Software    225\n",
              "Cientista de Dados                      193\n",
              "Analista de Dados                       163\n",
              "Engenheiro de Dados                     144\n",
              "Name: profissao, dtype: int64"
            ]
          },
          "metadata": {
            "tags": []
          },
          "execution_count": 8
        }
      ]
    },
    {
      "cell_type": "code",
      "metadata": {
        "colab": {
          "base_uri": "https://localhost:8080/",
          "height": 282
        },
        "id": "UhChJWGhGdi8",
        "outputId": "732310bc-0384-4ae5-e98f-7057a58ebf43"
      },
      "source": [
        "# Plotando a variável agrupada das profissões:\n",
        "dados['profissao'].value_counts().plot(kind = 'barh')"
      ],
      "execution_count": 9,
      "outputs": [
        {
          "output_type": "execute_result",
          "data": {
            "text/plain": [
              "<matplotlib.axes._subplots.AxesSubplot at 0x7f9a3d111d10>"
            ]
          },
          "metadata": {
            "tags": []
          },
          "execution_count": 9
        },
        {
          "output_type": "display_data",
          "data": {
            "image/png": "[encoded data removed]",
            "text/plain": [
              "<Figure size 432x288 with 1 Axes>"
            ]
          },
          "metadata": {
            "tags": [],
            "needs_background": "light"
          }
        }
      ]
    },
    {
      "cell_type": "markdown",
      "metadata": {
        "id": "Ha_kz7WP0Klm"
      },
      "source": [
        "Agora vamos criar novas variáveis para facilitar a análise, como o tamanho da empresa, salários, entre outras."
      ]
    },
    {
      "cell_type": "code",
      "metadata": {
        "id": "Cca9kApbHdsL"
      },
      "source": [
        "# Tamanho da empresa: vamos fazer categorias com o tamanho das empresas\n",
        "\n",
        "tammap = {'de 1 a 5': 'Pequena',\n",
        "          'de 6  10': 'Pequena',\n",
        "          'de 11 a 50': 'Pequena',\n",
        "          'de 51 a 100': 'Pequena',\n",
        "          'de 101 a 500': 'Média',\n",
        "          'de 501 a 1000': 'Média',\n",
        "          'de 1001 a 3000': 'Grande',\n",
        "          'Acima de 3000': 'Grande'}"
      ],
      "execution_count": 10,
      "outputs": []
    },
    {
      "cell_type": "code",
      "metadata": {
        "id": "FJm06EHM1bqg",
        "colab": {
          "base_uri": "https://localhost:8080/"
        },
        "outputId": "bb11c59e-1e19-44fa-ca35-97504eeb3b8f"
      },
      "source": [
        "# Ajustando os salários em números:\n",
        "\n",
        "salamap = { 'Menos de R$ 1.000/mês': 1000,\n",
        "           'de R$ 1.001/mês a R$ 2.000/mês': 1500,\n",
        "           'de R$ 2.001/mês a R$ 3000/mês': 2500,\n",
        "           'de 3.001/mês a R$ 4.000/mês': 3500,\n",
        "           'de R$ 4.001/mês a R$ 6.000/mês': 5000,\n",
        "           'de R$ 6.001/mês a R$ 8.000/mês': 7000,\n",
        "           'de 8.001/mês a R$ 12.000/mês': 10000,\n",
        "           'de R$ 12.001/mês a R$ 16.000/mês': 14000,\n",
        "           'de 16.001/mês a R$ 20.000/mês': 18000,\n",
        "           'de R$ 20.001/mês a R$ 25.000/mês': 22500,\n",
        "           'Acima de R$ 25.001/mês': 25000}\n",
        "           \n",
        "salamap # visualizando"
      ],
      "execution_count": 11,
      "outputs": [
        {
          "output_type": "execute_result",
          "data": {
            "text/plain": [
              "{'Acima de R$ 25.001/mês': 25000,\n",
              " 'Menos de R$ 1.000/mês': 1000,\n",
              " 'de 16.001/mês a R$ 20.000/mês': 18000,\n",
              " 'de 3.001/mês a R$ 4.000/mês': 3500,\n",
              " 'de 8.001/mês a R$ 12.000/mês': 10000,\n",
              " 'de R$ 1.001/mês a R$ 2.000/mês': 1500,\n",
              " 'de R$ 12.001/mês a R$ 16.000/mês': 14000,\n",
              " 'de R$ 2.001/mês a R$ 3000/mês': 2500,\n",
              " 'de R$ 20.001/mês a R$ 25.000/mês': 22500,\n",
              " 'de R$ 4.001/mês a R$ 6.000/mês': 5000,\n",
              " 'de R$ 6.001/mês a R$ 8.000/mês': 7000}"
            ]
          },
          "metadata": {
            "tags": []
          },
          "execution_count": 11
        }
      ]
    },
    {
      "cell_type": "code",
      "metadata": {
        "id": "DaqQ7nxK3wLO"
      },
      "source": [
        "# Vamos discretizar a idade (fazendo o recorte): vamos utilizar a função cut()\n",
        "\n",
        "cortes = [0, 24, 30, 40, 100]\n",
        "nomes = ['[18,24]', '[25, 30]', '[31, 40]', '[41, 50]']"
      ],
      "execution_count": 12,
      "outputs": []
    },
    {
      "cell_type": "code",
      "metadata": {
        "colab": {
          "base_uri": "https://localhost:8080/"
        },
        "id": "wt5EP2234nj7",
        "outputId": "c034c677-4f33-410c-8283-a3fec2c55b2b"
      },
      "source": [
        "# Colocando as novas variáveis no banco de dados:\n",
        "\n",
        "dados['idade'] = pd.cut(dados[\"('P1', 'age')\"], bins = cortes, labels = nomes)\n",
        "dados['idade'].tail()"
      ],
      "execution_count": 13,
      "outputs": [
        {
          "output_type": "execute_result",
          "data": {
            "text/plain": [
              "1760     [18,24]\n",
              "1761    [31, 40]\n",
              "1762    [31, 40]\n",
              "1763    [25, 30]\n",
              "1764     [18,24]\n",
              "Name: idade, dtype: category\n",
              "Categories (4, object): ['[18,24]' < '[25, 30]' < '[31, 40]' < '[41, 50]']"
            ]
          },
          "metadata": {
            "tags": []
          },
          "execution_count": 13
        }
      ]
    },
    {
      "cell_type": "code",
      "metadata": {
        "colab": {
          "base_uri": "https://localhost:8080/"
        },
        "id": "GolhBDg56T3o",
        "outputId": "fd053e9f-bda7-40a5-d4f2-95edc4b5ec7c"
      },
      "source": [
        "# Colocando as novas variáveis no banco de dados:\n",
        "\n",
        "dados['salário'] = dados[\"('P16', 'salary_range')\"].map(salamap)\n",
        "dados['salário'].head()"
      ],
      "execution_count": 14,
      "outputs": [
        {
          "output_type": "execute_result",
          "data": {
            "text/plain": [
              "0    1500.0\n",
              "1    2500.0\n",
              "2    5000.0\n",
              "3    1500.0\n",
              "4    7000.0\n",
              "Name: salário, dtype: float64"
            ]
          },
          "metadata": {
            "tags": []
          },
          "execution_count": 14
        }
      ]
    },
    {
      "cell_type": "code",
      "metadata": {
        "colab": {
          "base_uri": "https://localhost:8080/"
        },
        "id": "H72GUlCO7CoB",
        "outputId": "a2adebe7-69a6-478d-c05a-f28946c6e6c3"
      },
      "source": [
        "# Colocando as novas variáveis no banco de dados:\n",
        "\n",
        "dados['tamanho_da_empresa'] = dados[\"('P12', 'workers_number')\"].map(tammap)\n",
        "dados['tamanho_da_empresa'].head()"
      ],
      "execution_count": 15,
      "outputs": [
        {
          "output_type": "execute_result",
          "data": {
            "text/plain": [
              "0    Pequena\n",
              "1     Grande\n",
              "2     Grande\n",
              "3    Pequena\n",
              "4        NaN\n",
              "Name: tamanho_da_empresa, dtype: object"
            ]
          },
          "metadata": {
            "tags": []
          },
          "execution_count": 15
        }
      ]
    },
    {
      "cell_type": "code",
      "metadata": {
        "colab": {
          "base_uri": "https://localhost:8080/"
        },
        "id": "kOtY7J9R7et2",
        "outputId": "a450ecde-6297-47b6-99d7-8eee07b25d94"
      },
      "source": [
        "# Colocando as novas variáveis no banco de dados:\n",
        "\n",
        "dados['gestor'] = dados[\"('P13', 'manager')\"].map({0: 'não', 1: 'sim'})\n",
        "dados['gestor'].head()"
      ],
      "execution_count": 16,
      "outputs": [
        {
          "output_type": "execute_result",
          "data": {
            "text/plain": [
              "0    não\n",
              "1    não\n",
              "2    não\n",
              "3    não\n",
              "4    sim\n",
              "Name: gestor, dtype: object"
            ]
          },
          "metadata": {
            "tags": []
          },
          "execution_count": 16
        }
      ]
    },
    {
      "cell_type": "code",
      "metadata": {
        "colab": {
          "base_uri": "https://localhost:8080/"
        },
        "id": "ND8bg-IB735H",
        "outputId": "51eb1521-826e-49d0-9e54-a0243cae291c"
      },
      "source": [
        "# Colocando as novas variáveis no banco de dados:\n",
        "\n",
        "dados['se_considera_ds'] = dados[\"('P19', 'is_data_science_professional')\"].map({0: 'não', 1: 'sim'})\n",
        "dados['se_considera_ds'].head()"
      ],
      "execution_count": 17,
      "outputs": [
        {
          "output_type": "execute_result",
          "data": {
            "text/plain": [
              "0    não\n",
              "1    sim\n",
              "2    sim\n",
              "3    sim\n",
              "4    sim\n",
              "Name: se_considera_ds, dtype: object"
            ]
          },
          "metadata": {
            "tags": []
          },
          "execution_count": 17
        }
      ]
    },
    {
      "cell_type": "code",
      "metadata": {
        "colab": {
          "base_uri": "https://localhost:8080/"
        },
        "id": "Q5LP3EY28Su5",
        "outputId": "54c1e944-c340-40bd-d913-e26a32b6520e"
      },
      "source": [
        "# Colocando as novas variáveis no banco de dados:\n",
        "\n",
        "dados['sexo'] = dados[\"('P2', 'gender')\"]\n",
        "dados['sexo'].head()"
      ],
      "execution_count": 18,
      "outputs": [
        {
          "output_type": "execute_result",
          "data": {
            "text/plain": [
              "0    Masculino\n",
              "1     Feminino\n",
              "2    Masculino\n",
              "3    Masculino\n",
              "4    Masculino\n",
              "Name: sexo, dtype: object"
            ]
          },
          "metadata": {
            "tags": []
          },
          "execution_count": 18
        }
      ]
    },
    {
      "cell_type": "code",
      "metadata": {
        "colab": {
          "base_uri": "https://localhost:8080/"
        },
        "id": "mcjMmyca8ykO",
        "outputId": "3a6021b0-02f9-46e6-ab21-e9caec8705ed"
      },
      "source": [
        "# Colocando as novas variáveis no banco de dados:\n",
        "\n",
        "dados['sexo2'] = dados['sexo'].map({'Masculino':1, 'Feminino': 0})\n",
        "dados['sexo2'].head()"
      ],
      "execution_count": 19,
      "outputs": [
        {
          "output_type": "execute_result",
          "data": {
            "text/plain": [
              "0    1.0\n",
              "1    0.0\n",
              "2    1.0\n",
              "3    1.0\n",
              "4    1.0\n",
              "Name: sexo2, dtype: float64"
            ]
          },
          "metadata": {
            "tags": []
          },
          "execution_count": 19
        }
      ]
    },
    {
      "cell_type": "code",
      "metadata": {
        "colab": {
          "base_uri": "https://localhost:8080/"
        },
        "id": "nPSpjex99NKO",
        "outputId": "ab7e4d4a-0f0d-4aa4-a4f8-9f6786bd56b0"
      },
      "source": [
        "# Colocando as novas variáveis no banco de dados:\n",
        "\n",
        "dados['experiencia_ds'] = dados[\"('P17', 'time_experience_data_science')\"]\n",
        "dados['experiencia_ds']"
      ],
      "execution_count": 20,
      "outputs": [
        {
          "output_type": "execute_result",
          "data": {
            "text/plain": [
              "0       Não tenho experiência na área de dados\n",
              "1                               Menos de 1 ano\n",
              "2                                de 1 a 2 anos\n",
              "3                               Menos de 1 ano\n",
              "4                                de 4 a 5 anos\n",
              "                         ...                  \n",
              "1760    Não tenho experiência na área de dados\n",
              "1761                             de 2 a 3 anos\n",
              "1762                             de 2 a 3 anos\n",
              "1763                             de 4 a 5 anos\n",
              "1764                            Menos de 1 ano\n",
              "Name: experiencia_ds, Length: 1765, dtype: object"
            ]
          },
          "metadata": {
            "tags": []
          },
          "execution_count": 20
        }
      ]
    },
    {
      "cell_type": "code",
      "metadata": {
        "id": "a3JlkGdk9mHW"
      },
      "source": [
        "# Colocando as novas variáveis no banco de dados:\n",
        "\n",
        "dados['tipo_de_trabalho'] = dados[\"('P10', 'job_situation')\"]\n",
        "dados['escolaridade'] = dados[\"('P8', 'degreee_level')\"]\n",
        "dados['area_de_formacao'] = dados[\"('D3', 'anonymized_degree_area')\"]\n",
        "dados['setor_de_mercado'] = dados[\"('D4', 'anonymized_market_sector')\"]\n",
        "dados['plataforma_favorita'] = dados[\"('P35', 'data_science_plataforms_preference')\"]"
      ],
      "execution_count": 21,
      "outputs": []
    },
    {
      "cell_type": "code",
      "metadata": {
        "id": "bXx6RCLN-xwp",
        "colab": {
          "base_uri": "https://localhost:8080/",
          "height": 508
        },
        "outputId": "ce26736a-0bca-4f0c-80c0-17bb4768d8e0"
      },
      "source": [
        "# Visualizando as primeiras linhas dos dados:\n",
        "dados.head()"
      ],
      "execution_count": 22,
      "outputs": [
        {
          "output_type": "execute_result",
          "data": {
            "text/html": [
              "<div>\n",
              "<style scoped>\n",
              "    .dataframe tbody tr th:only-of-type {\n",
              "        vertical-align: middle;\n",
              "    }\n",
              "\n",
              "    .dataframe tbody tr th {\n",
              "        vertical-align: top;\n",
              "    }\n",
              "\n",
              "    .dataframe thead th {\n",
              "        text-align: right;\n",
              "    }\n",
              "</style>\n",
              "<table border=\"1\" class=\"dataframe\">\n",
              "  <thead>\n",
              "    <tr style=\"text-align: right;\">\n",
              "      <th></th>\n",
              "      <th>('P0', 'id')</th>\n",
              "      <th>('P1', 'age')</th>\n",
              "      <th>('P2', 'gender')</th>\n",
              "      <th>('P3', 'living_in_brasil')</th>\n",
              "      <th>('P5', 'living_state')</th>\n",
              "      <th>('P6', 'born_or_graduated')</th>\n",
              "      <th>('P8', 'degreee_level')</th>\n",
              "      <th>('P10', 'job_situation')</th>\n",
              "      <th>('P12', 'workers_number')</th>\n",
              "      <th>('P13', 'manager')</th>\n",
              "      <th>('P16', 'salary_range')</th>\n",
              "      <th>('P17', 'time_experience_data_science')</th>\n",
              "      <th>('P18', 'time_experience_before')</th>\n",
              "      <th>('P19', 'is_data_science_professional')</th>\n",
              "      <th>('P20', 'linear_regression')</th>\n",
              "      <th>('P20', 'logistic_regression')</th>\n",
              "      <th>('P20', 'glms')</th>\n",
              "      <th>('P20', 'decision_tree')</th>\n",
              "      <th>('P20', 'random_forest')</th>\n",
              "      <th>('P20', 'neural_networks')</th>\n",
              "      <th>('P20', 'bayesian_inference')</th>\n",
              "      <th>('P20', 'ensemble')</th>\n",
              "      <th>('P20', 'svms')</th>\n",
              "      <th>('P20', 'cnns')</th>\n",
              "      <th>('P20', 'rnns')</th>\n",
              "      <th>('P20', 'hmms')</th>\n",
              "      <th>('P20', 'gans')</th>\n",
              "      <th>('P20', 'markov_chains')</th>\n",
              "      <th>('P20', 'nlp')</th>\n",
              "      <th>('P20', 'gradient_boosted_machines')</th>\n",
              "      <th>('P20', 'cluster_analysis')</th>\n",
              "      <th>('P20', 'survival_analysis')</th>\n",
              "      <th>('P20', 'longitudinal_data_analysis')</th>\n",
              "      <th>('P20', 'joint analysis')</th>\n",
              "      <th>('P20', 'no_listed_methods')</th>\n",
              "      <th>('P21', 'sql_')</th>\n",
              "      <th>('P21', 'r')</th>\n",
              "      <th>('P21', 'python')</th>\n",
              "      <th>('P21', 'c_c++_c#')</th>\n",
              "      <th>('P21', 'dotnet')</th>\n",
              "      <th>...</th>\n",
              "      <th>('P33', 'other_slack_channels')</th>\n",
              "      <th>('P33', 'twitter')</th>\n",
              "      <th>('P33', 'abroad_blogs')</th>\n",
              "      <th>('P33', 'abroad_podcasts')</th>\n",
              "      <th>('P33', 'meetups_and_events')</th>\n",
              "      <th>('P33', 'only_data_hackers')</th>\n",
              "      <th>('P33', 'other')</th>\n",
              "      <th>('P34', 'udacity')</th>\n",
              "      <th>('P34', 'coursera')</th>\n",
              "      <th>('P34', 'udemy')</th>\n",
              "      <th>('P34', 'height')</th>\n",
              "      <th>('P34', 'edx')</th>\n",
              "      <th>('P34', 'data_camp')</th>\n",
              "      <th>('P34', 'data_quest')</th>\n",
              "      <th>('P34', 'kaggle_learn')</th>\n",
              "      <th>('P34', 'online_courses')</th>\n",
              "      <th>('P34', 'other')</th>\n",
              "      <th>('P35', 'data_science_plataforms_preference')</th>\n",
              "      <th>('P35', 'other')</th>\n",
              "      <th>('P36', 'draw_participation')</th>\n",
              "      <th>('D1', 'living_macroregion')</th>\n",
              "      <th>('D2', 'origin_macroregion')</th>\n",
              "      <th>('D3', 'anonymized_degree_area')</th>\n",
              "      <th>('D4', 'anonymized_market_sector')</th>\n",
              "      <th>('D5', 'anonymized_manager_level')</th>\n",
              "      <th>('D6', 'anonymized_role')</th>\n",
              "      <th>profissao</th>\n",
              "      <th>idade</th>\n",
              "      <th>salário</th>\n",
              "      <th>tamanho_da_empresa</th>\n",
              "      <th>gestor</th>\n",
              "      <th>se_considera_ds</th>\n",
              "      <th>sexo</th>\n",
              "      <th>sexo2</th>\n",
              "      <th>experiencia_ds</th>\n",
              "      <th>tipo_de_trabalho</th>\n",
              "      <th>escolaridade</th>\n",
              "      <th>area_de_formacao</th>\n",
              "      <th>setor_de_mercado</th>\n",
              "      <th>plataforma_favorita</th>\n",
              "    </tr>\n",
              "  </thead>\n",
              "  <tbody>\n",
              "    <tr>\n",
              "      <th>0</th>\n",
              "      <td>v9otv8j9wdvjrv9otvwnn9owhzq54ktv</td>\n",
              "      <td>37.0</td>\n",
              "      <td>Masculino</td>\n",
              "      <td>1</td>\n",
              "      <td>Minas Gerais (MG)</td>\n",
              "      <td>1.0</td>\n",
              "      <td>Estudante de Graduação</td>\n",
              "      <td>Empregado (CTL)</td>\n",
              "      <td>de 1 a 5</td>\n",
              "      <td>0.0</td>\n",
              "      <td>de R$ 1.001/mês a R$ 2.000/mês</td>\n",
              "      <td>Não tenho experiência na área de dados</td>\n",
              "      <td>Não tive experiência na área de TI/Engenharia ...</td>\n",
              "      <td>0</td>\n",
              "      <td>0</td>\n",
              "      <td>0</td>\n",
              "      <td>0</td>\n",
              "      <td>0</td>\n",
              "      <td>0</td>\n",
              "      <td>0</td>\n",
              "      <td>0</td>\n",
              "      <td>0</td>\n",
              "      <td>0</td>\n",
              "      <td>0</td>\n",
              "      <td>0</td>\n",
              "      <td>0</td>\n",
              "      <td>0</td>\n",
              "      <td>0</td>\n",
              "      <td>0</td>\n",
              "      <td>0</td>\n",
              "      <td>0</td>\n",
              "      <td>0</td>\n",
              "      <td>0</td>\n",
              "      <td>0</td>\n",
              "      <td>0</td>\n",
              "      <td>0</td>\n",
              "      <td>0</td>\n",
              "      <td>0</td>\n",
              "      <td>0</td>\n",
              "      <td>0</td>\n",
              "      <td>...</td>\n",
              "      <td>0</td>\n",
              "      <td>0</td>\n",
              "      <td>0</td>\n",
              "      <td>0</td>\n",
              "      <td>0</td>\n",
              "      <td>0</td>\n",
              "      <td>0</td>\n",
              "      <td>0</td>\n",
              "      <td>0</td>\n",
              "      <td>0</td>\n",
              "      <td>0</td>\n",
              "      <td>0</td>\n",
              "      <td>0</td>\n",
              "      <td>0</td>\n",
              "      <td>0</td>\n",
              "      <td>1</td>\n",
              "      <td>0</td>\n",
              "      <td>Nunca fiz cursos online</td>\n",
              "      <td>NaN</td>\n",
              "      <td>1.0</td>\n",
              "      <td>Região Sudeste</td>\n",
              "      <td>NaN</td>\n",
              "      <td>Computação / Engenharia de Software / Sistemas...</td>\n",
              "      <td>Outras</td>\n",
              "      <td>NaN</td>\n",
              "      <td>Outras</td>\n",
              "      <td>Outras</td>\n",
              "      <td>[31, 40]</td>\n",
              "      <td>1500.0</td>\n",
              "      <td>Pequena</td>\n",
              "      <td>não</td>\n",
              "      <td>não</td>\n",
              "      <td>Masculino</td>\n",
              "      <td>1.0</td>\n",
              "      <td>Não tenho experiência na área de dados</td>\n",
              "      <td>Empregado (CTL)</td>\n",
              "      <td>Estudante de Graduação</td>\n",
              "      <td>Computação / Engenharia de Software / Sistemas...</td>\n",
              "      <td>Outras</td>\n",
              "      <td>Nunca fiz cursos online</td>\n",
              "    </tr>\n",
              "    <tr>\n",
              "      <th>1</th>\n",
              "      <td>875ul998t0hqcv0871uptwf3oswcfv35</td>\n",
              "      <td>24.0</td>\n",
              "      <td>Feminino</td>\n",
              "      <td>1</td>\n",
              "      <td>São Paulo (SP)</td>\n",
              "      <td>1.0</td>\n",
              "      <td>Estudante de Graduação</td>\n",
              "      <td>Empregado (CTL)</td>\n",
              "      <td>Acima de 3000</td>\n",
              "      <td>0.0</td>\n",
              "      <td>de R$ 2.001/mês a R$ 3000/mês</td>\n",
              "      <td>Menos de 1 ano</td>\n",
              "      <td>Não tive experiência na área de TI/Engenharia ...</td>\n",
              "      <td>1</td>\n",
              "      <td>0</td>\n",
              "      <td>0</td>\n",
              "      <td>0</td>\n",
              "      <td>0</td>\n",
              "      <td>0</td>\n",
              "      <td>0</td>\n",
              "      <td>0</td>\n",
              "      <td>0</td>\n",
              "      <td>0</td>\n",
              "      <td>0</td>\n",
              "      <td>0</td>\n",
              "      <td>0</td>\n",
              "      <td>0</td>\n",
              "      <td>0</td>\n",
              "      <td>0</td>\n",
              "      <td>0</td>\n",
              "      <td>0</td>\n",
              "      <td>0</td>\n",
              "      <td>0</td>\n",
              "      <td>0</td>\n",
              "      <td>1</td>\n",
              "      <td>1</td>\n",
              "      <td>0</td>\n",
              "      <td>1</td>\n",
              "      <td>0</td>\n",
              "      <td>0</td>\n",
              "      <td>...</td>\n",
              "      <td>0</td>\n",
              "      <td>0</td>\n",
              "      <td>0</td>\n",
              "      <td>0</td>\n",
              "      <td>0</td>\n",
              "      <td>0</td>\n",
              "      <td>0</td>\n",
              "      <td>0</td>\n",
              "      <td>0</td>\n",
              "      <td>1</td>\n",
              "      <td>0</td>\n",
              "      <td>0</td>\n",
              "      <td>0</td>\n",
              "      <td>0</td>\n",
              "      <td>0</td>\n",
              "      <td>0</td>\n",
              "      <td>1</td>\n",
              "      <td>NaN</td>\n",
              "      <td>Data Science Academy</td>\n",
              "      <td>0.0</td>\n",
              "      <td>Região Sudeste</td>\n",
              "      <td>NaN</td>\n",
              "      <td>Computação / Engenharia de Software / Sistemas...</td>\n",
              "      <td>Educação</td>\n",
              "      <td>NaN</td>\n",
              "      <td>Data Analyst/Analista de Dados</td>\n",
              "      <td>Analista de Dados</td>\n",
              "      <td>[18,24]</td>\n",
              "      <td>2500.0</td>\n",
              "      <td>Grande</td>\n",
              "      <td>não</td>\n",
              "      <td>sim</td>\n",
              "      <td>Feminino</td>\n",
              "      <td>0.0</td>\n",
              "      <td>Menos de 1 ano</td>\n",
              "      <td>Empregado (CTL)</td>\n",
              "      <td>Estudante de Graduação</td>\n",
              "      <td>Computação / Engenharia de Software / Sistemas...</td>\n",
              "      <td>Educação</td>\n",
              "      <td>NaN</td>\n",
              "    </tr>\n",
              "    <tr>\n",
              "      <th>2</th>\n",
              "      <td>puscuk079vw1pusbb900pzw2xvpxtgdk</td>\n",
              "      <td>26.0</td>\n",
              "      <td>Masculino</td>\n",
              "      <td>1</td>\n",
              "      <td>São Paulo (SP)</td>\n",
              "      <td>1.0</td>\n",
              "      <td>Graduação/Bacharelado</td>\n",
              "      <td>Empregado (CTL)</td>\n",
              "      <td>Acima de 3000</td>\n",
              "      <td>0.0</td>\n",
              "      <td>de R$ 4.001/mês a R$ 6.000/mês</td>\n",
              "      <td>de 1 a 2 anos</td>\n",
              "      <td>de 6 a 10 anos</td>\n",
              "      <td>1</td>\n",
              "      <td>0</td>\n",
              "      <td>0</td>\n",
              "      <td>0</td>\n",
              "      <td>0</td>\n",
              "      <td>1</td>\n",
              "      <td>1</td>\n",
              "      <td>0</td>\n",
              "      <td>1</td>\n",
              "      <td>1</td>\n",
              "      <td>0</td>\n",
              "      <td>0</td>\n",
              "      <td>0</td>\n",
              "      <td>0</td>\n",
              "      <td>0</td>\n",
              "      <td>0</td>\n",
              "      <td>0</td>\n",
              "      <td>1</td>\n",
              "      <td>0</td>\n",
              "      <td>0</td>\n",
              "      <td>0</td>\n",
              "      <td>0</td>\n",
              "      <td>0</td>\n",
              "      <td>0</td>\n",
              "      <td>1</td>\n",
              "      <td>0</td>\n",
              "      <td>0</td>\n",
              "      <td>...</td>\n",
              "      <td>0</td>\n",
              "      <td>0</td>\n",
              "      <td>0</td>\n",
              "      <td>0</td>\n",
              "      <td>0</td>\n",
              "      <td>0</td>\n",
              "      <td>0</td>\n",
              "      <td>0</td>\n",
              "      <td>1</td>\n",
              "      <td>1</td>\n",
              "      <td>0</td>\n",
              "      <td>0</td>\n",
              "      <td>0</td>\n",
              "      <td>0</td>\n",
              "      <td>1</td>\n",
              "      <td>0</td>\n",
              "      <td>0</td>\n",
              "      <td>Udemy</td>\n",
              "      <td>NaN</td>\n",
              "      <td>1.0</td>\n",
              "      <td>Região Sudeste</td>\n",
              "      <td>NaN</td>\n",
              "      <td>Outras Engenharias</td>\n",
              "      <td>Indústria (Manufatura)</td>\n",
              "      <td>NaN</td>\n",
              "      <td>Outras</td>\n",
              "      <td>Outras</td>\n",
              "      <td>[25, 30]</td>\n",
              "      <td>5000.0</td>\n",
              "      <td>Grande</td>\n",
              "      <td>não</td>\n",
              "      <td>sim</td>\n",
              "      <td>Masculino</td>\n",
              "      <td>1.0</td>\n",
              "      <td>de 1 a 2 anos</td>\n",
              "      <td>Empregado (CTL)</td>\n",
              "      <td>Graduação/Bacharelado</td>\n",
              "      <td>Outras Engenharias</td>\n",
              "      <td>Indústria (Manufatura)</td>\n",
              "      <td>Udemy</td>\n",
              "    </tr>\n",
              "    <tr>\n",
              "      <th>3</th>\n",
              "      <td>rmel8ewqpbffp2mnfbzermel8eqincov</td>\n",
              "      <td>21.0</td>\n",
              "      <td>Masculino</td>\n",
              "      <td>1</td>\n",
              "      <td>São Paulo (SP)</td>\n",
              "      <td>0.0</td>\n",
              "      <td>Estudante de Graduação</td>\n",
              "      <td>Estagiário</td>\n",
              "      <td>de 11 a 50</td>\n",
              "      <td>0.0</td>\n",
              "      <td>de R$ 1.001/mês a R$ 2.000/mês</td>\n",
              "      <td>Menos de 1 ano</td>\n",
              "      <td>de 2 a 3 anos</td>\n",
              "      <td>1</td>\n",
              "      <td>0</td>\n",
              "      <td>0</td>\n",
              "      <td>0</td>\n",
              "      <td>0</td>\n",
              "      <td>1</td>\n",
              "      <td>0</td>\n",
              "      <td>0</td>\n",
              "      <td>0</td>\n",
              "      <td>0</td>\n",
              "      <td>0</td>\n",
              "      <td>0</td>\n",
              "      <td>0</td>\n",
              "      <td>0</td>\n",
              "      <td>0</td>\n",
              "      <td>0</td>\n",
              "      <td>0</td>\n",
              "      <td>0</td>\n",
              "      <td>0</td>\n",
              "      <td>0</td>\n",
              "      <td>0</td>\n",
              "      <td>0</td>\n",
              "      <td>1</td>\n",
              "      <td>0</td>\n",
              "      <td>1</td>\n",
              "      <td>0</td>\n",
              "      <td>0</td>\n",
              "      <td>...</td>\n",
              "      <td>0</td>\n",
              "      <td>0</td>\n",
              "      <td>0</td>\n",
              "      <td>1</td>\n",
              "      <td>0</td>\n",
              "      <td>0</td>\n",
              "      <td>0</td>\n",
              "      <td>0</td>\n",
              "      <td>1</td>\n",
              "      <td>1</td>\n",
              "      <td>1</td>\n",
              "      <td>0</td>\n",
              "      <td>0</td>\n",
              "      <td>0</td>\n",
              "      <td>0</td>\n",
              "      <td>0</td>\n",
              "      <td>0</td>\n",
              "      <td>Alura</td>\n",
              "      <td>NaN</td>\n",
              "      <td>1.0</td>\n",
              "      <td>Região Sudeste</td>\n",
              "      <td>Região Sudeste</td>\n",
              "      <td>Computação / Engenharia de Software / Sistemas...</td>\n",
              "      <td>Tecnologia/Fábrica de Software</td>\n",
              "      <td>NaN</td>\n",
              "      <td>Business Intelligence/Analista de BI</td>\n",
              "      <td>Analista de BI</td>\n",
              "      <td>[18,24]</td>\n",
              "      <td>1500.0</td>\n",
              "      <td>Pequena</td>\n",
              "      <td>não</td>\n",
              "      <td>sim</td>\n",
              "      <td>Masculino</td>\n",
              "      <td>1.0</td>\n",
              "      <td>Menos de 1 ano</td>\n",
              "      <td>Estagiário</td>\n",
              "      <td>Estudante de Graduação</td>\n",
              "      <td>Computação / Engenharia de Software / Sistemas...</td>\n",
              "      <td>Tecnologia/Fábrica de Software</td>\n",
              "      <td>Alura</td>\n",
              "    </tr>\n",
              "    <tr>\n",
              "      <th>4</th>\n",
              "      <td>pj9mgud4d6mdct1l7vq0pj9mgu78h6ju</td>\n",
              "      <td>27.0</td>\n",
              "      <td>Masculino</td>\n",
              "      <td>1</td>\n",
              "      <td>NaN</td>\n",
              "      <td>1.0</td>\n",
              "      <td>Graduação/Bacharelado</td>\n",
              "      <td>Freelancer</td>\n",
              "      <td>de 6 a 10</td>\n",
              "      <td>1.0</td>\n",
              "      <td>de R$ 6.001/mês a R$ 8.000/mês</td>\n",
              "      <td>de 4 a 5 anos</td>\n",
              "      <td>de 4 a 5 anos</td>\n",
              "      <td>1</td>\n",
              "      <td>1</td>\n",
              "      <td>0</td>\n",
              "      <td>0</td>\n",
              "      <td>1</td>\n",
              "      <td>1</td>\n",
              "      <td>0</td>\n",
              "      <td>0</td>\n",
              "      <td>1</td>\n",
              "      <td>1</td>\n",
              "      <td>0</td>\n",
              "      <td>1</td>\n",
              "      <td>0</td>\n",
              "      <td>0</td>\n",
              "      <td>0</td>\n",
              "      <td>1</td>\n",
              "      <td>0</td>\n",
              "      <td>0</td>\n",
              "      <td>0</td>\n",
              "      <td>0</td>\n",
              "      <td>0</td>\n",
              "      <td>0</td>\n",
              "      <td>1</td>\n",
              "      <td>0</td>\n",
              "      <td>1</td>\n",
              "      <td>1</td>\n",
              "      <td>0</td>\n",
              "      <td>...</td>\n",
              "      <td>0</td>\n",
              "      <td>0</td>\n",
              "      <td>0</td>\n",
              "      <td>0</td>\n",
              "      <td>0</td>\n",
              "      <td>0</td>\n",
              "      <td>1</td>\n",
              "      <td>1</td>\n",
              "      <td>1</td>\n",
              "      <td>1</td>\n",
              "      <td>0</td>\n",
              "      <td>0</td>\n",
              "      <td>0</td>\n",
              "      <td>0</td>\n",
              "      <td>0</td>\n",
              "      <td>0</td>\n",
              "      <td>0</td>\n",
              "      <td>Udemy</td>\n",
              "      <td>NaN</td>\n",
              "      <td>1.0</td>\n",
              "      <td>NaN</td>\n",
              "      <td>NaN</td>\n",
              "      <td>Computação / Engenharia de Software / Sistemas...</td>\n",
              "      <td>Internet/Ecommerce</td>\n",
              "      <td>C-level (CDO, CIO, CTO)</td>\n",
              "      <td>NaN</td>\n",
              "      <td>NaN</td>\n",
              "      <td>[25, 30]</td>\n",
              "      <td>7000.0</td>\n",
              "      <td>NaN</td>\n",
              "      <td>sim</td>\n",
              "      <td>sim</td>\n",
              "      <td>Masculino</td>\n",
              "      <td>1.0</td>\n",
              "      <td>de 4 a 5 anos</td>\n",
              "      <td>Freelancer</td>\n",
              "      <td>Graduação/Bacharelado</td>\n",
              "      <td>Computação / Engenharia de Software / Sistemas...</td>\n",
              "      <td>Internet/Ecommerce</td>\n",
              "      <td>Udemy</td>\n",
              "    </tr>\n",
              "  </tbody>\n",
              "</table>\n",
              "<p>5 rows × 184 columns</p>\n",
              "</div>"
            ],
            "text/plain": [
              "                       ('P0', 'id')  ...      plataforma_favorita\n",
              "0  v9otv8j9wdvjrv9otvwnn9owhzq54ktv  ...  Nunca fiz cursos online\n",
              "1  875ul998t0hqcv0871uptwf3oswcfv35  ...                      NaN\n",
              "2  puscuk079vw1pusbb900pzw2xvpxtgdk  ...                    Udemy\n",
              "3  rmel8ewqpbffp2mnfbzermel8eqincov  ...                    Alura\n",
              "4  pj9mgud4d6mdct1l7vq0pj9mgu78h6ju  ...                    Udemy\n",
              "\n",
              "[5 rows x 184 columns]"
            ]
          },
          "metadata": {
            "tags": []
          },
          "execution_count": 22
        }
      ]
    },
    {
      "cell_type": "code",
      "metadata": {
        "colab": {
          "base_uri": "https://localhost:8080/"
        },
        "id": "G84LG2lW-4o2",
        "outputId": "6000c937-a3db-4d1e-b08a-46b6e685b392"
      },
      "source": [
        "# Pegando os nomes das colunas:\n",
        "dados.columns"
      ],
      "execution_count": 23,
      "outputs": [
        {
          "output_type": "execute_result",
          "data": {
            "text/plain": [
              "Index(['('P0', 'id')', '('P1', 'age')', '('P2', 'gender')',\n",
              "       '('P3', 'living_in_brasil')', '('P5', 'living_state')',\n",
              "       '('P6', 'born_or_graduated')', '('P8', 'degreee_level')',\n",
              "       '('P10', 'job_situation')', '('P12', 'workers_number')',\n",
              "       '('P13', 'manager')',\n",
              "       ...\n",
              "       'gestor', 'se_considera_ds', 'sexo', 'sexo2', 'experiencia_ds',\n",
              "       'tipo_de_trabalho', 'escolaridade', 'area_de_formacao',\n",
              "       'setor_de_mercado', 'plataforma_favorita'],\n",
              "      dtype='object', length=184)"
            ]
          },
          "metadata": {
            "tags": []
          },
          "execution_count": 23
        }
      ]
    },
    {
      "cell_type": "code",
      "metadata": {
        "colab": {
          "base_uri": "https://localhost:8080/",
          "height": 282
        },
        "id": "Ziv4Azb0_YhZ",
        "outputId": "be024855-fd72-4417-a11c-4ec3b666e111"
      },
      "source": [
        "dados['idade'].value_counts().plot(kind = 'barh')"
      ],
      "execution_count": 24,
      "outputs": [
        {
          "output_type": "execute_result",
          "data": {
            "text/plain": [
              "<matplotlib.axes._subplots.AxesSubplot at 0x7f9a3cc024d0>"
            ]
          },
          "metadata": {
            "tags": []
          },
          "execution_count": 24
        },
        {
          "output_type": "display_data",
          "data": {
            "image/png": "[encoded data removed]",
            "text/plain": [
              "<Figure size 432x288 with 1 Axes>"
            ]
          },
          "metadata": {
            "tags": [],
            "needs_background": "light"
          }
        }
      ]
    },
    {
      "cell_type": "code",
      "metadata": {
        "colab": {
          "base_uri": "https://localhost:8080/"
        },
        "id": "VR4zKgvp_5On",
        "outputId": "957d4be4-2c58-445e-920f-8b3408c05f83"
      },
      "source": [
        "# Media salarial dos profissionais de dados:\n",
        "import numpy as np\n",
        "\n",
        "dados['salário'].mean()"
      ],
      "execution_count": 29,
      "outputs": [
        {
          "output_type": "execute_result",
          "data": {
            "text/plain": [
              "5504.873294346979"
            ]
          },
          "metadata": {
            "tags": []
          },
          "execution_count": 29
        }
      ]
    },
    {
      "cell_type": "code",
      "metadata": {
        "colab": {
          "base_uri": "https://localhost:8080/"
        },
        "id": "wE2SCeoqPNnV",
        "outputId": "510f369f-f502-4217-fcbc-fddbf52acc3f"
      },
      "source": [
        "# Média salarial do cientista de dados\n",
        "\n",
        "round(dados[dados['profissao'] == 'Cientista de Dados']['salário'].mean(), 3)"
      ],
      "execution_count": 34,
      "outputs": [
        {
          "output_type": "execute_result",
          "data": {
            "text/plain": [
              "6209.302"
            ]
          },
          "metadata": {
            "tags": []
          },
          "execution_count": 34
        }
      ]
    },
    {
      "cell_type": "code",
      "metadata": {
        "colab": {
          "base_uri": "https://localhost:8080/"
        },
        "id": "hT-DvDhRPzAo",
        "outputId": "66dcf68e-79f6-40c3-f753-e1a0d80ee9dd"
      },
      "source": [
        "# Mediana salarial do cientista de dados\n",
        "\n",
        "dados[dados['profissao'] == 'Cientista de Dados']['salário'].median()"
      ],
      "execution_count": 32,
      "outputs": [
        {
          "output_type": "execute_result",
          "data": {
            "text/plain": [
              "5000.0"
            ]
          },
          "metadata": {
            "tags": []
          },
          "execution_count": 32
        }
      ]
    },
    {
      "cell_type": "code",
      "metadata": {
        "colab": {
          "base_uri": "https://localhost:8080/"
        },
        "id": "c9DsamaGQCHk",
        "outputId": "74958e7c-6600-4a16-f0a6-45fe514397b6"
      },
      "source": [
        "# Média salarial dos engenheiros de dados:\n",
        "\n",
        "round(dados[dados['profissao'] == 'Engenheiro de Dados']['salário'].mean(), 2)"
      ],
      "execution_count": 36,
      "outputs": [
        {
          "output_type": "execute_result",
          "data": {
            "text/plain": [
              "6956.52"
            ]
          },
          "metadata": {
            "tags": []
          },
          "execution_count": 36
        }
      ]
    },
    {
      "cell_type": "code",
      "metadata": {
        "colab": {
          "base_uri": "https://localhost:8080/"
        },
        "id": "b7BS09VyRKQo",
        "outputId": "eb77e150-29bf-4324-cb8e-4280aa232281"
      },
      "source": [
        "# Salários por profissão:\n",
        "\n",
        "dados.groupby('profissao')['salário'].mean().round(2)"
      ],
      "execution_count": 38,
      "outputs": [
        {
          "output_type": "execute_result",
          "data": {
            "text/plain": [
              "profissao\n",
              "Analista de BI                          4464.50\n",
              "Analista de Dados                       4495.00\n",
              "Cientista de Dados                      6209.30\n",
              "Desenvolvedor/Engenheiro de Software    4233.33\n",
              "Engenheiro de Dados                     6956.52\n",
              "Outras                                  4348.04\n",
              "Name: salário, dtype: float64"
            ]
          },
          "metadata": {
            "tags": []
          },
          "execution_count": 38
        }
      ]
    },
    {
      "cell_type": "code",
      "metadata": {
        "colab": {
          "base_uri": "https://localhost:8080/",
          "height": 282
        },
        "id": "o00bQaVERweZ",
        "outputId": "7607dffd-eff0-4e1b-a3ed-99c208bbee3d"
      },
      "source": [
        "# Gráfico de salário por profissão:\n",
        "\n",
        "dados.groupby('profissao')['salário'].mean().round(2).plot(kind = 'barh')\n",
        "\n",
        "# Os maiores salários são dos engenehiros de dados."
      ],
      "execution_count": 39,
      "outputs": [
        {
          "output_type": "execute_result",
          "data": {
            "text/plain": [
              "<matplotlib.axes._subplots.AxesSubplot at 0x7f9a37fa50d0>"
            ]
          },
          "metadata": {
            "tags": []
          },
          "execution_count": 39
        },
        {
          "output_type": "display_data",
          "data": {
            "image/png": "[encoded data removed]",
            "text/plain": [
              "<Figure size 432x288 with 1 Axes>"
            ]
          },
          "metadata": {
            "tags": [],
            "needs_background": "light"
          }
        }
      ]
    },
    {
      "cell_type": "code",
      "metadata": {
        "colab": {
          "base_uri": "https://localhost:8080/",
          "height": 265
        },
        "id": "o8_5-sQXSKPe",
        "outputId": "162a5a59-8292-428e-fa3c-d46a63afafcb"
      },
      "source": [
        "# Gráfico de salários por idade:\n",
        "\n",
        "dados.groupby('idade')['salário'].mean().round(2).plot(kind = 'barh');\n",
        "\n",
        "# O grupo de de 41 a 50 tem uma média salarial maior. "
      ],
      "execution_count": 45,
      "outputs": [
        {
          "output_type": "display_data",
          "data": {
            "image/png": "[encoded data removed]",
            "text/plain": [
              "<Figure size 432x288 with 1 Axes>"
            ]
          },
          "metadata": {
            "tags": [],
            "needs_background": "light"
          }
        }
      ]
    },
    {
      "cell_type": "code",
      "metadata": {
        "colab": {
          "base_uri": "https://localhost:8080/",
          "height": 265
        },
        "id": "Q8AJrpp6TNzX",
        "outputId": "bb0a8f5b-13e0-46f5-c755-4f74254934f7"
      },
      "source": [
        "# Salário por sexo:\n",
        "\n",
        "dados.groupby('sexo')['salário'].mean().round(2).plot(kind = 'barh');\n",
        "\n",
        "# O sexo feminino ganha menos que o masculino. "
      ],
      "execution_count": 46,
      "outputs": [
        {
          "output_type": "display_data",
          "data": {
            "image/png": "[encoded data removed]",
            "text/plain": [
              "<Figure size 432x288 with 1 Axes>"
            ]
          },
          "metadata": {
            "tags": [],
            "needs_background": "light"
          }
        }
      ]
    },
    {
      "cell_type": "code",
      "metadata": {
        "colab": {
          "base_uri": "https://localhost:8080/"
        },
        "id": "szxp6otZWJZ8",
        "outputId": "9229c317-d255-4977-df78-bc16a02a4625"
      },
      "source": [
        "# Vendo a diferença salarial entre homens e mulheres:\n",
        "\n",
        "sal_sexo = dados.groupby('sexo')['salário'].mean().round(2)\n",
        "\n",
        "diff_sexo = round(1-(sal_sexo[0]/sal_sexo[1]), 3)\n",
        "diff_sexo\n",
        "\n",
        "# Mulheres ganham 19,7% a menos que os homens na amostra. "
      ],
      "execution_count": 55,
      "outputs": [
        {
          "output_type": "execute_result",
          "data": {
            "text/plain": [
              "0.197"
            ]
          },
          "metadata": {
            "tags": []
          },
          "execution_count": 55
        }
      ]
    },
    {
      "cell_type": "code",
      "metadata": {
        "colab": {
          "base_uri": "https://localhost:8080/",
          "height": 282
        },
        "id": "1TO79MreVHmC",
        "outputId": "f24a0e71-1da3-4ea0-942b-c97233875ae1"
      },
      "source": [
        "# Salário por tamanho de empresas:\n",
        "\n",
        "dados.groupby('tamanho_da_empresa')['salário'].mean().round(2).plot(kind = 'barh');\n",
        "\n",
        "# Empresas grandes pagam salários maiores."
      ],
      "execution_count": 48,
      "outputs": [
        {
          "output_type": "execute_result",
          "data": {
            "text/plain": [
              "<matplotlib.axes._subplots.AxesSubplot at 0x7f9a37bd0210>"
            ]
          },
          "metadata": {
            "tags": []
          },
          "execution_count": 48
        },
        {
          "output_type": "display_data",
          "data": {
            "image/png": "[encoded data removed]",
            "text/plain": [
              "<Figure size 432x288 with 1 Axes>"
            ]
          },
          "metadata": {
            "tags": [],
            "needs_background": "light"
          }
        }
      ]
    },
    {
      "cell_type": "code",
      "metadata": {
        "colab": {
          "base_uri": "https://localhost:8080/",
          "height": 265
        },
        "id": "m2g-NbRLVbGs",
        "outputId": "cc85e617-2766-4f1d-e4e9-61e89fd64042"
      },
      "source": [
        "# Salário por escolaridade:\n",
        "\n",
        "dados.groupby('escolaridade')['salário'].mean().round(2).plot(kind = 'barh');\n",
        "\n",
        "# Profissionais com doutorado e Phd ganham muito mais. "
      ],
      "execution_count": 49,
      "outputs": [
        {
          "output_type": "display_data",
          "data": {
            "image/png": "[encoded data removed]",
            "text/plain": [
              "<Figure size 432x288 with 1 Axes>"
            ]
          },
          "metadata": {
            "tags": [],
            "needs_background": "light"
          }
        }
      ]
    },
    {
      "cell_type": "code",
      "metadata": {
        "colab": {
          "base_uri": "https://localhost:8080/"
        },
        "id": "5nCZTtQ2W6Vl",
        "outputId": "5b01d07a-a153-4656-fb56-189717a70b9b"
      },
      "source": [
        "# Contabilizando o grau de instrução:\n",
        "\n",
        "dados.groupby('escolaridade')['salário'].count()"
      ],
      "execution_count": 56,
      "outputs": [
        {
          "output_type": "execute_result",
          "data": {
            "text/plain": [
              "escolaridade\n",
              "Doutorado ou Phd               25\n",
              "Estudante de Graduação        247\n",
              "Graduação/Bacharelado         340\n",
              "Mestrado                       83\n",
              "Não tenho graduação formal     21\n",
              "Prefiro não informar            1\n",
              "Pós-graduação                 309\n",
              "Name: salário, dtype: int64"
            ]
          },
          "metadata": {
            "tags": []
          },
          "execution_count": 56
        }
      ]
    },
    {
      "cell_type": "code",
      "metadata": {
        "colab": {
          "base_uri": "https://localhost:8080/",
          "height": 142
        },
        "id": "XbP36aO2YNhx",
        "outputId": "ab902be7-227d-49a0-e4f9-f4e9639c9947"
      },
      "source": [
        "# Agrupando por sexo e tamanho de empresa:\n",
        "\n",
        "dados.groupby(['sexo', 'tamanho_da_empresa'])['salário'].mean().unstack().round(2) \n",
        "\n",
        "# O unstack deixa a saída do comando no formato de uma tabela organizada. \n",
        "# Em todo tamanho de empresa a discrepância salarial persiste. "
      ],
      "execution_count": 58,
      "outputs": [
        {
          "output_type": "execute_result",
          "data": {
            "text/html": [
              "<div>\n",
              "<style scoped>\n",
              "    .dataframe tbody tr th:only-of-type {\n",
              "        vertical-align: middle;\n",
              "    }\n",
              "\n",
              "    .dataframe tbody tr th {\n",
              "        vertical-align: top;\n",
              "    }\n",
              "\n",
              "    .dataframe thead th {\n",
              "        text-align: right;\n",
              "    }\n",
              "</style>\n",
              "<table border=\"1\" class=\"dataframe\">\n",
              "  <thead>\n",
              "    <tr style=\"text-align: right;\">\n",
              "      <th>tamanho_da_empresa</th>\n",
              "      <th>Grande</th>\n",
              "      <th>Média</th>\n",
              "      <th>Pequena</th>\n",
              "    </tr>\n",
              "    <tr>\n",
              "      <th>sexo</th>\n",
              "      <th></th>\n",
              "      <th></th>\n",
              "      <th></th>\n",
              "    </tr>\n",
              "  </thead>\n",
              "  <tbody>\n",
              "    <tr>\n",
              "      <th>Feminino</th>\n",
              "      <td>5231.88</td>\n",
              "      <td>4777.78</td>\n",
              "      <td>3660.38</td>\n",
              "    </tr>\n",
              "    <tr>\n",
              "      <th>Masculino</th>\n",
              "      <td>6416.10</td>\n",
              "      <td>5875.46</td>\n",
              "      <td>4854.98</td>\n",
              "    </tr>\n",
              "  </tbody>\n",
              "</table>\n",
              "</div>"
            ],
            "text/plain": [
              "tamanho_da_empresa   Grande    Média  Pequena\n",
              "sexo                                         \n",
              "Feminino            5231.88  4777.78  3660.38\n",
              "Masculino           6416.10  5875.46  4854.98"
            ]
          },
          "metadata": {
            "tags": []
          },
          "execution_count": 58
        }
      ]
    },
    {
      "cell_type": "code",
      "metadata": {
        "colab": {
          "base_uri": "https://localhost:8080/",
          "height": 319
        },
        "id": "jPpatO04Y2F2",
        "outputId": "daa7bc18-a545-4fa9-f521-829d435b8187"
      },
      "source": [
        "# Fazendo um gráfico por sexo e tamanho da empresa:\n",
        "\n",
        "dados.groupby(['sexo', 'tamanho_da_empresa'])['salário'].mean().unstack().plot(kind = 'bar');\n",
        "\n",
        "# O unstack neste caso faz o agrupamento dos dados."
      ],
      "execution_count": 61,
      "outputs": [
        {
          "output_type": "display_data",
          "data": {
            "image/png": "[encoded data removed]",
            "text/plain": [
              "<Figure size 432x288 with 1 Axes>"
            ]
          },
          "metadata": {
            "tags": [],
            "needs_background": "light"
          }
        }
      ]
    },
    {
      "cell_type": "code",
      "metadata": {
        "colab": {
          "base_uri": "https://localhost:8080/",
          "height": 313
        },
        "id": "zKrRu9Y8Zv21",
        "outputId": "46837875-1b6a-4bf8-889f-8ed6cfc35b50"
      },
      "source": [
        "# Transpondo o gráfico do sexo e tamanho da empresa:\n",
        "\n",
        "dados.groupby(['sexo', 'tamanho_da_empresa'])['salário'].mean().unstack().T.plot(kind = 'bar');\n",
        "\n",
        "# Agora o agrupamento foi por tamanho de empresa.\n",
        "\n",
        "# O unstack neste caso faz o agrupamento dos dados."
      ],
      "execution_count": 62,
      "outputs": [
        {
          "output_type": "display_data",
          "data": {
            "image/png": "[encoded data removed]",
            "text/plain": [
              "<Figure size 432x288 with 1 Axes>"
            ]
          },
          "metadata": {
            "tags": [],
            "needs_background": "light"
          }
        }
      ]
    },
    {
      "cell_type": "code",
      "metadata": {
        "colab": {
          "base_uri": "https://localhost:8080/",
          "height": 265
        },
        "id": "MYoUxWnSaLwy",
        "outputId": "8eda0304-1f1c-41b1-c82e-65dcc963a3bc"
      },
      "source": [
        "# Transpondo o gráfico do sexo e tamanho da empresa:\n",
        "\n",
        "dados.groupby(['sexo', 'tamanho_da_empresa'])['salário'].mean().unstack().T.plot(kind = 'barh');\n",
        "\n",
        "# Agora o agrupamento foi por tamanho de empresa.\n",
        "\n",
        "# O unstack neste caso faz o agrupamento dos dados."
      ],
      "execution_count": 63,
      "outputs": [
        {
          "output_type": "display_data",
          "data": {
            "image/png": "[encoded data removed]",
            "text/plain": [
              "<Figure size 432x288 with 1 Axes>"
            ]
          },
          "metadata": {
            "tags": [],
            "needs_background": "light"
          }
        }
      ]
    },
    {
      "cell_type": "code",
      "metadata": {
        "colab": {
          "base_uri": "https://localhost:8080/"
        },
        "id": "WB3LvSIibdY_",
        "outputId": "ecff14e1-622f-40ad-9692-48803a2b9a7b"
      },
      "source": [
        "# Usando o método filter para filtrar os dados com a função filter do Pandas:\n",
        "\n",
        "dados.filter(regex = 'P20').mean().sort_values(ascending = False) #vai pegar todas as colounas que contenham P20 (pergunta P20)\n",
        "\n",
        "# As técnicas mais utilizadas foram regressão linear e árvores de decisão."
      ],
      "execution_count": 65,
      "outputs": [
        {
          "output_type": "execute_result",
          "data": {
            "text/plain": [
              "('P20', 'linear_regression')             0.296884\n",
              "('P20', 'decision_tree')                 0.249858\n",
              "('P20', 'logistic_regression')           0.230028\n",
              "('P20', 'cluster_analysis')              0.208499\n",
              "('P20', 'random_forest')                 0.203399\n",
              "('P20', 'neural_networks')               0.151275\n",
              "('P20', 'nlp')                           0.142776\n",
              "('P20', 'bayesian_inference')            0.126912\n",
              "('P20', 'no_listed_methods')             0.108782\n",
              "('P20', 'svms')                          0.101983\n",
              "('P20', 'gradient_boosted_machines')     0.100283\n",
              "('P20', 'ensemble')                      0.095751\n",
              "('P20', 'glms')                          0.075921\n",
              "('P20', 'cnns')                          0.057224\n",
              "('P20', 'longitudinal_data_analysis')    0.057224\n",
              "('P20', 'rnns')                          0.055524\n",
              "('P20', 'joint analysis')                0.044759\n",
              "('P20', 'markov_chains')                 0.044759\n",
              "('P20', 'survival_analysis')             0.040793\n",
              "('P20', 'gans')                          0.013598\n",
              "('P20', 'hmms')                          0.010198\n",
              "dtype: float64"
            ]
          },
          "metadata": {
            "tags": []
          },
          "execution_count": 65
        }
      ]
    },
    {
      "cell_type": "code",
      "metadata": {
        "colab": {
          "base_uri": "https://localhost:8080/"
        },
        "id": "VEKHkeVpcT_6",
        "outputId": "afd37da5-3a3f-4ca7-db44-72e3277133bf"
      },
      "source": [
        "# Técnicas mais utilizadas pelos cientistas de dados:\n",
        "\n",
        "cds = dados[dados['profissao'] == 'Cientista de Dados']\n",
        "\n",
        "cds.filter(regex = 'P20').mean().sort_values(ascending = False)\n",
        "\n",
        "# As técnicas mais utilizadas pelos cientistas de dados foram a regressão linear e as árvores de decisão."
      ],
      "execution_count": 67,
      "outputs": [
        {
          "output_type": "execute_result",
          "data": {
            "text/plain": [
              "('P20', 'linear_regression')             0.740933\n",
              "('P20', 'logistic_regression')           0.673575\n",
              "('P20', 'decision_tree')                 0.652850\n",
              "('P20', 'random_forest')                 0.647668\n",
              "('P20', 'cluster_analysis')              0.601036\n",
              "('P20', 'neural_networks')               0.461140\n",
              "('P20', 'gradient_boosted_machines')     0.445596\n",
              "('P20', 'ensemble')                      0.398964\n",
              "('P20', 'nlp')                           0.352332\n",
              "('P20', 'bayesian_inference')            0.321244\n",
              "('P20', 'svms')                          0.305699\n",
              "('P20', 'glms')                          0.290155\n",
              "('P20', 'rnns')                          0.181347\n",
              "('P20', 'longitudinal_data_analysis')    0.176166\n",
              "('P20', 'cnns')                          0.165803\n",
              "('P20', 'markov_chains')                 0.134715\n",
              "('P20', 'survival_analysis')             0.134715\n",
              "('P20', 'joint analysis')                0.067358\n",
              "('P20', 'gans')                          0.046632\n",
              "('P20', 'hmms')                          0.041451\n",
              "('P20', 'no_listed_methods')             0.036269\n",
              "dtype: float64"
            ]
          },
          "metadata": {
            "tags": []
          },
          "execution_count": 67
        }
      ]
    },
    {
      "cell_type": "code",
      "metadata": {
        "colab": {
          "base_uri": "https://localhost:8080/"
        },
        "id": "77GO16Cac1cP",
        "outputId": "9c111571-174f-48cc-fac4-c1725093711c"
      },
      "source": [
        "# Linguagens de programação mais utilizadas:\n",
        "\n",
        "cds.filter(regex = 'P21').mean().sort_values(ascending = False)\n",
        "\n",
        "# A linguagem mais utilizada pelos cientistas de dados foi o Python. \n",
        "# As linguagens mais utilizadas foram Python, SQL e R. \n",
        "# Aprender Python é fundamental para o cientista de dados."
      ],
      "execution_count": 68,
      "outputs": [
        {
          "output_type": "execute_result",
          "data": {
            "text/plain": [
              "('P21', 'python')                 0.896373\n",
              "('P21', 'sql_')                   0.730570\n",
              "('P21', 'r')                      0.383420\n",
              "('P21', 'sas_stata')              0.088083\n",
              "('P21', 'scala')                  0.082902\n",
              "('P21', 'visual_basic_vba')       0.051813\n",
              "('P21', 'java')                   0.041451\n",
              "('P21', 'c_c++_c#')               0.031088\n",
              "('P21', 'matlab')                 0.025907\n",
              "('P21', 'julia')                  0.010363\n",
              "('P21', 'dotnet')                 0.010363\n",
              "('P21', 'php')                    0.005181\n",
              "('P21', 'no_listed_languages')    0.000000\n",
              "dtype: float64"
            ]
          },
          "metadata": {
            "tags": []
          },
          "execution_count": 68
        }
      ]
    },
    {
      "cell_type": "code",
      "metadata": {
        "colab": {
          "base_uri": "https://localhost:8080/"
        },
        "id": "WQhW3kASdssX",
        "outputId": "b6d28fb0-bafb-42f2-f7c3-5caa46e9ee9e"
      },
      "source": [
        "# Ferramentas de BI mais utilizadas no trabalho:\n",
        "\n",
        "cds.filter(regex = 'P27').mean().sort_values(ascending = False)\n",
        "\n",
        "# A ferramenta mais utilizada foi o MS Power BI"
      ],
      "execution_count": 69,
      "outputs": [
        {
          "output_type": "execute_result",
          "data": {
            "text/plain": [
              "('P27', 'microsoft_powerbi')               0.336788\n",
              "('P27', 'no_bi_tool_at_work')              0.217617\n",
              "('P27', 'metabase')                        0.186528\n",
              "('P27', 'tableau')                         0.176166\n",
              "('P27', 'google_data_studio')              0.134715\n",
              "('P27', 'qlik_view_qlik_sense')            0.088083\n",
              "('P27', 'other')                           0.077720\n",
              "('P27', 'only_excel_gsheets')              0.077720\n",
              "('P27', 'redash')                          0.041451\n",
              "('P27', 'ibm_analytics_cognos')            0.025907\n",
              "('P27', 'microstrategy')                   0.020725\n",
              "('P27', 'superset')                        0.020725\n",
              "('P27', 'looker')                          0.015544\n",
              "('P27', 'oracle_business_intelligence')    0.005181\n",
              "('P27', 'sap_business_objects')            0.005181\n",
              "('P27', 'birst')                           0.000000\n",
              "dtype: float64"
            ]
          },
          "metadata": {
            "tags": []
          },
          "execution_count": 69
        }
      ]
    },
    {
      "cell_type": "code",
      "metadata": {
        "colab": {
          "base_uri": "https://localhost:8080/"
        },
        "id": "TY3bKzrBfAyX",
        "outputId": "860619c2-a960-4acd-e76c-1e17c09cf399"
      },
      "source": [
        "# Salário de quem programa em Python:\n",
        "\n",
        "round(cds[cds[\"('P21', 'python')\"] == 1]['salário'].mean(), 2)"
      ],
      "execution_count": 73,
      "outputs": [
        {
          "output_type": "execute_result",
          "data": {
            "text/plain": [
              "6202.59"
            ]
          },
          "metadata": {
            "tags": []
          },
          "execution_count": 73
        }
      ]
    },
    {
      "cell_type": "code",
      "metadata": {
        "colab": {
          "base_uri": "https://localhost:8080/"
        },
        "id": "AiuFkVFNfoF8",
        "outputId": "734e3eb9-d239-4eff-d55a-5ead5001836f"
      },
      "source": [
        "# Salário de quem programa em R:\n",
        "\n",
        "round(cds[cds[\"('P21', 'r')\"] == 1]['salário'].mean(), 2)"
      ],
      "execution_count": 76,
      "outputs": [
        {
          "output_type": "execute_result",
          "data": {
            "text/plain": [
              "6122.22"
            ]
          },
          "metadata": {
            "tags": []
          },
          "execution_count": 76
        }
      ]
    },
    {
      "cell_type": "code",
      "metadata": {
        "colab": {
          "base_uri": "https://localhost:8080/"
        },
        "id": "RajKqBkkf7Y1",
        "outputId": "46b2f48c-09bd-4d7c-e682-4314c68b3efe"
      },
      "source": [
        "# Salário de quem programa em SQL:\n",
        "\n",
        "round(cds[cds[\"('P21', 'sql_')\"] == 1]['salário'].mean(), 2)"
      ],
      "execution_count": 78,
      "outputs": [
        {
          "output_type": "execute_result",
          "data": {
            "text/plain": [
              "6313.83"
            ]
          },
          "metadata": {
            "tags": []
          },
          "execution_count": 78
        }
      ]
    },
    {
      "cell_type": "code",
      "metadata": {
        "colab": {
          "base_uri": "https://localhost:8080/"
        },
        "id": "JbrC0BvRgXoc",
        "outputId": "bc26a5b3-a4ab-4501-ec34-68643f0a3b86"
      },
      "source": [
        "# Salário médio de quem programa em R e Python:\n",
        "\n",
        "round(cds[(cds[\"('P21', 'python')\"] == 1) & (cds[\"('P21', 'r')\"] == 1)]['salário'].mean(), 2)"
      ],
      "execution_count": 82,
      "outputs": [
        {
          "output_type": "execute_result",
          "data": {
            "text/plain": [
              "6320.51"
            ]
          },
          "metadata": {
            "tags": []
          },
          "execution_count": 82
        }
      ]
    },
    {
      "cell_type": "code",
      "metadata": {
        "colab": {
          "base_uri": "https://localhost:8080/"
        },
        "id": "Dr0sEVojiM4A",
        "outputId": "0e7feaf9-74e4-4161-aa07-6edc034ba44f"
      },
      "source": [
        "# Salário de quem programa em Python e não usa R:\n",
        "\n",
        "round(cds[(cds[\"('P21', 'python')\"] == 1) & (cds[\"('P21', 'r')\"] == 0)]['salário'].mean(), 2)"
      ],
      "execution_count": 83,
      "outputs": [
        {
          "output_type": "execute_result",
          "data": {
            "text/plain": [
              "6142.86"
            ]
          },
          "metadata": {
            "tags": []
          },
          "execution_count": 83
        }
      ]
    },
    {
      "cell_type": "code",
      "metadata": {
        "colab": {
          "base_uri": "https://localhost:8080/"
        },
        "id": "TufvfFfRiM59",
        "outputId": "c91b4d68-091a-40da-e646-bdd106e50d71"
      },
      "source": [
        "# Salário de quem programa em R e não usa Python:\n",
        "\n",
        "round(cds[(cds[\"('P21', 'python')\"] == 0) & (cds[\"('P21', 'r')\"] == 1)]['salário'].mean(), 2)"
      ],
      "execution_count": 84,
      "outputs": [
        {
          "output_type": "execute_result",
          "data": {
            "text/plain": [
              "4833.33"
            ]
          },
          "metadata": {
            "tags": []
          },
          "execution_count": 84
        }
      ]
    },
    {
      "cell_type": "code",
      "metadata": {
        "colab": {
          "base_uri": "https://localhost:8080/"
        },
        "id": "nOyO86A1iuvT",
        "outputId": "f29281dd-2983-430b-a3e2-669318cdc1eb"
      },
      "source": [
        "# Salário de quem programa não usa R ou Python:\n",
        "\n",
        "round(cds[(cds[\"('P21', 'python')\"] == 0) & (cds[\"('P21', 'r')\"] == 0)]['salário'].mean(), 2)\n",
        "\n",
        "# O salário médio de quem não usa essas duas linguagens foi muito maior."
      ],
      "execution_count": 85,
      "outputs": [
        {
          "output_type": "execute_result",
          "data": {
            "text/plain": [
              "7500.0"
            ]
          },
          "metadata": {
            "tags": []
          },
          "execution_count": 85
        }
      ]
    },
    {
      "cell_type": "code",
      "metadata": {
        "colab": {
          "base_uri": "https://localhost:8080/"
        },
        "id": "fO24jPUqi_VE",
        "outputId": "eca9cfc3-b77f-4b5a-9ceb-88455e978496"
      },
      "source": [
        "# Contagem de quem não usa R ou Python:\n",
        "\n",
        "round(cds[(cds[\"('P21', 'python')\"] == 0) & (cds[\"('P21', 'r')\"] == 0)]['salário'].count(), 2)\n",
        "\n",
        "# Apenas 7 pessoas não utilizam R ou Python."
      ],
      "execution_count": 93,
      "outputs": [
        {
          "output_type": "execute_result",
          "data": {
            "text/plain": [
              "7"
            ]
          },
          "metadata": {
            "tags": []
          },
          "execution_count": 93
        }
      ]
    },
    {
      "cell_type": "code",
      "metadata": {
        "colab": {
          "base_uri": "https://localhost:8080/"
        },
        "id": "jaDU1JmKl9yP",
        "outputId": "cdc83dfa-5df5-498b-9fb1-9a8d7381e3db"
      },
      "source": [
        "# Salário de quem usa SAS e Stata:\n",
        "\n",
        "round(cds[cds[\"('P21', 'sas_stata')\"] == 1]['salário'].mean(), 2)\n",
        "\n",
        "# O salário médio de quem usa SAS é muito maior. "
      ],
      "execution_count": 94,
      "outputs": [
        {
          "output_type": "execute_result",
          "data": {
            "text/plain": [
              "8769.23"
            ]
          },
          "metadata": {
            "tags": []
          },
          "execution_count": 94
        }
      ]
    },
    {
      "cell_type": "code",
      "metadata": {
        "colab": {
          "base_uri": "https://localhost:8080/"
        },
        "id": "htKO77aZll7M",
        "outputId": "f3253e67-123f-4fa8-bd5b-5edd74ab7bba"
      },
      "source": [
        "# Contagem de pessoas que utilizam SAS:\n",
        "\n",
        "cds[cds[\"('P21', 'sas_stata')\"] == 1]['salário'].count()"
      ],
      "execution_count": 96,
      "outputs": [
        {
          "output_type": "execute_result",
          "data": {
            "text/plain": [
              "13"
            ]
          },
          "metadata": {
            "tags": []
          },
          "execution_count": 96
        }
      ]
    },
    {
      "cell_type": "code",
      "metadata": {
        "colab": {
          "base_uri": "https://localhost:8080/"
        },
        "id": "JaH6JYOdm-YK",
        "outputId": "690843cd-66b7-49a7-8f91-5501ba6852b8"
      },
      "source": [
        "# Idadde média de quem programa em SAS:\n",
        "\n",
        "cds[cds[\"('P21', 'sas_stata')\"] == 1][\"('P1', 'age')\"].mean()\n",
        "\n",
        "# A idade média para quem usa SAS foi de 29,5, não muito alta."
      ],
      "execution_count": 100,
      "outputs": [
        {
          "output_type": "execute_result",
          "data": {
            "text/plain": [
              "29.5"
            ]
          },
          "metadata": {
            "tags": []
          },
          "execution_count": 100
        }
      ]
    },
    {
      "cell_type": "code",
      "metadata": {
        "colab": {
          "base_uri": "https://localhost:8080/"
        },
        "id": "DSvtRGhWoH4h",
        "outputId": "baa56145-c91c-4748-c77b-38376a3a6693"
      },
      "source": [
        "# Salário de quem programa em SAS por tamanho da empresa:\n",
        "\n",
        "cds[cds[\"('P21', 'sas_stata')\"] == 1].groupby('tamanho_da_empresa').count()['salário']\n",
        "\n",
        "# A tendência de quem usa SAS é estar em empresas grandes."
      ],
      "execution_count": 101,
      "outputs": [
        {
          "output_type": "execute_result",
          "data": {
            "text/plain": [
              "tamanho_da_empresa\n",
              "Grande     7\n",
              "Média      4\n",
              "Pequena    2\n",
              "Name: salário, dtype: int64"
            ]
          },
          "metadata": {
            "tags": []
          },
          "execution_count": 101
        }
      ]
    },
    {
      "cell_type": "code",
      "metadata": {
        "colab": {
          "base_uri": "https://localhost:8080/",
          "height": 282
        },
        "id": "OXky_l2oppj1",
        "outputId": "3d15bb8e-3f97-42c4-f2c1-319ec6204745"
      },
      "source": [
        "# Agrupando por tipo de trabalho:\n",
        "\n",
        "dados.groupby('tipo_de_trabalho')['salário'].mean().round(2).plot(kind = 'barh')"
      ],
      "execution_count": 102,
      "outputs": [
        {
          "output_type": "execute_result",
          "data": {
            "text/plain": [
              "<matplotlib.axes._subplots.AxesSubplot at 0x7f9a3cb1d4d0>"
            ]
          },
          "metadata": {
            "tags": []
          },
          "execution_count": 102
        },
        {
          "output_type": "display_data",
          "data": {
            "image/png": "[encoded data removed]",
            "text/plain": [
              "<Figure size 432x288 with 1 Axes>"
            ]
          },
          "metadata": {
            "tags": [],
            "needs_background": "light"
          }
        }
      ]
    },
    {
      "cell_type": "code",
      "metadata": {
        "colab": {
          "base_uri": "https://localhost:8080/"
        },
        "id": "cT0omWgxp_Hy",
        "outputId": "5e0dac09-4204-4dc8-b9d7-61970b6a4338"
      },
      "source": [
        "# Agrupando por tipo de trabalho:\n",
        "\n",
        "dados.groupby('tipo_de_trabalho')['salário'].count()\n",
        "\n",
        "# A maioria das pessoas estão contratadas como CLT."
      ],
      "execution_count": 103,
      "outputs": [
        {
          "output_type": "execute_result",
          "data": {
            "text/plain": [
              "tipo_de_trabalho\n",
              "Desempregado e não estou buscando recolocação      0\n",
              "Desempregado, buscando recolocação                 0\n",
              "Empreendedor ou Empregado (CNPJ)                 156\n",
              "Empregado (CTL)                                  688\n",
              "Estagiário                                       130\n",
              "Freelancer                                        17\n",
              "Prefiro não dizer                                  5\n",
              "Servidor Público                                  30\n",
              "Somente Estudante (graduação)                      0\n",
              "Somente Estudante (pós-graduação)                  0\n",
              "Trabalho na área Acadêmica/Pesquisador             0\n",
              "Name: salário, dtype: int64"
            ]
          },
          "metadata": {
            "tags": []
          },
          "execution_count": 103
        }
      ]
    },
    {
      "cell_type": "code",
      "metadata": {
        "colab": {
          "base_uri": "https://localhost:8080/"
        },
        "id": "VHGTCjdvqdyM",
        "outputId": "280c8471-d1b5-41ac-e2a7-3407fca17f40"
      },
      "source": [
        "# Salário médio por tipo de trabalho:\n",
        "\n",
        "dados.groupby('tipo_de_trabalho')['salário'].mean().round(2)\n",
        "\n",
        "# A maioria das pessoas estão contratadas como CLT."
      ],
      "execution_count": 107,
      "outputs": [
        {
          "output_type": "execute_result",
          "data": {
            "text/plain": [
              "tipo_de_trabalho\n",
              "Desempregado e não estou buscando recolocação        NaN\n",
              "Desempregado, buscando recolocação                   NaN\n",
              "Empreendedor ou Empregado (CNPJ)                 7977.56\n",
              "Empregado (CTL)                                  5693.31\n",
              "Estagiário                                       1438.46\n",
              "Freelancer                                       3441.18\n",
              "Prefiro não dizer                                6400.00\n",
              "Servidor Público                                 6966.67\n",
              "Somente Estudante (graduação)                        NaN\n",
              "Somente Estudante (pós-graduação)                    NaN\n",
              "Trabalho na área Acadêmica/Pesquisador               NaN\n",
              "Name: salário, dtype: float64"
            ]
          },
          "metadata": {
            "tags": []
          },
          "execution_count": 107
        }
      ]
    }
  ]
}